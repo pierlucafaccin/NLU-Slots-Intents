{
  "cells": [
    {
      "cell_type": "markdown",
      "metadata": {
        "id": "aFvq0jAA-9Ho"
      },
      "source": [
        "## All imports"
      ]
    },
    {
      "cell_type": "code",
      "execution_count": 1,
      "metadata": {
        "id": "HyO794DUJnU8"
      },
      "outputs": [],
      "source": [
        "from torch.nn.utils.rnn import pack_padded_sequence, pad_packed_sequence\n",
        "from sklearn.model_selection import train_test_split\n",
        "from sklearn.metrics import classification_report\n",
        "from sklearn.metrics import confusion_matrix\n",
        "from torch.utils.data import DataLoader\n",
        "from torch.utils.data import Dataset\n",
        "from torch.autograd import Variable\n",
        "import matplotlib.pyplot as plt\n",
        "from collections import Counter\n",
        "import torch.utils.data as data\n",
        "import torch.optim as optim\n",
        "from pprint import pprint\n",
        "import matplotlib as mp\n",
        "import torch.nn as nn\n",
        "from tqdm import tqdm\n",
        "import seaborn as sns\n",
        "import pandas as pd\n",
        "import numpy as np\n",
        "import sklearn\n",
        "import random\n",
        "import torch\n",
        "import json\n",
        "import os\n",
        "\n",
        "import random\n",
        "import numpy as np\n",
        "from sklearn.model_selection import train_test_split\n",
        "from collections import Counter\n",
        "import torch\n",
        "import os\n",
        "import json\n",
        "from pprint import pprint\n",
        "import torch.optim as optim\n",
        "import sklearn\n",
        "import matplotlib as mp\n",
        "import matplotlib.pyplot as plt\n",
        "import pandas as pd\n",
        "\n",
        "import spacy\n",
        "import en_core_web_sm\n",
        "\n",
        "nlp = en_core_web_sm.load()\n",
        "# Global variables\n",
        "device = 'cuda:0' if torch.cuda.is_available() else 'cpu' # cuda:0 means we are using the GPU with id 0, if you have multiple GPU\n",
        "os.environ['CUDA_LAUNCH_BLOCKING'] = \"1\" # Used to report errors on CUDA side\n",
        "PAD_TOKEN = 0"
      ]
    },
    {
      "cell_type": "markdown",
      "metadata": {
        "id": "H0JN6bwYjcSe"
      },
      "source": [
        "## Importing DATABASE"
      ]
    },
    {
      "cell_type": "code",
      "execution_count": 2,
      "metadata": {
        "colab": {
          "base_uri": "https://localhost:8080/"
        },
        "id": "T6dfh4WwKMqJ",
        "outputId": "d685065b-0171-4f01-e5be-ec3a686a2383"
      },
      "outputs": [
        {
          "output_type": "stream",
          "name": "stdout",
          "text": [
            "Cloning into 'IntentSlotDatasets'...\n",
            "remote: Enumerating objects: 40, done.\u001b[K\n",
            "remote: Counting objects: 100% (40/40), done.\u001b[K\n",
            "remote: Compressing objects: 100% (29/29), done.\u001b[K\n",
            "remote: Total 40 (delta 9), reused 25 (delta 6), pack-reused 0\u001b[K\n",
            "Unpacking objects: 100% (40/40), 1.05 MiB | 4.97 MiB/s, done.\n"
          ]
        }
      ],
      "source": [
        "!git clone https://github.com/BrownFortress/IntentSlotDatasets"
      ]
    },
    {
      "cell_type": "markdown",
      "metadata": {
        "id": "jRpFeQSAiWa9"
      },
      "source": [
        "## Functions in cnll.py file"
      ]
    },
    {
      "cell_type": "code",
      "execution_count": 4,
      "metadata": {
        "id": "mXw0rlbdddT4"
      },
      "outputs": [],
      "source": [
        "import re\n",
        "\n",
        "\"\"\"\n",
        "Modified version of https://pypi.org/project/conlleval/\n",
        "\"\"\"\n",
        "\n",
        "\n",
        "def stats():\n",
        "    return {'cor': 0, 'hyp': 0, 'ref': 0}\n",
        "\n",
        "\n",
        "def evaluate(ref, hyp, otag='O'):\n",
        "    # evaluation for NLTK\n",
        "    aligned = align_hyp(ref, hyp)\n",
        "    return conlleval(aligned, otag=otag)\n",
        "\n",
        "\n",
        "def align_hyp(ref, hyp):\n",
        "    # align references and hypotheses for evaluation\n",
        "    # add last element of token tuple in hyp to ref\n",
        "    if len(ref) != len(hyp):\n",
        "        raise ValueError(\"Size Mismatch: ref: {} & hyp: {}\".format(len(ref), len(hyp)))\n",
        "\n",
        "    out = []\n",
        "    for i in range(len(ref)):\n",
        "        if len(ref[i]) != len(hyp[i]):\n",
        "            raise ValueError(\"Size Mismatch: ref: {} & hyp: {}\".format(len(ref), len(hyp)))\n",
        "        out.append([(*ref[i][j], hyp[i][j][-1]) for j in range(len(ref[i]))])\n",
        "    return out\n",
        "\n",
        "\n",
        "def conlleval(data, otag='O'):\n",
        "    # token, segment & class level counts for TP, TP+FP, TP+FN\n",
        "    tok = stats()\n",
        "    seg = stats()\n",
        "    cls = {}\n",
        "\n",
        "    for sent in data:\n",
        "\n",
        "        prev_ref = otag      # previous reference label\n",
        "        prev_hyp = otag      # previous hypothesis label\n",
        "        prev_ref_iob = None  # previous reference label IOB\n",
        "        prev_hyp_iob = None  # previous hypothesis label IOB\n",
        "\n",
        "        in_correct = False  # currently processed chunks is correct until now\n",
        "\n",
        "        for token in sent:\n",
        "\n",
        "            hyp_iob, hyp = parse_iob(token[-1])\n",
        "            ref_iob, ref = parse_iob(token[-2])\n",
        "\n",
        "            ref_e = is_eoc(ref, ref_iob, prev_ref, prev_ref_iob, otag)\n",
        "            hyp_e = is_eoc(hyp, hyp_iob, prev_hyp, prev_hyp_iob, otag)\n",
        "\n",
        "            ref_b = is_boc(ref, ref_iob, prev_ref, prev_ref_iob, otag)\n",
        "            hyp_b = is_boc(hyp, hyp_iob, prev_hyp, prev_hyp_iob, otag)\n",
        "\n",
        "            if not cls.get(ref) and ref:\n",
        "                cls[ref] = stats()\n",
        "\n",
        "            if not cls.get(hyp) and hyp:\n",
        "                cls[hyp] = stats()\n",
        "\n",
        "            # segment-level counts\n",
        "            if in_correct:\n",
        "                if ref_e and hyp_e and prev_hyp == prev_ref:\n",
        "                    in_correct = False\n",
        "                    seg['cor'] += 1\n",
        "                    cls[prev_ref]['cor'] += 1\n",
        "\n",
        "                elif ref_e != hyp_e or hyp != ref:\n",
        "                    in_correct = False\n",
        "\n",
        "            if ref_b and hyp_b and hyp == ref:\n",
        "                in_correct = True\n",
        "\n",
        "            if ref_b:\n",
        "                seg['ref'] += 1\n",
        "                cls[ref]['ref'] += 1\n",
        "\n",
        "            if hyp_b:\n",
        "                seg['hyp'] += 1\n",
        "                cls[hyp]['hyp'] += 1\n",
        "\n",
        "            # token-level counts\n",
        "            if ref == hyp and ref_iob == hyp_iob:\n",
        "                tok['cor'] += 1\n",
        "\n",
        "            tok['ref'] += 1\n",
        "\n",
        "            prev_ref = ref\n",
        "            prev_hyp = hyp\n",
        "            prev_ref_iob = ref_iob\n",
        "            prev_hyp_iob = hyp_iob\n",
        "\n",
        "        if in_correct:\n",
        "            seg['cor'] += 1\n",
        "            cls[prev_ref]['cor'] += 1\n",
        "\n",
        "    return summarize(seg, cls)\n",
        "\n",
        "\n",
        "def parse_iob(t):\n",
        "    m = re.match(r'^([^-]*)-(.*)$', t)\n",
        "    return m.groups() if m else (t, None)\n",
        "\n",
        "\n",
        "def is_boc(lbl, iob, prev_lbl, prev_iob, otag='O'):\n",
        "    \"\"\"\n",
        "    is beginning of a chunk\n",
        "\n",
        "    supports: IOB, IOBE, BILOU schemes\n",
        "        - {E,L} --> last\n",
        "        - {S,U} --> unit\n",
        "\n",
        "    :param lbl: current label\n",
        "    :param iob: current iob\n",
        "    :param prev_lbl: previous label\n",
        "    :param prev_iob: previous iob\n",
        "    :param otag: out-of-chunk label\n",
        "    :return:\n",
        "    \"\"\"\n",
        "    boc = False\n",
        "\n",
        "    boc = True if iob in ['B', 'S', 'U'] else boc\n",
        "    boc = True if iob in ['E', 'L'] and prev_iob in ['E', 'L', 'S', otag] else boc\n",
        "    boc = True if iob == 'I' and prev_iob in ['S', 'L', 'E', otag] else boc\n",
        "\n",
        "    boc = True if lbl != prev_lbl and iob != otag and iob != '.' else boc\n",
        "\n",
        "    # these chunks are assumed to have length 1\n",
        "    boc = True if iob in ['[', ']'] else boc\n",
        "\n",
        "    return boc\n",
        "\n",
        "\n",
        "def is_eoc(lbl, iob, prev_lbl, prev_iob, otag='O'):\n",
        "    \"\"\"\n",
        "    is end of a chunk\n",
        "\n",
        "    supports: IOB, IOBE, BILOU schemes\n",
        "        - {E,L} --> last\n",
        "        - {S,U} --> unit\n",
        "\n",
        "    :param lbl: current label\n",
        "    :param iob: current iob\n",
        "    :param prev_lbl: previous label\n",
        "    :param prev_iob: previous iob\n",
        "    :param otag: out-of-chunk label\n",
        "    :return:\n",
        "    \"\"\"\n",
        "    eoc = False\n",
        "\n",
        "    eoc = True if iob in ['E', 'L', 'S', 'U'] else eoc\n",
        "    eoc = True if iob == 'B' and prev_iob in ['B', 'I'] else eoc\n",
        "    eoc = True if iob in ['S', 'U'] and prev_iob in ['B', 'I'] else eoc\n",
        "\n",
        "    eoc = True if iob == otag and prev_iob in ['B', 'I'] else eoc\n",
        "\n",
        "    eoc = True if lbl != prev_lbl and iob != otag and prev_iob != '.' else eoc\n",
        "\n",
        "    # these chunks are assumed to have length 1\n",
        "    eoc = True if iob in ['[', ']'] else eoc\n",
        "\n",
        "    return eoc\n",
        "\n",
        "\n",
        "def score(cor_cnt, hyp_cnt, ref_cnt):\n",
        "    # precision\n",
        "    p = 1 if hyp_cnt == 0 else cor_cnt / hyp_cnt\n",
        "    # recall\n",
        "    r = 0 if ref_cnt == 0 else cor_cnt / ref_cnt\n",
        "    # f-measure (f1)\n",
        "    f = 0 if p+r == 0 else (2*p*r)/(p+r)\n",
        "    return {\"precision\": p, \"recall\": r, \"f-measure\": f, \"support\": ref_cnt}\n",
        "\n",
        "\n",
        "def summarize(seg, cls):\n",
        "    # class-level\n",
        "    res = {lbl: score(cls[lbl]['cor'], cls[lbl]['hyp'], cls[lbl]['ref']) for lbl in set(cls.keys())}\n",
        "    # micro\n",
        "    res.update({\"total\": score(seg.get('cor', 0), seg.get('hyp', 0), seg.get('ref', 0))})\n",
        "    return res\n",
        "\n",
        "\n",
        "def read_corpus_conll(corpus_file, fs=\"\\t\"):\n",
        "    \"\"\"\n",
        "    read corpus in CoNLL format\n",
        "    :param corpus_file: corpus in conll format\n",
        "    :param fs: field separator\n",
        "    :return: corpus\n",
        "    \"\"\"\n",
        "    featn = None  # number of features for consistency check\n",
        "    sents = []  # list to hold words list sequences\n",
        "    words = []  # list to hold feature tuples\n",
        "\n",
        "    for line in open(corpus_file):\n",
        "        line = line.strip()\n",
        "        if len(line.strip()) > 0:\n",
        "            feats = tuple(line.strip().split(fs))\n",
        "            if not featn:\n",
        "                featn = len(feats)\n",
        "            elif featn != len(feats) and len(feats) != 0:\n",
        "                raise ValueError(\"Unexpected number of columns {} ({})\".format(len(feats), featn))\n",
        "\n",
        "            words.append(feats)\n",
        "        else:\n",
        "            if len(words) > 0:\n",
        "                sents.append(words)\n",
        "                words = []\n",
        "    return sents\n",
        "\n",
        "\n",
        "def get_chunks(corpus_file, fs=\"\\t\", otag=\"O\"):\n",
        "    sents = read_corpus_conll(corpus_file, fs=fs)\n",
        "    return set([parse_iob(token[-1])[1] for sent in sents for token in sent if token[-1] != otag])"
      ]
    },
    {
      "cell_type": "markdown",
      "metadata": {
        "id": "EWeBWpJXi771"
      },
      "source": [
        "# Data Utils"
      ]
    },
    {
      "cell_type": "markdown",
      "metadata": {
        "id": "5etZmGJn0aXP"
      },
      "source": [
        "The function then loads the train and test datasets for two different datasets, 'ATIS' and 'SNIPS', and prints the number of samples in each dataset. \n",
        "It also prints a random sample of 5 items from each dataset by using random.sample function."
      ]
    },
    {
      "cell_type": "code",
      "execution_count": 5,
      "metadata": {
        "colab": {
          "base_uri": "https://localhost:8080/"
        },
        "id": "fUzz8JyNKB_c",
        "outputId": "987ffb62-d331-4ee5-f155-1ddafd293b3d"
      },
      "outputs": [
        {
          "output_type": "stream",
          "name": "stdout",
          "text": [
            "=========================================================================================\n",
            "Train samples: 4978\n",
            "Test samples: 893\n",
            "=========================================================================================\n",
            "Train samples: 13084\n",
            "Test samples: 700\n",
            "Dev samples: 700\n",
            "=========================================================================================\n",
            "{'intent': 'flight',\n",
            " 'slots': 'O O O O O O O B-fromloc.city_name I-fromloc.city_name '\n",
            "          'I-fromloc.city_name O B-toloc.city_name B-toloc.country_name O '\n",
            "          'B-depart_date.day_name O O B-depart_time.period_of_day',\n",
            " 'utterance': 'i need a listing of flights from new york city to montreal '\n",
            "              'canada departing thursday in the morning'}\n",
            "{'intent': 'airline',\n",
            " 'slots': 'O O O B-airline_code',\n",
            " 'utterance': 'what is airline dl'}\n",
            "{'intent': 'flight',\n",
            " 'slots': 'O O O O B-fromloc.city_name I-fromloc.city_name O '\n",
            "          'B-depart_date.day_name O O O B-toloc.city_name',\n",
            " 'utterance': 'show any flights leaving san francisco on sunday and arriving '\n",
            "              'in pittsburgh'}\n",
            "{'intent': 'flight',\n",
            " 'slots': 'O B-airline_name O O B-depart_time.period_of_day '\n",
            "          'B-depart_time.period_of_day O O B-fromloc.city_name O '\n",
            "          'B-toloc.city_name I-toloc.city_name',\n",
            " 'utterance': 'does eastern have an early afternoon flight from boston to san '\n",
            "              'francisco'}\n",
            "{'intent': 'flight',\n",
            " 'slots': 'O O O O O B-fromloc.city_name O B-toloc.city_name B-round_trip '\n",
            "          'I-round_trip O B-depart_time.time_relative B-depart_time.time '\n",
            "          'I-depart_time.time O B-depart_date.day_name',\n",
            " 'utterance': 'i want a flight from milwaukee to orlando one way leaving after '\n",
            "              '5 pm on wednesday'}\n",
            "=========================================================================================\n",
            "{'intent': 'SearchScreeningEvent',\n",
            " 'slots': 'O O O O B-object_type I-object_type O B-location_name '\n",
            "          'I-location_name I-location_name',\n",
            " 'utterance': 'can i get the movie schedule for loews cineplex entertainment'}\n",
            "{'intent': 'BookRestaurant',\n",
            " 'slots': 'O O O O B-restaurant_type O O B-restaurant_name I-restaurant_name O '\n",
            "          'B-city B-state',\n",
            " 'utterance': 'please book me a restaurant reservation at first watch in '\n",
            "              'douglas  maine'}\n",
            "{'intent': 'GetWeather',\n",
            " 'slots': 'O O O O O O B-current_location I-current_location O '\n",
            "          'B-condition_description O',\n",
            " 'utterance': 'what is the forecast for the current spot for cloudy conditions'}\n",
            "{'intent': 'PlayMusic',\n",
            " 'slots': 'O O B-year B-music_item O B-artist O B-service',\n",
            " 'utterance': 'play a 1983 concerto by ayaka on itunes'}\n",
            "{'intent': 'SearchScreeningEvent',\n",
            " 'slots': 'O B-movie_type I-movie_type O O B-timeRange I-timeRange I-timeRange '\n",
            "          'O O B-spatial_relation B-object_location_type '\n",
            "          'I-object_location_type',\n",
            " 'utterance': 'what animated movies are playing in thirteen hours at the '\n",
            "              'closest movie theatre'}\n",
            "=========================================================================================\n"
          ]
        }
      ],
      "source": [
        "def load_data(path):\n",
        "    '''\n",
        "        input: path/to/data\n",
        "        output: json \n",
        "    '''\n",
        "    dataset = []\n",
        "    with open(path) as f:\n",
        "        dataset = json.loads(f.read())\n",
        "    return dataset\n",
        "\n",
        "ATIS_tmp_train_raw = load_data(os.path.join('/content/IntentSlotDatasets','ATIS','train.json'))\n",
        "ATIS_test_raw = load_data(os.path.join('/content/IntentSlotDatasets','ATIS','test.json'))\n",
        "print('='*89)\n",
        "print('Train samples:', len(ATIS_tmp_train_raw))\n",
        "print('Test samples:', len(ATIS_test_raw))\n",
        "print('='*89)\n",
        "\n",
        "SNIPS_train_raw = load_data(os.path.join('/content/IntentSlotDatasets','SNIPS','train.json'))\n",
        "SNIPS_test_raw = load_data(os.path.join('/content/IntentSlotDatasets','SNIPS','test.json'))\n",
        "SNIPS_dev_raw = load_data(os.path.join('/content/IntentSlotDatasets','SNIPS','valid.json'))\n",
        "print('Train samples:', len(SNIPS_train_raw))\n",
        "print('Test samples:', len(SNIPS_test_raw))\n",
        "print('Dev samples:', len(SNIPS_dev_raw))\n",
        "print('='*89)\n",
        "\n",
        "ATIS_indices = random.sample(range(len(ATIS_tmp_train_raw)), 5)\n",
        "SNIPS_indices = random.sample(range(len(SNIPS_train_raw)), 5)\n",
        "\n",
        "for index in ATIS_indices:\n",
        "  pprint(ATIS_tmp_train_raw[index])\n",
        "print('='*89)\n",
        "for index in SNIPS_indices:\n",
        "  pprint(SNIPS_train_raw[index])\n",
        "print('='*89)"
      ]
    },
    {
      "cell_type": "markdown",
      "metadata": {
        "id": "KkBgsi6j00Zb"
      },
      "source": [
        "We take a portion of the ATIS training and test data and splits it into three sets: train, dev, and test. The portion of the data that will be used for dev set is calculated by taking 10% of the total number of samples in both the train and test datasets, and then stratifying the data based on the 'intent' attribute of each sample. \n",
        "Then we remove any intents that only appear once in the dataset, as it makes no sense to put those in the dev set. \n",
        "Finally, we use the train_test_split function to split the data into train and dev sets, and then extends the train set with the intents that were removed earlier.And then we print the size of each dataset (train, dev, and test)."
      ]
    },
    {
      "cell_type": "code",
      "execution_count": 6,
      "metadata": {
        "colab": {
          "base_uri": "https://localhost:8080/"
        },
        "id": "osO6GWQOKDb8",
        "outputId": "6e485d2b-f1f4-403f-bf43-4becaed35732"
      },
      "outputs": [
        {
          "output_type": "stream",
          "name": "stdout",
          "text": [
            "=========================================================================================\n",
            "TRAIN size: 4381\n",
            "=========================================================================================\n",
            "DEV size: 597\n",
            "=========================================================================================\n",
            "TEST size: 893\n",
            "=========================================================================================\n"
          ]
        }
      ],
      "source": [
        "portion = round(((len(ATIS_tmp_train_raw) + len(ATIS_test_raw)) * 0.10)/(len(ATIS_tmp_train_raw)),2)\n",
        "\n",
        "ATIS_intents = [x['intent'] for x in ATIS_tmp_train_raw] # We stratify on intents\n",
        "ATIS_count_y = Counter(ATIS_intents)\n",
        "\n",
        "ATIS_X = []\n",
        "ATIS_Y = []\n",
        "ATIS_mini_Train = []\n",
        "\n",
        "for id_y, y in enumerate(ATIS_intents):\n",
        "    if ATIS_count_y[y] > 1: # Some intents have only one instance, we put them in training\n",
        "        ATIS_X.append(ATIS_tmp_train_raw[id_y])\n",
        "        ATIS_Y.append(y)\n",
        "    else:\n",
        "        ATIS_mini_Train.append(ATIS_tmp_train_raw[id_y])\n",
        "# Random Stratify\n",
        "ATIS_X_train, ATIS_X_dev, ATIS_y_train, ATIS_y_dev = train_test_split(ATIS_X, ATIS_Y, test_size=portion, \n",
        "                                                    random_state=42, \n",
        "                                                    shuffle=True,\n",
        "                                                    stratify=ATIS_Y)\n",
        "ATIS_X_train.extend(ATIS_mini_Train)\n",
        "ATIS_train_raw = ATIS_X_train\n",
        "ATIS_dev_raw = ATIS_X_dev\n",
        "\n",
        "y_test_ATIS = [x['intent'] for x in ATIS_test_raw]\n",
        "\n",
        "# Dataset size\n",
        "print('='*89)\n",
        "print('TRAIN size:', len(ATIS_train_raw))\n",
        "print('='*89)\n",
        "print('DEV size:', len(ATIS_dev_raw))\n",
        "print('='*89)\n",
        "print('TEST size:', len(ATIS_test_raw))\n",
        "print('='*89)"
      ]
    },
    {
      "cell_type": "markdown",
      "metadata": {
        "id": "Jhkenh1011Zw"
      },
      "source": [
        "Lang function to map words, slots, intents to unique id's."
      ]
    },
    {
      "cell_type": "code",
      "execution_count": 7,
      "metadata": {
        "id": "BJReiIIzNVm1"
      },
      "outputs": [],
      "source": [
        "class Lang():\n",
        "    def __init__(self, words, intents, slots, cutoff=0):\n",
        "        self.word2id = self.w2id(words, cutoff=cutoff, unk=True)\n",
        "        self.slot2id = self.lab2id(slots)\n",
        "        self.intent2id = self.lab2id(intents, pad=False)\n",
        "        self.id2word = {v:k for k, v in self.word2id.items()}\n",
        "        self.id2slot = {v:k for k, v in self.slot2id.items()}\n",
        "        self.id2intent = {v:k for k, v in self.intent2id.items()}\n",
        "        \n",
        "    def w2id(self, elements, cutoff=None, unk=True):\n",
        "        vocab = {'pad': PAD_TOKEN}\n",
        "        if unk:\n",
        "            vocab['unk'] = len(vocab)\n",
        "        count = Counter(elements)\n",
        "        for k, v in count.items():\n",
        "            if v > cutoff:\n",
        "                vocab[k] = len(vocab)\n",
        "        return vocab\n",
        "    \n",
        "    def lab2id(self, elements, pad=True):\n",
        "        vocab = {}\n",
        "        if pad:\n",
        "            vocab['pad'] = PAD_TOKEN\n",
        "        for elem in elements:\n",
        "                vocab[elem] = len(vocab)\n",
        "        return vocab"
      ]
    },
    {
      "cell_type": "markdown",
      "metadata": {
        "id": "08umK_Ni2bn_"
      },
      "source": [
        "ATIS_words: iterating through each sample in 'ATIS_train_raw' and getting the 'utterance' field, then splitting it into words.\n",
        "\n",
        "ATIS_corpus: concatenating the lists 'ATIS_train_raw', 'ATIS_dev_raw', and 'ATIS_test_raw'.\n",
        "\n",
        "ATIS_slots: iterating through each sample in 'ATIS_corpus' and getting the 'slots' field, then splitting it into slots and adding it to the set.\n",
        "\n",
        "ATIS_intents: iterating through each sample in 'ATIS_corpus' and getting the 'intent' field, then adding it to the set.\n",
        "\n",
        "ATIS_lang: instance of the Lang class by passing in the three sets created earlier and an optional 'cutoff' parameter. This will initialize the class and create the three dictionaries word2id, slot2id, and intent2id."
      ]
    },
    {
      "cell_type": "code",
      "execution_count": 8,
      "metadata": {
        "id": "qQamv5WPNWRN"
      },
      "outputs": [],
      "source": [
        "# Create a list of all the words in the 'utterance' field of each sample in ATIS_train_raw\n",
        "ATIS_words = [word for line in ATIS_train_raw for word in line['utterance'].split()]\n",
        "\n",
        "# Concatenate the lists ATIS_train_raw, ATIS_dev_raw, and ATIS_test_raw\n",
        "ATIS_corpus = ATIS_train_raw + ATIS_dev_raw + ATIS_test_raw\n",
        "\n",
        "# Create a set of all the slot names in ATIS_corpus\n",
        "ATIS_slots = set(slot for line in ATIS_corpus for slot in line['slots'].split())\n",
        "\n",
        "# Create a set of all the intent names in ATIS_corpus\n",
        "ATIS_intents = set(line['intent'] for line in ATIS_corpus)\n",
        "\n",
        "# Instantiate the Lang class\n",
        "ATIS_lang = Lang(ATIS_words, ATIS_intents, ATIS_slots, cutoff=0)\n"
      ]
    },
    {
      "cell_type": "markdown",
      "metadata": {
        "id": "rQFuz_OQ3xfK"
      },
      "source": [
        "SNIPS_words: iterating through each sample in 'SNIPS_train_raw' and getting the 'utterance' field, then splitting it into words.\n",
        "\n",
        "SNIPS_corpus: concatenating the lists 'SNIPS_train_raw', 'SNIPS_dev_raw', and 'SNIPS_test_raw'.\n",
        "\n",
        "SNIPS_slots: iterating through each sample in 'SNIPS_corpus' and getting the 'slots' field, then splitting it into slots and adding it to the set.\n",
        "\n",
        "SNIPS_intents: iterating through each sample in 'SNIPS_corpus' and getting the 'intent' field, then adding it to the set.\n",
        "\n",
        "SNIPS_lang: instance of the Lang class by passing in the three sets created earlier and an optional 'cutoff' parameter. This will initialize the class and create the three dictionaries word2id, slot2id, and intent2id."
      ]
    },
    {
      "cell_type": "code",
      "execution_count": 9,
      "metadata": {
        "id": "uFS2ZPsZOjzb"
      },
      "outputs": [],
      "source": [
        "# Create a list of all the words in the 'utterance' field of each sample in SNIPS_train_raw\n",
        "SNIPS_words = [word for line in SNIPS_train_raw for word in line['utterance'].split()]\n",
        "\n",
        "# Concatenate the lists SNIPS_train_raw, SNIPS_dev_raw, and SNIPS_test_raw\n",
        "SNIPS_corpus = SNIPS_train_raw + SNIPS_dev_raw + SNIPS_test_raw\n",
        "\n",
        "# Create a set of all the slot names in SNIPS_corpus\n",
        "SNIPS_slots = set(slot for line in SNIPS_corpus for slot in line['slots'].split())\n",
        "\n",
        "# Create a set of all the intent names in SNIPS_corpus\n",
        "SNIPS_intents = set(line['intent'] for line in SNIPS_corpus)\n",
        "\n",
        "# Instantiate the Lang class\n",
        "SNIPS_lang = Lang(SNIPS_words, SNIPS_intents, SNIPS_slots, cutoff=0)\n"
      ]
    },
    {
      "cell_type": "markdown",
      "metadata": {
        "id": "BqHSiNB863hy"
      },
      "source": [
        "A print of the first 5 items of each of the three dictionaries, word2id, intent2id, and slot2id, that were created when the Lang class was instantiated.  \n",
        "The word2id dictionary maps words to unique integers, the intent2id dictionary maps intent names to unique integers, and the slot2id dictionary maps slot names to unique integers."
      ]
    },
    {
      "cell_type": "code",
      "execution_count": 10,
      "metadata": {
        "colab": {
          "base_uri": "https://localhost:8080/"
        },
        "id": "nOa7DvJ-OoL2",
        "outputId": "e53fafbe-bb87-4f69-cbfd-5e062d4ac6cc"
      },
      "outputs": [
        {
          "output_type": "stream",
          "name": "stdout",
          "text": [
            "=========================================================================================\n",
            "[('pad', 0), ('unk', 1), ('what', 2), ('type', 3), ('of', 4)]\n",
            "=========================================================================================\n",
            "[('airline+flight_no', 0), ('flight_time', 1), ('cheapest', 2), ('aircraft', 3), ('restriction', 4)]\n",
            "=========================================================================================\n",
            "[('pad', 0), ('I-city_name', 1), ('B-stoploc.airport_code', 2), ('B-toloc.airport_code', 3), ('I-depart_time.time_relative', 4)]\n",
            "=========================================================================================\n"
          ]
        }
      ],
      "source": [
        "print('='*89)\n",
        "print(list(ATIS_lang.word2id.items())[:5])\n",
        "print('='*89)\n",
        "print(list(ATIS_lang.intent2id.items())[:5])\n",
        "print('='*89)\n",
        "print(list(ATIS_lang.slot2id.items())[:5])\n",
        "print('='*89)"
      ]
    },
    {
      "cell_type": "code",
      "execution_count": 11,
      "metadata": {
        "colab": {
          "base_uri": "https://localhost:8080/"
        },
        "id": "ZtgQToeYRINv",
        "outputId": "8a3a50a0-9069-4bca-9f12-bfb64f90c133"
      },
      "outputs": [
        {
          "output_type": "stream",
          "name": "stdout",
          "text": [
            "=========================================================================================\n",
            "[('pad', 11250), ('unk', 1), ('listen', 2), ('to', 3), ('westbam', 4)]\n",
            "=========================================================================================\n",
            "[('SearchScreeningEvent', 0), ('RateBook', 1), ('SearchCreativeWork', 2), ('AddToPlaylist', 3), ('PlayMusic', 4)]\n",
            "=========================================================================================\n",
            "[('pad', 0), ('I-restaurant_name', 1), ('I-service', 2), ('B-restaurant_name', 3), ('I-playlist', 4)]\n",
            "=========================================================================================\n"
          ]
        }
      ],
      "source": [
        "print('='*89)\n",
        "print(list(SNIPS_lang.word2id.items())[:5])\n",
        "print('='*89)\n",
        "print(list(SNIPS_lang.intent2id.items())[:5])\n",
        "print('='*89)\n",
        "print(list(SNIPS_lang.slot2id.items())[:5])\n",
        "print('='*89)"
      ]
    },
    {
      "cell_type": "markdown",
      "metadata": {
        "id": "O-YoJfm-768T"
      },
      "source": [
        "Class used to convert the data into numerical format."
      ]
    },
    {
      "cell_type": "code",
      "execution_count": 12,
      "metadata": {
        "id": "IdU_emt5SYOS"
      },
      "outputs": [],
      "source": [
        "import torch\n",
        "import torch.utils.data as data\n",
        "\n",
        "class IntentsAndSlots(data.Dataset):\n",
        "    # Mandatory methods are __init__, __len__ and __getitem__\n",
        "    def __init__(self, dataset, lang, unk='unk'):\n",
        "        self.utterances = []\n",
        "        self.intents = []\n",
        "        self.slots = []\n",
        "        self.unk = unk\n",
        "        \n",
        "        for x in dataset:\n",
        "            self.utterances.append(x['utterance'])\n",
        "            self.slots.append(x['slots'])\n",
        "            self.intents.append(x['intent'])\n",
        "\n",
        "    # Convert to numbers\n",
        "        self.utt_ids = self.mapping_seq(self.utterances, lang.word2id)\n",
        "        self.slot_ids = self.mapping_seq(self.slots, lang.slot2id)\n",
        "        self.intent_ids = self.mapping_lab(self.intents, lang.intent2id)\n",
        "\n",
        "    def __len__(self):\n",
        "        return len(self.utterances)\n",
        "\n",
        "    def __getitem__(self, idx):\n",
        "        # Get the sequence of word ids for the given index\n",
        "        utt = torch.Tensor(self.utt_ids[idx])\n",
        "        # Get the sequence of slot ids for the given index\n",
        "        slots = torch.Tensor(self.slot_ids[idx])\n",
        "        # Get the intent id for the given index\n",
        "        intent = self.intent_ids[idx]\n",
        "        # Return a sample with the sequence of word ids, sequence of slot ids, and intent id\n",
        "        sample = {'utterance': utt, 'slots': slots, 'intent': intent}\n",
        "        return sample \n",
        "    \n",
        "    # Auxiliary methods\n",
        "    \n",
        "    def mapping_lab(self, data, mapper):\n",
        "        \"\"\"\n",
        "        Map a list of labels to a list of integers using the given mapping.\n",
        "        If a label is not in the mapping, it is mapped to the integer corresponding to the \"unk\" key.\n",
        "        \"\"\"      \n",
        "        return [mapper[x] if x in mapper else mapper[self.unk] for x in data]\n",
        "    \n",
        "    def mapping_seq(self, data, mapper): \n",
        "        \"\"\"\n",
        "        Map a list of sequences of tokens to a list of sequences of integers using the given mapping.\n",
        "        If a token is not in the mapping, it is mapped to the integer corresponding to the \"unk\" key.\n",
        "        \"\"\"\n",
        "        res = []\n",
        "        for seq in data:\n",
        "            tmp_seq = []\n",
        "            for x in seq.split():\n",
        "                if x in mapper:\n",
        "                    tmp_seq.append(mapper[x])\n",
        "                else:\n",
        "                    tmp_seq.append(mapper[self.unk])\n",
        "            res.append(tmp_seq)\n",
        "        return res\n"
      ]
    },
    {
      "cell_type": "markdown",
      "metadata": {
        "id": "qzZpwwZR8Q7w"
      },
      "source": [
        "Creation of dataset objects for training, validation and test for both ATIS and SNIPS datasets."
      ]
    },
    {
      "cell_type": "code",
      "execution_count": 13,
      "metadata": {
        "id": "Ygms4o7uSqGo"
      },
      "outputs": [],
      "source": [
        "# Create ATIS datasets\n",
        "\n",
        "ATIS_train_dataset = IntentsAndSlots(ATIS_train_raw, ATIS_lang)\n",
        "ATIS_dev_dataset = IntentsAndSlots(ATIS_dev_raw, ATIS_lang)\n",
        "ATIS_test_dataset = IntentsAndSlots(ATIS_test_raw, ATIS_lang)\n",
        "\n",
        "# Create SNIPS datasets\n",
        "\n",
        "SNIPS_train_dataset = IntentsAndSlots(SNIPS_train_raw, SNIPS_lang)\n",
        "SNIPS_dev_dataset = IntentsAndSlots(SNIPS_dev_raw, SNIPS_lang)\n",
        "SNIPS_test_dataset = IntentsAndSlots(SNIPS_test_raw, SNIPS_lang)"
      ]
    },
    {
      "cell_type": "code",
      "execution_count": 14,
      "metadata": {
        "colab": {
          "base_uri": "https://localhost:8080/"
        },
        "id": "put7n1ffW9m1",
        "outputId": "cbc08160-7012-4371-f219-5b5ad02d63f3"
      },
      "outputs": [
        {
          "output_type": "stream",
          "name": "stdout",
          "text": [
            "=========================================================================================\n",
            "Size of ATIS train dataset: 4381\n",
            "Size of ATIS dev dataset: 597\n",
            "Size of ATIS test dataset: 893\n",
            "=========================================================================================\n",
            "Size of SNIPS train dataset: 13084\n",
            "Size of SNIPS dev dataset: 700\n",
            "Size of SNIPS test dataset: 700\n",
            "=========================================================================================\n"
          ]
        }
      ],
      "source": [
        "print('='*89)\n",
        "print(f'Size of ATIS train dataset: {len(ATIS_train_dataset)}')\n",
        "print(f'Size of ATIS dev dataset: {len(ATIS_dev_dataset)}')\n",
        "print(f'Size of ATIS test dataset: {len(ATIS_test_dataset)}')\n",
        "print('='*89)\n",
        "print(f'Size of SNIPS train dataset: {len(SNIPS_train_dataset)}')\n",
        "print(f'Size of SNIPS dev dataset: {len(SNIPS_dev_dataset)}')\n",
        "print(f'Size of SNIPS test dataset: {len(SNIPS_test_dataset)}')\n",
        "print('='*89)"
      ]
    },
    {
      "cell_type": "markdown",
      "metadata": {
        "id": "_2b1tX2yIz1G"
      },
      "source": [
        "A function that sorts and collates the input data into tensors ready for use in a PyTorch DataLoader. It sorts the data by the length of the 'utterance' field in descending order, creates tensors for the source utterance, intent and y_slots and the lengths of the slots and loads these tensors on the specified device.  \n",
        "It returns a dictionary containing all the collated data."
      ]
    },
    {
      "cell_type": "code",
      "execution_count": 15,
      "metadata": {
        "id": "Y8pJyn8-XUN5"
      },
      "outputs": [],
      "source": [
        "from torch.utils.data import DataLoader\n",
        "\n",
        "def collate_fn(data):\n",
        "    def merge(sequences):\n",
        "        '''\n",
        "        merge from batch * sent_len to batch * max_len \n",
        "        '''\n",
        "        lengths = [len(seq) for seq in sequences]\n",
        "        max_len = 1 if max(lengths)==0 else max(lengths)\n",
        "        # Pad token is zero in our case\n",
        "        # So we create a matrix full of PAD_TOKEN (i.e. 0) with the shape \n",
        "        # batch_size X maximum length of a sequence\n",
        "        padded_seqs = torch.LongTensor(len(sequences), max_len).fill_(PAD_TOKEN)\n",
        "        for i, seq in enumerate(sequences):\n",
        "            end = lengths[i]\n",
        "            padded_seqs[i, :end] = seq # We copy each sequence into the matrix\n",
        "        # print(padded_seqs)\n",
        "        padded_seqs = padded_seqs.detach()  # We remove these tensors from the computational graph\n",
        "        return padded_seqs, lengths\n",
        "        \n",
        "    # Sort data by seq lengths\n",
        "    data.sort(key=lambda x: len(x['utterance']), reverse=True) \n",
        "    new_item = {}\n",
        "    for key in data[0].keys():\n",
        "        new_item[key] = [d[key] for d in data]\n",
        "    # We just need one length for packed pad seq, since len(utt) == len(slots)\n",
        "    src_utt, _ = merge(new_item['utterance'])\n",
        "    y_slots, y_lengths = merge(new_item[\"slots\"])\n",
        "    intent = torch.LongTensor(new_item[\"intent\"])\n",
        "    \n",
        "    src_utt = src_utt.to(device) # We load the Tensor on our seleceted device\n",
        "    y_slots = y_slots.to(device)\n",
        "    intent = intent.to(device)\n",
        "    y_lengths = torch.LongTensor(y_lengths).to(device)\n",
        "    \n",
        "    new_item[\"utterances\"] = src_utt\n",
        "    new_item[\"intents\"] = intent\n",
        "    new_item[\"y_slots\"] = y_slots\n",
        "    new_item[\"slots_len\"] = y_lengths\n",
        "    return new_item"
      ]
    },
    {
      "cell_type": "code",
      "execution_count": 16,
      "metadata": {
        "id": "FOIeHV8sn64d"
      },
      "outputs": [],
      "source": [
        "# ATIS Dataloaders \n",
        "\n",
        "ATIS_train_loader = DataLoader(ATIS_train_dataset, batch_size=128, collate_fn=collate_fn,  shuffle=True)\n",
        "ATIS_dev_loader = DataLoader(ATIS_dev_dataset, batch_size=64, collate_fn=collate_fn)\n",
        "ATIS_test_loader = DataLoader(ATIS_test_dataset, batch_size=64, collate_fn=collate_fn)"
      ]
    },
    {
      "cell_type": "code",
      "execution_count": 17,
      "metadata": {
        "id": "VzTSUX7ioAGn"
      },
      "outputs": [],
      "source": [
        "# SNIPS Dataloaders\n",
        "\n",
        "SNIPS_train_loader = DataLoader(SNIPS_train_dataset, batch_size=128, collate_fn=collate_fn,  shuffle=True)\n",
        "SNIPS_dev_loader = DataLoader(SNIPS_dev_dataset, batch_size=64, collate_fn=collate_fn)\n",
        "SNIPS_test_loader = DataLoader(SNIPS_test_dataset, batch_size=64, collate_fn=collate_fn)"
      ]
    },
    {
      "cell_type": "code",
      "execution_count": 18,
      "metadata": {
        "colab": {
          "base_uri": "https://localhost:8080/"
        },
        "id": "-qFBtPMZV_D6",
        "outputId": "cdd98394-d6a4-449a-fc39-1d48f02d4765"
      },
      "outputs": [
        {
          "output_type": "stream",
          "name": "stdout",
          "text": [
            "=========================================================================================\n",
            "130\n",
            "26\n",
            "ATIS vocabulary len:  863\n",
            "=========================================================================================\n",
            "73\n",
            "7\n",
            "SNIPS vocabulary len:  11419\n",
            "=========================================================================================\n"
          ]
        }
      ],
      "source": [
        "ATIS_out_slot = len(ATIS_lang.slot2id)\n",
        "ATIS_out_int = len(ATIS_lang.intent2id)\n",
        "ATIS_vocab_len = len(ATIS_lang.word2id)\n",
        "\n",
        "SNIPS_out_slot = len(SNIPS_lang.slot2id)\n",
        "SNIPS_out_int = len(SNIPS_lang.intent2id)\n",
        "SNIPS_vocab_len = len(SNIPS_lang.word2id)\n",
        "\n",
        "print('='*89)\n",
        "print(ATIS_out_slot)\n",
        "print(ATIS_out_int)\n",
        "print(\"ATIS vocabulary len: \", ATIS_vocab_len)\n",
        "print('='*89)\n",
        "print(SNIPS_out_slot)\n",
        "print(SNIPS_out_int)\n",
        "print(\"SNIPS vocabulary len: \", SNIPS_vocab_len)\n",
        "print('='*89)"
      ]
    },
    {
      "cell_type": "markdown",
      "metadata": {
        "id": "Zh7hCNj0Lw33"
      },
      "source": [
        "Function that is used to initialize the weights of the model.  \n",
        "It initializes the weights of the GRU, LSTM, and RNN layers using the Xavier uniform initialization and the weights of the Linear layers using uniform initialization with values between -0.01 and 0.01. \n",
        "It also fills the bias terms with 0 for all layers. This helps to improve the training and generalization performance of the model."
      ]
    },
    {
      "cell_type": "code",
      "execution_count": 19,
      "metadata": {
        "id": "bc4fHLwNorns"
      },
      "outputs": [],
      "source": [
        "def init_weights(mat):\n",
        "    for m in mat.modules():\n",
        "        if type(m) in [nn.GRU, nn.LSTM, nn.RNN]:\n",
        "            for name, param in m.named_parameters():\n",
        "                if 'weight_ih' in name:\n",
        "                    for idx in range(4):\n",
        "                        mul = param.shape[0]//4\n",
        "                        torch.nn.init.xavier_uniform_(param[idx*mul:(idx+1)*mul])\n",
        "                elif 'weight_hh' in name:\n",
        "                    for idx in range(4):\n",
        "                        mul = param.shape[0]//4\n",
        "                        torch.nn.init.orthogonal_(param[idx*mul:(idx+1)*mul])\n",
        "                elif 'bias' in name:\n",
        "                    param.data.fill_(0)\n",
        "        else:\n",
        "            if type(m) in [nn.Linear]:\n",
        "                torch.nn.init.uniform_(m.weight, -0.01, 0.01)\n",
        "                if m.bias != None:\n",
        "                    m.bias.data.fill_(0.01)"
      ]
    },
    {
      "cell_type": "markdown",
      "metadata": {
        "id": "-VgknZm2Mgvh"
      },
      "source": [
        "A function that creates two confusion matrices, one for slots and one for intents. The confusion matrices are initialized as 2D arrays with dimensions equal to the number of distinct slots or intents, respectively. The values in the matrices are filled with 0."
      ]
    },
    {
      "cell_type": "code",
      "execution_count": 20,
      "metadata": {
        "id": "qX1OkNsLoY1U"
      },
      "outputs": [],
      "source": [
        "def initialize_confusion_matrices(lang):\n",
        "  cm_slot = np.zeros((len(lang.id2slot), len(lang.id2slot)))\n",
        "  cm_intent = np.zeros((len(lang.id2intent), len(lang.id2intent)))\n",
        "  return cm_slot, cm_intent"
      ]
    },
    {
      "cell_type": "code",
      "execution_count": 21,
      "metadata": {
        "id": "-If5HtBsGT-T"
      },
      "outputs": [],
      "source": [
        "hid_size = 200\n",
        "emb_size = 300\n",
        "\n",
        "lr = 0.0001 # learning rate\n",
        "\n",
        "criterion_slots = nn.CrossEntropyLoss(ignore_index=PAD_TOKEN)\n",
        "criterion_intents = nn.CrossEntropyLoss()"
      ]
    },
    {
      "cell_type": "markdown",
      "metadata": {
        "id": "krbPlc38ptBf"
      },
      "source": [
        "# First Model"
      ]
    },
    {
      "cell_type": "code",
      "execution_count": 22,
      "metadata": {
        "id": "Vvm9OxNCqH4n"
      },
      "outputs": [],
      "source": [
        "class ModelIAS(nn.Module):\n",
        "\n",
        "    def __init__(self, hid_size, out_slot, out_int, emb_size, vocab_len, n_layer=1, pad_index=0):\n",
        "        super(ModelIAS, self).__init__()\n",
        "        \n",
        "        # Initialize the embedding layer with the given vocabulary length and embedding size\n",
        "        self.embedding = nn.Embedding(vocab_len, emb_size, padding_idx=pad_index)\n",
        "        # Initialize the LSTM layer with the given hidden size, number of layers, and bidirectional flag\n",
        "        self.utt_encoder = nn.LSTM(emb_size, hid_size, n_layer, bidirectional=False)    \n",
        "        # Initialize a linear layer for producing the output for slot filling\n",
        "        self.slot_out = nn.Linear(hid_size, out_slot)\n",
        "        # Initialize a linear layer for producing the output for intent classification\n",
        "        self.intent_out = nn.Linear(hid_size, out_int)\n",
        "        \n",
        "    def forward(self, utterance, seq_lengths):\n",
        "        # utterance.size() = batch_size X seq_len\n",
        "        # Convert the input utterance to embeddings\n",
        "        utt_emb = self.embedding(utterance) # utt_emb.size() = batch_size X seq_len X emb_size\n",
        "        # Reshape the embeddings to be of size: sequence length, batch size, embedding size\n",
        "        utt_emb = utt_emb.permute(1,0,2) # we need seq len first -> seq_len X batch_size X emb_size\n",
        "        \n",
        "        # Pack the padded sequence to remove the padding\n",
        "        packed_input = pack_padded_sequence(utt_emb, seq_lengths.cpu().numpy())\n",
        "        # Process the batch\n",
        "        packed_output, (last_hidden, cell) = self.utt_encoder(packed_input) \n",
        "        # Unpack the packed sequence\n",
        "        utt_encoded, input_sizes = pad_packed_sequence(packed_output)\n",
        "        # Get the last hidden state of the LSTM\n",
        "        last_hidden = last_hidden[-1,:,:]\n",
        "        # Compute the logits for the slot filling output\n",
        "        slots = self.slot_out(utt_encoded)\n",
        "        # Compute the logits for the intent classification output\n",
        "        intent = self.intent_out(last_hidden)\n",
        "        \n",
        "        # Slot size: seq_len, batch size, calsses \n",
        "        # Reshape the slots tensor to be of size: batch size, classes, sequence length for computing the loss\n",
        "        slots = slots.permute(1,2,0) # We need this for computing the loss\n",
        "        # Slot size: batch_size, classes, seq_len\n",
        "        # Return the slots and intent predictions\n",
        "        return slots, intent"
      ]
    },
    {
      "cell_type": "code",
      "execution_count": 23,
      "metadata": {
        "id": "hwLsFkA_ZBrJ"
      },
      "outputs": [],
      "source": [
        "def train_loop_first(data, optimizer, criterion_slots, criterion_intents, model):\n",
        "    model.train()\n",
        "    loss_array = []\n",
        "    for sample in data:\n",
        "        optimizer.zero_grad() # Zeroing the gradient\n",
        "        slots, intent = model(sample['utterances'], sample['slots_len'])\n",
        "        loss_intent = criterion_intents(intent, sample['intents'])\n",
        "        loss_slot = criterion_slots(slots, sample['y_slots'])\n",
        "        loss = loss_intent+loss_slot # In joint training we sum the losses. \n",
        "        loss_array.append(loss.item())\n",
        "        loss.backward() # Compute the gradient, deleting the computational graph\n",
        "        optimizer.step() # Update the weights\n",
        "    return loss_array\n",
        "\n",
        "def eval_loop_first(data, criterion_slots, criterion_intents, model, lang):\n",
        "    model.eval()\n",
        "    loss_array = []\n",
        "    \n",
        "    ref_intents = []\n",
        "    hyp_intents = []\n",
        "    \n",
        "    ref_slots = []\n",
        "    hyp_slots = []\n",
        "    \n",
        "    #softmax = nn.Softmax(dim=1) # Use Softmax if you need the actual probability\n",
        "    with torch.no_grad(): # It used to avoid the creation of computational graph\n",
        "        total_slot_labels = [x for x in range (len(lang.id2slot))]\n",
        "        total_intent_labels = [v for k, v in lang.id2intent.items()]\n",
        "        cm_slot = np.zeros((len(total_slot_labels), len(total_slot_labels)))\n",
        "        cm_intent = np.zeros((len(total_intent_labels), len(total_intent_labels)))\n",
        "        for sample in data:\n",
        "            slots, intents = model(sample['utterances'], sample['slots_len'])\n",
        "            loss_intent = criterion_intents(intents, sample['intents'])\n",
        "            loss_slot = criterion_slots(slots, sample['y_slots'])\n",
        "            loss = loss_intent + loss_slot \n",
        "            loss_array.append(loss.item())\n",
        "            # Intent inference\n",
        "            # Get the highest probable class\n",
        "            out_intents = [lang.id2intent[x] \n",
        "                           for x in torch.argmax(intents, dim=1).tolist()] \n",
        "            gt_intents = [lang.id2intent[x] for x in sample['intents'].tolist()]\n",
        "            ref_intents.extend(gt_intents)\n",
        "            hyp_intents.extend(out_intents)\n",
        "            # Slot inference \n",
        "            output_slots = torch.argmax(slots, dim=1)\n",
        "\n",
        "            ref_int_labels = []\n",
        "            hyp_int_labels = []\n",
        "\n",
        "            for id_seq, seq in enumerate(output_slots):\n",
        "                length = sample['slots_len'].tolist()[id_seq]\n",
        "                utt_ids = sample['utterance'][id_seq][:length].tolist()\n",
        "                gt_ids = sample['y_slots'][id_seq].tolist()\n",
        "                gt_slots = [lang.id2slot[elem] for elem in gt_ids[:length]]\n",
        "                utterance = [lang.id2word[elem] for elem in utt_ids]\n",
        "                to_decode = seq[:length].tolist()\n",
        "                ref_slots.append([(utterance[id_el], elem) for id_el, elem in enumerate(gt_slots)])\n",
        "                tmp_seq = []\n",
        "                for id_el, elem in enumerate(to_decode):\n",
        "                  tmp_seq.append((utterance[id_el], lang.id2slot[elem]))\n",
        "                  ref_int_labels.extend(gt_ids[:length])\n",
        "                  hyp_int_labels.extend(to_decode)\n",
        "                    \n",
        "                hyp_slots.append(tmp_seq)\n",
        "\n",
        "        X = [lang.id2slot[x] for x in ref_int_labels]\n",
        "        Y = [lang.id2slot[x] for x in hyp_int_labels]\n",
        "        labels = [lang.id2slot[x] for x in total_slot_labels]\n",
        "\n",
        "        cm_slot += sklearn.metrics.confusion_matrix(X, Y,labels = labels)\n",
        "        cm_intent += sklearn.metrics.confusion_matrix(ref_intents, hyp_intents,labels = total_intent_labels)\n",
        "    \n",
        "    try:            \n",
        "        results = evaluate(ref_slots, hyp_slots)\n",
        "    except Exception as ex: #if your model predict slot that are not in ref, it gives error\n",
        "        # Sometimes the model predics a class that is not in REF\n",
        "        results = None\n",
        "        \n",
        "    report_intent = classification_report(ref_intents, hyp_intents, \n",
        "                                          zero_division=False, output_dict=True)\n",
        "    \n",
        "    return results, report_intent, loss_array, cm_slot, cm_intent"
      ]
    },
    {
      "cell_type": "code",
      "execution_count": 24,
      "metadata": {
        "id": "0R7DyACGjRaG"
      },
      "outputs": [],
      "source": [
        "def train_model_first(dev_loader, train_loader, test_loader, model, lang, criterion_intents, criterion_slots, optimizer):\n",
        "  \n",
        "    n_epochs = 200\n",
        "    patience = 3\n",
        "    losses_train = []\n",
        "    losses_dev = []\n",
        "    sampled_epochs = []\n",
        "    best_f1 = 0\n",
        "    for x in tqdm(range(1,n_epochs)):\n",
        "        loss = train_loop_first(train_loader, optimizer, criterion_slots, \n",
        "                        criterion_intents, model)\n",
        "        if x % 5 == 0:\n",
        "          sampled_epochs.append(x)\n",
        "          losses_train.append(np.asarray(loss).mean())\n",
        "          results_dev, intent_res, loss_dev, trypl, _ = eval_loop_first(dev_loader, criterion_slots, \n",
        "                                                      criterion_intents, model, lang)\n",
        "          losses_dev.append(np.asarray(loss_dev).mean())\n",
        "          if results_dev != None:\n",
        "            f1 = results_dev['total']['f-measure']\n",
        "            acc = intent_res['accuracy']\n",
        "            if f1 > best_f1:\n",
        "                best_f1 = f1\n",
        "            else:\n",
        "                patience -= 1\n",
        "            if patience <= 0: # Early stopping with patience\n",
        "                break\n",
        "\n",
        "    results_test, intent_test, _, cm_slot, cm_intent = eval_loop_first(test_loader, criterion_slots, \n",
        "                                            criterion_intents, model, lang)\n",
        "\n",
        "    return results_test, intent_test, sampled_epochs, losses_train, losses_dev, cm_slot, cm_intent    "
      ]
    },
    {
      "cell_type": "markdown",
      "metadata": {
        "id": "R5B5u2EG13Go"
      },
      "source": [
        "## ATIS Training"
      ]
    },
    {
      "cell_type": "code",
      "execution_count": 25,
      "metadata": {
        "id": "hUUIVtxPFr-n"
      },
      "outputs": [],
      "source": [
        "ATIS_first_cm_slot, ATIS_first_cm_intent = initialize_confusion_matrices(ATIS_lang)"
      ]
    },
    {
      "cell_type": "code",
      "execution_count": 26,
      "metadata": {
        "id": "toP8KK6c0x8g"
      },
      "outputs": [],
      "source": [
        "ATIS_Firstmodel = ModelIAS(hid_size, ATIS_out_slot, ATIS_out_int, emb_size, ATIS_vocab_len, pad_index=PAD_TOKEN).to(device)\n",
        "ATIS_Firstmodel.apply(init_weights)\n",
        "\n",
        "ATIS_optimizer = optim.Adam(ATIS_Firstmodel.parameters(), lr=lr)"
      ]
    },
    {
      "cell_type": "code",
      "execution_count": 27,
      "metadata": {
        "colab": {
          "base_uri": "https://localhost:8080/"
        },
        "id": "fepDskZRpRt8",
        "outputId": "c94da1df-83d0-427c-9d71-fc63fc794d8f"
      },
      "outputs": [
        {
          "output_type": "stream",
          "name": "stderr",
          "text": [
            "100%|██████████| 199/199 [01:16<00:00,  2.61it/s]\n"
          ]
        },
        {
          "output_type": "stream",
          "name": "stdout",
          "text": [
            "=========================================================================================\n",
            "\n",
            "\n",
            "1  run\n",
            "Intent Acc  0.935 \n",
            "Slot F1 0.92 \n",
            "\n",
            "=========================================================================================\n"
          ]
        },
        {
          "output_type": "stream",
          "name": "stderr",
          "text": [
            " 65%|██████▍   | 129/199 [00:48<00:26,  2.64it/s]\n"
          ]
        },
        {
          "output_type": "stream",
          "name": "stdout",
          "text": [
            "=========================================================================================\n",
            "\n",
            "\n",
            "2  run\n",
            "Intent Acc  0.936 \n",
            "Slot F1 0.921 \n",
            "\n",
            "=========================================================================================\n"
          ]
        },
        {
          "output_type": "stream",
          "name": "stderr",
          "text": [
            " 90%|████████▉ | 179/199 [01:06<00:07,  2.70it/s]\n"
          ]
        },
        {
          "output_type": "stream",
          "name": "stdout",
          "text": [
            "=========================================================================================\n",
            "\n",
            "\n",
            "3  run\n",
            "Intent Acc  0.935 \n",
            "Slot F1 0.925 \n",
            "\n",
            "=========================================================================================\n"
          ]
        },
        {
          "output_type": "stream",
          "name": "stderr",
          "text": [
            " 72%|███████▏  | 144/199 [00:59<00:22,  2.40it/s]\n"
          ]
        },
        {
          "output_type": "stream",
          "name": "stdout",
          "text": [
            "=========================================================================================\n",
            "\n",
            "\n",
            "4  run\n",
            "Intent Acc  0.933 \n",
            "Slot F1 0.933 \n",
            "\n",
            "=========================================================================================\n"
          ]
        },
        {
          "output_type": "stream",
          "name": "stderr",
          "text": [
            " 67%|██████▋   | 134/199 [00:50<00:24,  2.65it/s]\n"
          ]
        },
        {
          "output_type": "stream",
          "name": "stdout",
          "text": [
            "=========================================================================================\n",
            "\n",
            "\n",
            "5  run\n",
            "Intent Acc  0.936 \n",
            "Slot F1 0.927 \n",
            "\n",
            "=========================================================================================\n",
            "=========================================================================================\n",
            "\n",
            "Slot F1  0.925 +- 0.005\n",
            "Intent Accuracy  0.935 +- 0.001\n",
            "=========================================================================================\n"
          ]
        }
      ],
      "source": [
        "ATIS_slots_f1s, ATIS_intents_acc = [], []\n",
        "ATIS_intent_test_list_first, ATIS_results_test_list_first = [], []\n",
        "for i in range(5):\n",
        "  criterion_slots = nn.CrossEntropyLoss(ignore_index=PAD_TOKEN)#.to(device)\n",
        "  criterion_intents = nn.CrossEntropyLoss()#.to(device)\n",
        "\n",
        "  #ATIS_Firstmodel = ModelIAS(hid_size, ATIS_out_slot, ATIS_out_int, emb_size, ATIS_vocab_len, pad_index=PAD_TOKEN).to(device)\n",
        "  ATIS_Firstmodel.apply(init_weights)\n",
        "  ATIS_results_test, ATIS_intents_test, ATIS_sampled_epochs, ATIS_losses_train, ATIS_losses_dev, cm_slot_first_atis, cm_intent_first_atis = train_model_first(ATIS_dev_loader,\n",
        "                                                                                                                                        ATIS_train_loader, \n",
        "                                                                                                                                        ATIS_test_loader, \n",
        "                                                                                                                                        ATIS_Firstmodel,\n",
        "                                                                                                                                        ATIS_lang, \n",
        "                                                                                                                                        criterion_intents, \n",
        "                                                                                                                                        criterion_slots, \n",
        "                                                                                                                                        ATIS_optimizer)\n",
        "\n",
        "  ATIS_intents_acc.append(ATIS_intents_test['accuracy'])\n",
        "  ATIS_slots_f1s.append(ATIS_results_test['total']['f-measure'])\n",
        "  ATIS_intent_test_list_first.append(ATIS_intents_test)\n",
        "  ATIS_results_test_list_first.append(ATIS_results_test)\n",
        "\n",
        "  ATIS_first_cm_slot += cm_slot_first_atis\n",
        "  ATIS_first_cm_intent += cm_intent_first_atis\n",
        "\n",
        "  print('='*89)\n",
        "  print(\"\\n\")\n",
        "  print(i+1,\" run\")\n",
        "  print(\"Intent Acc \",round(ATIS_intents_test['accuracy'],3),\"\\nSlot F1\",round(ATIS_results_test['total']['f-measure'],3),\"\\n\")\n",
        "  print('='*89)\n",
        "\n",
        "ATIS_slots_mean = np.mean(ATIS_slots_f1s)\n",
        "ATIS_slots_std = np.std(ATIS_slots_f1s)\n",
        "ATIS_intents_mean = np.mean(ATIS_intents_acc)\n",
        "ATIS_intents_std = np.std(ATIS_intents_acc)\n",
        "\n",
        "print('='*89)\n",
        "print('\\nSlot F1 ', round(ATIS_slots_mean,3), '+-', round(ATIS_slots_std,3))\n",
        "print('Intent Accuracy ', round(ATIS_intents_mean,3), '+-', round(ATIS_intents_std, 3))\n",
        "print('='*89)"
      ]
    },
    {
      "cell_type": "markdown",
      "metadata": {
        "id": "Of4q0sc-1635"
      },
      "source": [
        "## SNIPS Training"
      ]
    },
    {
      "cell_type": "code",
      "execution_count": 28,
      "metadata": {
        "id": "9qQrFpzSFzUt"
      },
      "outputs": [],
      "source": [
        "SNIPS_first_cm_slot, SNIPS_first_cm_intent = initialize_confusion_matrices(SNIPS_lang)"
      ]
    },
    {
      "cell_type": "code",
      "execution_count": 29,
      "metadata": {
        "id": "EH2mttKa1rph"
      },
      "outputs": [],
      "source": [
        "SNIPS_Firstmodel = ModelIAS(hid_size, SNIPS_out_slot, SNIPS_out_int, emb_size, SNIPS_vocab_len, pad_index=PAD_TOKEN).to(device)\n",
        "SNIPS_Firstmodel.apply(init_weights)\n",
        "\n",
        "SNIPS_optimizer = optim.Adam(SNIPS_Firstmodel.parameters(), lr=lr)"
      ]
    },
    {
      "cell_type": "code",
      "execution_count": 30,
      "metadata": {
        "colab": {
          "base_uri": "https://localhost:8080/"
        },
        "id": "bZLxopA12xcr",
        "outputId": "a7d10677-4d56-4c1a-83d2-adb48ee5d245"
      },
      "outputs": [
        {
          "output_type": "stream",
          "name": "stderr",
          "text": [
            " 52%|█████▏    | 104/199 [01:36<01:28,  1.08it/s]\n"
          ]
        },
        {
          "output_type": "stream",
          "name": "stdout",
          "text": [
            "=========================================================================================\n",
            "1  run\n",
            "Intent Acc  0.963 \n",
            "Slot F1 0.802 \n",
            "\n",
            "=========================================================================================\n"
          ]
        },
        {
          "output_type": "stream",
          "name": "stderr",
          "text": [
            " 52%|█████▏    | 104/199 [01:35<01:27,  1.09it/s]\n"
          ]
        },
        {
          "output_type": "stream",
          "name": "stdout",
          "text": [
            "=========================================================================================\n",
            "2  run\n",
            "Intent Acc  0.954 \n",
            "Slot F1 0.799 \n",
            "\n",
            "=========================================================================================\n"
          ]
        },
        {
          "output_type": "stream",
          "name": "stderr",
          "text": [
            " 32%|███▏      | 64/199 [00:58<02:03,  1.09it/s]\n"
          ]
        },
        {
          "output_type": "stream",
          "name": "stdout",
          "text": [
            "=========================================================================================\n",
            "3  run\n",
            "Intent Acc  0.967 \n",
            "Slot F1 0.823 \n",
            "\n",
            "=========================================================================================\n"
          ]
        },
        {
          "output_type": "stream",
          "name": "stderr",
          "text": [
            " 37%|███▋      | 74/199 [01:08<01:55,  1.08it/s]\n"
          ]
        },
        {
          "output_type": "stream",
          "name": "stdout",
          "text": [
            "=========================================================================================\n",
            "4  run\n",
            "Intent Acc  0.967 \n",
            "Slot F1 0.805 \n",
            "\n",
            "=========================================================================================\n"
          ]
        },
        {
          "output_type": "stream",
          "name": "stderr",
          "text": [
            " 35%|███▍      | 69/199 [01:03<01:58,  1.09it/s]"
          ]
        },
        {
          "output_type": "stream",
          "name": "stdout",
          "text": [
            "=========================================================================================\n",
            "5  run\n",
            "Intent Acc  0.956 \n",
            "Slot F1 0.805 \n",
            "\n",
            "=========================================================================================\n",
            "=========================================================================================\n",
            "\n",
            "Slot F1  0.807 +- 0.008\n",
            "Intent Accuracy  0.961 +- 0.005\n",
            "=========================================================================================\n"
          ]
        },
        {
          "output_type": "stream",
          "name": "stderr",
          "text": [
            "\n"
          ]
        }
      ],
      "source": [
        "SNIPS_slots_f1s, SNIPS_intents_acc = [], []\n",
        "SNIPS_intent_test_list_first, SNIPS_results_test_list_first = [], []\n",
        "for i in range(5):\n",
        "  criterion_slots = nn.CrossEntropyLoss(ignore_index=PAD_TOKEN)#.to(device)\n",
        "  criterion_intents = nn.CrossEntropyLoss()#.to(device)\n",
        "\n",
        "  #ATIS_Firstmodel = ModelIAS(hid_size, ATIS_out_slot, ATIS_out_int, emb_size, ATIS_vocab_len, pad_index=PAD_TOKEN).to(device)\n",
        "  SNIPS_Firstmodel.apply(init_weights)\n",
        "  SNIPS_results_test, SNIPS_intents_test, SNIPS_sampled_epochs, SNIPS_losses_train, SNIPS_losses_dev, cm_slot_first_snips, cm_intent_first_snips = train_model_first(SNIPS_dev_loader,\n",
        "                                                                                                                                        SNIPS_train_loader, \n",
        "                                                                                                                                        SNIPS_test_loader, \n",
        "                                                                                                                                        SNIPS_Firstmodel,\n",
        "                                                                                                                                        SNIPS_lang, \n",
        "                                                                                                                                        criterion_intents, \n",
        "                                                                                                                                        criterion_slots, \n",
        "                                                                                                                                        SNIPS_optimizer)\n",
        "\n",
        "  SNIPS_intents_acc.append(SNIPS_intents_test['accuracy'])\n",
        "  SNIPS_slots_f1s.append(SNIPS_results_test['total']['f-measure'])\n",
        "  SNIPS_intent_test_list_first.append(SNIPS_intents_test)\n",
        "  SNIPS_results_test_list_first.append(SNIPS_results_test)\n",
        "\n",
        "  SNIPS_first_cm_slot += cm_slot_first_snips\n",
        "  SNIPS_first_cm_intent += cm_intent_first_snips\n",
        "\n",
        "  print('='*89)\n",
        "  print(i+1,\" run\")\n",
        "  print(\"Intent Acc \",round(SNIPS_intents_test['accuracy'],3),\"\\nSlot F1\",round(SNIPS_results_test['total']['f-measure'],3),\"\\n\")\n",
        "  print('='*89)\n",
        "\n",
        "SNIPS_slots_mean = np.mean(SNIPS_slots_f1s)\n",
        "SNIPS_slots_std = np.std(SNIPS_slots_f1s)\n",
        "SNIPS_intents_mean = np.mean(SNIPS_intents_acc)\n",
        "SNIPS_intents_std = np.std(SNIPS_intents_acc)\n",
        "\n",
        "print('='*89)\n",
        "print('\\nSlot F1 ', round(SNIPS_slots_mean,3), '+-', round(SNIPS_slots_std,3))\n",
        "print('Intent Accuracy ', round(SNIPS_intents_mean,3), '+-', round(SNIPS_intents_std, 3))\n",
        "print('='*89)"
      ]
    },
    {
      "cell_type": "markdown",
      "metadata": {
        "id": "Rl9mtV_Q-bK7"
      },
      "source": [
        "# Second Model"
      ]
    },
    {
      "cell_type": "code",
      "execution_count": 31,
      "metadata": {
        "id": "N2Ulbcvg7KtO"
      },
      "outputs": [],
      "source": [
        "class ImprovedModelIAS(nn.Module):\n",
        "    def __init__(self, hid_size, out_slot, out_int, emb_size, vocab_len, n_layer=1, pad_index=0, dropout_p=0.2):\n",
        "        super(ImprovedModelIAS, self).__init__()\n",
        "        \n",
        "        # Initialize the embedding layer with the given vocabulary length and embedding size\n",
        "        self.embedding = nn.Embedding(vocab_len, emb_size, padding_idx=pad_index)\n",
        "        # Add a dropout layer to the embeddings\n",
        "        self.dropout = nn.Dropout(dropout_p)\n",
        "        # Initialize the LSTM layer with the given hidden size, number of layers, and bidirectional flag\n",
        "        self.utt_encoder = nn.LSTM(emb_size, hid_size, n_layer, bidirectional=True)    \n",
        "        # Initialize a linear layer for producing the output for slot filling\n",
        "        self.slot_out = nn.Linear(2 * hid_size, out_slot)  # Modify the input size to account for the bidirectional LSTM\n",
        "        # Initialize a linear layer for producing the output for intent classification\n",
        "        self.intent_out = nn.Linear(2 * hid_size, out_int)  # Modify the input size to account for the bidirectional LSTM\n",
        "        \n",
        "    def forward(self, utterance, seq_lengths):\n",
        "        # utterance.size() = batch_size X seq_len\n",
        "        # Convert the input utterance to embeddings\n",
        "        utt_emb = self.embedding(utterance) # utt_emb.size() = batch_size X seq_len X emb_size\n",
        "        # Apply dropout to the embeddings\n",
        "        utt_emb = self.dropout(utt_emb)\n",
        "        # Reshape the embeddings to be of size: sequence length, batch size, embedding size\n",
        "        utt_emb = utt_emb.permute(1,0,2) # we need seq len first -> seq_len X batch_size X emb_size\n",
        "        \n",
        "        # Pack the padded sequence to remove the padding\n",
        "        packed_input = pack_padded_sequence(utt_emb, seq_lengths.cpu().numpy())\n",
        "        # Process the batch\n",
        "        packed_output, (last_hidden, cell) = self.utt_encoder(packed_input) \n",
        "        # Unpack the packed sequence\n",
        "        utt_encoded, input_sizes = pad_packed_sequence(packed_output)\n",
        "        # Get the last hidden state of the LSTM\n",
        "        last_hidden_forward = last_hidden[0]\n",
        "        last_hidden_backward = last_hidden[1]\n",
        "        last_hidden = torch.cat((last_hidden_forward, last_hidden_backward), dim=1)\n",
        "        # Compute the logits for the slot filling output\n",
        "        slots = self.slot_out(utt_encoded)\n",
        "        # Compute the logits for the intent classification output\n",
        "        intent = self.intent_out(last_hidden)\n",
        "\n",
        "        # Slot size: seq_len, batch size, calsses  \n",
        "        # Reshape the slots tensor to be of size: batch size, classes, sequence length for computing the loss\n",
        "        slots = slots.permute(1,2,0) # We need this for computing the loss\n",
        "        # Slot size: batch_size, classes, seq_len\n",
        "        # Return the slots and intent predictions\n",
        "        return slots, intent"
      ]
    },
    {
      "cell_type": "code",
      "execution_count": 32,
      "metadata": {
        "id": "P7FMy7DNOedI"
      },
      "outputs": [],
      "source": [
        "import torch\n",
        "import torch.nn as nn\n",
        "\n",
        "def train_loop_second(data, optimizer, criterion_slots, criterion_intents, model):\n",
        "    model.train()\n",
        "    loss_array = []\n",
        "    slot_weight=1.0\n",
        "    intent_weight=1.0\n",
        "    regularization=0.0\n",
        "    for sample in data:\n",
        "        optimizer.zero_grad() # Zeroing the gradient\n",
        "        slots, intents = model(sample['utterances'], sample['slots_len'])\n",
        "        loss_intent = criterion_intents(intents, sample['intents'])\n",
        "        loss_slot = criterion_slots(slots, sample['y_slots'])\n",
        "        loss = intent_weight*loss_intent + slot_weight*loss_slot # Weighted sum of losses\n",
        "        # Add regularization term to the loss\n",
        "        if regularization > 0:\n",
        "            l2_loss = 0\n",
        "            for param in model.parameters():\n",
        "                l2_loss += param.pow(2).sum()\n",
        "            loss += regularization * l2_loss\n",
        "        loss_array.append(loss.item())\n",
        "        loss.backward() # Compute the gradient, deleting the computational graph\n",
        "        optimizer.step() # Update the weights\n",
        "    return loss_array\n",
        "\n",
        "def eval_loop_second(data, criterion_slots, criterion_intents, model, lang):\n",
        "    model.eval()\n",
        "    loss_array = []\n",
        "    \n",
        "    ref_intents = []\n",
        "    hyp_intents = []\n",
        "    \n",
        "    ref_slots = []\n",
        "    hyp_slots = []\n",
        "    \n",
        "    with torch.no_grad(): # It used to avoid the creation of computational graph\n",
        "        total_slot_labels = [x for x in range (len(lang.id2slot))]\n",
        "        total_intent_labels = [v for k, v in lang.id2intent.items()]\n",
        "        cm_slot = np.zeros((len(total_slot_labels), len(total_slot_labels)))\n",
        "        cm_intent = np.zeros((len(total_intent_labels), len(total_intent_labels)))\n",
        "        for sample in data:\n",
        "            slots, intents = model(sample['utterances'], sample['slots_len'])\n",
        "            loss_intent = criterion_intents(intents, sample['intents'])\n",
        "            loss_slot = criterion_slots(slots, sample['y_slots'])\n",
        "            loss = loss_intent + loss_slot \n",
        "            loss_array.append(loss.item())\n",
        "            # Intent inference\n",
        "            # Get the highest probable class\n",
        "            out_intents = [lang.id2intent[x] \n",
        "                           for x in torch.argmax(intents, dim=1).tolist()] \n",
        "            gt_intents = [lang.id2intent[x] for x in sample['intents'].tolist()]\n",
        "            ref_intents.extend(gt_intents)\n",
        "            hyp_intents.extend(out_intents)\n",
        "            # Slot inference \n",
        "            output_slots = torch.argmax(slots, dim=1)\n",
        "\n",
        "            ref_int_labels = []\n",
        "            hyp_int_labels = []\n",
        "\n",
        "            for id_seq, seq in enumerate(output_slots):\n",
        "                length = sample['slots_len'].tolist()[id_seq]\n",
        "                utt_ids = sample['utterance'][id_seq][:length].tolist()\n",
        "                gt_ids = sample['y_slots'][id_seq].tolist()\n",
        "                gt_slots = [lang.id2slot[elem] for elem in gt_ids[:length]]\n",
        "                utterance = [lang.id2word[elem] for elem in utt_ids]\n",
        "                to_decode = seq[:length].tolist()\n",
        "                ref_slots.append([(utterance[id_el], elem) for id_el, elem in enumerate(gt_slots)])\n",
        "                tmp_seq = []\n",
        "                for id_el, elem in enumerate(to_decode):\n",
        "                  tmp_seq.append((utterance[id_el], lang.id2slot[elem]))\n",
        "                  ref_int_labels.extend(gt_ids[:length])\n",
        "                  hyp_int_labels.extend(to_decode)\n",
        "                    \n",
        "                hyp_slots.append(tmp_seq)\n",
        "\n",
        "        X = [lang.id2slot[x] for x in ref_int_labels]\n",
        "        Y = [lang.id2slot[x] for x in hyp_int_labels]\n",
        "        labels = [lang.id2slot[x] for x in total_slot_labels]\n",
        "\n",
        "        cm_slot += sklearn.metrics.confusion_matrix(X, Y,labels = labels)\n",
        "        cm_intent += sklearn.metrics.confusion_matrix(ref_intents, hyp_intents,labels = total_intent_labels)\n",
        "    \n",
        "    try:            \n",
        "        results = evaluate(ref_slots, hyp_slots)\n",
        "    except Exception as ex: #if your model predict slot that are not in ref, it gives error\n",
        "        # Sometimes the model predics a class that is not in REF\n",
        "        results = None\n",
        "        \n",
        "    report_intent = classification_report(ref_intents, hyp_intents, \n",
        "                                          zero_division=False, output_dict=True)\n",
        "    \n",
        "    return results, report_intent, loss_array, cm_slot, cm_intent\n",
        "\n"
      ]
    },
    {
      "cell_type": "code",
      "execution_count": 33,
      "metadata": {
        "id": "dufHA0lfQQ4q"
      },
      "outputs": [],
      "source": [
        "def train_model_second(dev_loader, train_loader, test_loader, model, lang, criterion_intents, criterion_slots, optimizer):\n",
        "    \n",
        "    n_epochs = 200\n",
        "    patience = 3\n",
        "    losses_train = []\n",
        "    losses_dev = []\n",
        "    sampled_epochs = []\n",
        "    best_f1 = 0\n",
        "    for x in tqdm(range(1,n_epochs)):\n",
        "        loss = train_loop_second(train_loader, optimizer, criterion_slots, criterion_intents, model)\n",
        "        if x % 5 == 0:\n",
        "          sampled_epochs.append(x)\n",
        "          losses_train.append(np.asarray(loss).mean())\n",
        "          results_dev, intent_res, loss_dev, trypl, _ = eval_loop_second(dev_loader, criterion_slots, criterion_intents, model, lang)\n",
        "          losses_dev.append(np.asarray(loss_dev).mean())\n",
        "          if results_dev != None:\n",
        "            f1 = results_dev['total']['f-measure']\n",
        "            acc = intent_res['accuracy']\n",
        "            if f1 > best_f1:\n",
        "                best_f1 = f1\n",
        "            else:\n",
        "                patience -= 1\n",
        "            if patience <= 0: # Early stopping with patience\n",
        "                break # Not nice but it keeps the code clean\n",
        "\n",
        "    results_test, intent_test, _, cm_slot, cm_intent = eval_loop_second(test_loader, criterion_slots, \n",
        "                                            criterion_intents, model, lang)\n",
        "\n",
        "    return results_test, intent_test, sampled_epochs, losses_train, losses_dev, cm_slot, cm_intent  "
      ]
    },
    {
      "cell_type": "code",
      "execution_count": 34,
      "metadata": {
        "id": "taSKurfFarSj"
      },
      "outputs": [],
      "source": [
        "def train_model_second_loss(dev_loader, train_loader, test_loader, model, lang, criterion_intents, criterion_slots, optimizer):\n",
        "    \n",
        "    n_epochs = 200\n",
        "    patience = 3\n",
        "    losses_train = []\n",
        "    losses_dev = []\n",
        "    sampled_epochs = []\n",
        "    best_f1 = 0\n",
        "    for x in tqdm(range(1,n_epochs)):\n",
        "        loss = train_loop_first(train_loader, optimizer, criterion_slots, criterion_intents, model)\n",
        "        if x % 5 == 0:\n",
        "          sampled_epochs.append(x)\n",
        "          losses_train.append(np.asarray(loss).mean())\n",
        "          results_dev, intent_res, loss_dev, trypl, _ = eval_loop_first(dev_loader, criterion_slots, criterion_intents, model, lang)\n",
        "          losses_dev.append(np.asarray(loss_dev).mean())\n",
        "          if results_dev != None:\n",
        "            f1 = results_dev['total']['f-measure']\n",
        "            acc = intent_res['accuracy']\n",
        "            if f1 > best_f1:\n",
        "                best_f1 = f1\n",
        "            else:\n",
        "                patience -= 1\n",
        "            if patience <= 0: # Early stopping with patience\n",
        "                break # Not nice but it keeps the code clean\n",
        "\n",
        "    results_test, intent_test, _, cm_slot, cm_intent = eval_loop_first(test_loader, criterion_slots, \n",
        "                                            criterion_intents, model, lang)\n",
        "\n",
        "    return results_test, intent_test, sampled_epochs, losses_train, losses_dev, cm_slot, cm_intent  "
      ]
    },
    {
      "cell_type": "markdown",
      "metadata": {
        "id": "iuryU4ILzPKY"
      },
      "source": [
        "## ATIS Training"
      ]
    },
    {
      "cell_type": "code",
      "execution_count": 35,
      "metadata": {
        "id": "zCxOIePUHAp9"
      },
      "outputs": [],
      "source": [
        "ATIS_second_cm_slot, ATIS_second_cm_intent = initialize_confusion_matrices(ATIS_lang)"
      ]
    },
    {
      "cell_type": "code",
      "execution_count": 36,
      "metadata": {
        "id": "Srcmr2brS-fF"
      },
      "outputs": [],
      "source": [
        "ATIS_Secondmodel = ImprovedModelIAS(hid_size, ATIS_out_slot, ATIS_out_int, emb_size, ATIS_vocab_len, pad_index=PAD_TOKEN).to(device)\n",
        "ATIS_Secondmodel.apply(init_weights)\n",
        "\n",
        "ATIS_optimizer = optim.Adam(ATIS_Secondmodel.parameters(), lr=lr)"
      ]
    },
    {
      "cell_type": "code",
      "execution_count": 37,
      "metadata": {
        "colab": {
          "base_uri": "https://localhost:8080/"
        },
        "id": "ZIafq2QGQRD-",
        "outputId": "2288be5a-afd0-42d1-ca2d-712646f68672"
      },
      "outputs": [
        {
          "output_type": "stream",
          "name": "stderr",
          "text": [
            " 80%|███████▉  | 159/199 [01:11<00:17,  2.23it/s]\n"
          ]
        },
        {
          "output_type": "stream",
          "name": "stdout",
          "text": [
            "=========================================================================================\n",
            "\n",
            "\n",
            "1  run\n",
            "Intent Acc  0.952 \n",
            "Slot F1 0.943 \n",
            "\n",
            "=========================================================================================\n"
          ]
        },
        {
          "output_type": "stream",
          "name": "stderr",
          "text": [
            " 65%|██████▍   | 129/199 [00:58<00:31,  2.19it/s]\n"
          ]
        },
        {
          "output_type": "stream",
          "name": "stdout",
          "text": [
            "=========================================================================================\n",
            "\n",
            "\n",
            "2  run\n",
            "Intent Acc  0.954 \n",
            "Slot F1 0.943 \n",
            "\n",
            "=========================================================================================\n"
          ]
        },
        {
          "output_type": "stream",
          "name": "stderr",
          "text": [
            " 72%|███████▏  | 144/199 [01:05<00:24,  2.21it/s]\n"
          ]
        },
        {
          "output_type": "stream",
          "name": "stdout",
          "text": [
            "=========================================================================================\n",
            "\n",
            "\n",
            "3  run\n",
            "Intent Acc  0.957 \n",
            "Slot F1 0.945 \n",
            "\n",
            "=========================================================================================\n"
          ]
        },
        {
          "output_type": "stream",
          "name": "stderr",
          "text": [
            " 50%|████▉     | 99/199 [00:45<00:45,  2.18it/s]\n"
          ]
        },
        {
          "output_type": "stream",
          "name": "stdout",
          "text": [
            "=========================================================================================\n",
            "\n",
            "\n",
            "4  run\n",
            "Intent Acc  0.956 \n",
            "Slot F1 0.942 \n",
            "\n",
            "=========================================================================================\n"
          ]
        },
        {
          "output_type": "stream",
          "name": "stderr",
          "text": [
            " 57%|█████▋    | 114/199 [00:51<00:38,  2.20it/s]\n"
          ]
        },
        {
          "output_type": "stream",
          "name": "stdout",
          "text": [
            "=========================================================================================\n",
            "\n",
            "\n",
            "5  run\n",
            "Intent Acc  0.96 \n",
            "Slot F1 0.947 \n",
            "\n",
            "=========================================================================================\n",
            "=========================================================================================\n",
            "\n",
            "Slot F1  0.944 +- 0.002\n",
            "Intent Accuracy  0.956 +- 0.003\n",
            "=========================================================================================\n"
          ]
        }
      ],
      "source": [
        "# 5 epoche\n",
        "ATIS_slots_f1s, ATIS_intents_acc = [], []\n",
        "ATIS_intent_test_list_second, ATIS_results_test_list_second = [], []\n",
        "for i in range(5):\n",
        "  criterion_slots = nn.CrossEntropyLoss(ignore_index=PAD_TOKEN)#.to(device)\n",
        "  criterion_intents = nn.CrossEntropyLoss()#.to(device)\n",
        "\n",
        "  #ATIS_Firstmodel = ModelIAS(hid_size, ATIS_out_slot, ATIS_out_int, emb_size, ATIS_vocab_len, pad_index=PAD_TOKEN).to(device)\n",
        "  ATIS_Secondmodel.apply(init_weights)\n",
        "  ATIS_results_test, ATIS_intents_test, ATIS_sampled_epochs, ATIS_losses_train, ATIS_losses_dev, cm_slot_second_atis, cm_intent_second_atis = train_model_second(ATIS_dev_loader,\n",
        "                                                                                                                                        ATIS_train_loader, \n",
        "                                                                                                                                        ATIS_test_loader, \n",
        "                                                                                                                                        ATIS_Secondmodel,\n",
        "                                                                                                                                        ATIS_lang, \n",
        "                                                                                                                                        criterion_intents, \n",
        "                                                                                                                                        criterion_slots, \n",
        "                                                                                                                                        ATIS_optimizer)\n",
        "\n",
        "  ATIS_intents_acc.append(ATIS_intents_test['accuracy'])\n",
        "  ATIS_slots_f1s.append(ATIS_results_test['total']['f-measure'])\n",
        "  ATIS_intent_test_list_second.append(ATIS_intents_test)\n",
        "  ATIS_results_test_list_second.append(ATIS_results_test)\n",
        "\n",
        "  ATIS_second_cm_slot += cm_slot_second_atis\n",
        "  ATIS_second_cm_intent += cm_intent_second_atis\n",
        "\n",
        "  print('='*89)\n",
        "  print(\"\\n\")\n",
        "  print(i+1,\" run\")\n",
        "  print(\"Intent Acc \",round(ATIS_intents_test['accuracy'],3),\"\\nSlot F1\",round(ATIS_results_test['total']['f-measure'],3),\"\\n\")\n",
        "  print('='*89)\n",
        "\n",
        "ATIS_slots_mean = np.mean(ATIS_slots_f1s)\n",
        "ATIS_slots_std = np.std(ATIS_slots_f1s)\n",
        "ATIS_intents_mean = np.mean(ATIS_intents_acc)\n",
        "ATIS_intents_std = np.std(ATIS_intents_acc)\n",
        "\n",
        "print('='*89)\n",
        "print('\\nSlot F1 ', round(ATIS_slots_mean,3), '+-', round(ATIS_slots_std,3))\n",
        "print('Intent Accuracy ', round(ATIS_intents_mean,3), '+-', round(ATIS_intents_std, 3))\n",
        "print('='*89)"
      ]
    },
    {
      "cell_type": "markdown",
      "metadata": {
        "id": "rul8DUzGzU3a"
      },
      "source": [
        "## SNIPS Training"
      ]
    },
    {
      "cell_type": "code",
      "execution_count": 38,
      "metadata": {
        "id": "LACM5u-qHF3X"
      },
      "outputs": [],
      "source": [
        "SNIPS_second_cm_slot, SNIPS_second_cm_intent = initialize_confusion_matrices(SNIPS_lang)"
      ]
    },
    {
      "cell_type": "code",
      "execution_count": 39,
      "metadata": {
        "id": "gxOM7pgQzX0e"
      },
      "outputs": [],
      "source": [
        "SNIPS_secondmodel = ImprovedModelIAS(hid_size, SNIPS_out_slot, SNIPS_out_int, emb_size, SNIPS_vocab_len, pad_index=PAD_TOKEN).to(device)\n",
        "SNIPS_secondmodel.apply(init_weights)\n",
        "\n",
        "SNIPS_optimizer = optim.Adam(SNIPS_secondmodel.parameters(), lr=lr)"
      ]
    },
    {
      "cell_type": "code",
      "execution_count": 40,
      "metadata": {
        "colab": {
          "base_uri": "https://localhost:8080/"
        },
        "id": "8PPPYL21zUgC",
        "outputId": "cfb9915d-daf9-4265-c792-430d59bf6cf1"
      },
      "outputs": [
        {
          "output_type": "stream",
          "name": "stderr",
          "text": [
            " 55%|█████▍    | 109/199 [02:01<01:40,  1.12s/it]\n"
          ]
        },
        {
          "output_type": "stream",
          "name": "stdout",
          "text": [
            "=========================================================================================\n",
            "1  run\n",
            "Intent Acc  0.96 \n",
            "Slot F1 0.873 \n",
            "\n",
            "=========================================================================================\n"
          ]
        },
        {
          "output_type": "stream",
          "name": "stderr",
          "text": [
            " 42%|████▏     | 84/199 [01:33<02:08,  1.12s/it]\n"
          ]
        },
        {
          "output_type": "stream",
          "name": "stdout",
          "text": [
            "=========================================================================================\n",
            "2  run\n",
            "Intent Acc  0.969 \n",
            "Slot F1 0.875 \n",
            "\n",
            "=========================================================================================\n"
          ]
        },
        {
          "output_type": "stream",
          "name": "stderr",
          "text": [
            " 40%|███▉      | 79/199 [01:29<02:16,  1.14s/it]\n"
          ]
        },
        {
          "output_type": "stream",
          "name": "stdout",
          "text": [
            "=========================================================================================\n",
            "3  run\n",
            "Intent Acc  0.959 \n",
            "Slot F1 0.868 \n",
            "\n",
            "=========================================================================================\n"
          ]
        },
        {
          "output_type": "stream",
          "name": "stderr",
          "text": [
            " 37%|███▋      | 74/199 [01:23<02:20,  1.12s/it]\n"
          ]
        },
        {
          "output_type": "stream",
          "name": "stdout",
          "text": [
            "=========================================================================================\n",
            "4  run\n",
            "Intent Acc  0.964 \n",
            "Slot F1 0.878 \n",
            "\n",
            "=========================================================================================\n"
          ]
        },
        {
          "output_type": "stream",
          "name": "stderr",
          "text": [
            " 30%|██▉       | 59/199 [01:05<02:36,  1.12s/it]"
          ]
        },
        {
          "output_type": "stream",
          "name": "stdout",
          "text": [
            "=========================================================================================\n",
            "5  run\n",
            "Intent Acc  0.963 \n",
            "Slot F1 0.876 \n",
            "\n",
            "=========================================================================================\n",
            "=========================================================================================\n",
            "\n",
            "Slot F1  0.874 +- 0.003\n",
            "Intent Accuracy  0.963 +- 0.003\n",
            "=========================================================================================\n"
          ]
        },
        {
          "output_type": "stream",
          "name": "stderr",
          "text": [
            "\n"
          ]
        }
      ],
      "source": [
        "SNIPS_slots_f1s, SNIPS_intents_acc = [], []\n",
        "SNIPS_intent_test_list_second, SNIPS_results_test_list_second = [], []\n",
        "for i in range(5):\n",
        "  criterion_slots = nn.CrossEntropyLoss(ignore_index=PAD_TOKEN)#.to(device)\n",
        "  criterion_intents = nn.CrossEntropyLoss()#.to(device)\n",
        "\n",
        "  #ATIS_Firstmodel = ModelIAS(hid_size, ATIS_out_slot, ATIS_out_int, emb_size, ATIS_vocab_len, pad_index=PAD_TOKEN).to(device)\n",
        "  SNIPS_secondmodel.apply(init_weights)\n",
        "  SNIPS_results_test, SNIPS_intents_test, SNIPS_sampled_epochs, SNIPS_losses_train, SNIPS_losses_dev, cm_slot_second_snips, cm_intent_second_snips = train_model_second(SNIPS_dev_loader,\n",
        "                                                                                                                                        SNIPS_train_loader, \n",
        "                                                                                                                                        SNIPS_test_loader, \n",
        "                                                                                                                                        SNIPS_secondmodel,\n",
        "                                                                                                                                        SNIPS_lang, \n",
        "                                                                                                                                        criterion_intents, \n",
        "                                                                                                                                        criterion_slots, \n",
        "                                                                                                                                        SNIPS_optimizer)\n",
        "\n",
        "  SNIPS_intents_acc.append(SNIPS_intents_test['accuracy'])\n",
        "  SNIPS_slots_f1s.append(SNIPS_results_test['total']['f-measure'])\n",
        "  SNIPS_intent_test_list_second.append(SNIPS_intents_test)\n",
        "  SNIPS_results_test_list_second.append(SNIPS_results_test)\n",
        "\n",
        "  SNIPS_second_cm_slot += cm_slot_second_snips\n",
        "  SNIPS_second_cm_intent += cm_intent_second_snips\n",
        "\n",
        "  print('='*89)\n",
        "  print(i+1,\" run\")\n",
        "  print(\"Intent Acc \",round(SNIPS_intents_test['accuracy'],3),\"\\nSlot F1\",round(SNIPS_results_test['total']['f-measure'],3),\"\\n\")\n",
        "  print('='*89)\n",
        "\n",
        "SNIPS_slots_mean = np.mean(SNIPS_slots_f1s)\n",
        "SNIPS_slots_std = np.std(SNIPS_slots_f1s)\n",
        "SNIPS_intents_mean = np.mean(SNIPS_intents_acc)\n",
        "SNIPS_intents_std = np.std(SNIPS_intents_acc)\n",
        "\n",
        "print('='*89)\n",
        "print('\\nSlot F1 ', round(SNIPS_slots_mean,3), '+-', round(SNIPS_slots_std,3))\n",
        "print('Intent Accuracy ', round(SNIPS_intents_mean,3), '+-', round(SNIPS_intents_std, 3))\n",
        "print('='*89)"
      ]
    },
    {
      "cell_type": "markdown",
      "metadata": {
        "id": "MP4BS9X8c-JF"
      },
      "source": [
        "# Third Model"
      ]
    },
    {
      "cell_type": "code",
      "execution_count": 50,
      "metadata": {
        "id": "fxXIDQYEQhHu"
      },
      "outputs": [],
      "source": [
        "from torch.nn.functional import softmax\n",
        "\n",
        "# A flag indicating whether the model uses a bidirectional GRU for encoding.\n",
        "bidirectional = True\n",
        "\n",
        "class AttentionModelIAS(nn.Module):\n",
        "    \n",
        "    def __init__(self, hid_size, out_slot, out_int, emb_size, vocab_len, n_layer=1, pad_index=0, dropout_p=0.2):\n",
        "        super(AttentionModelIAS, self).__init__()\n",
        "\n",
        "        # Embedding layer that maps vocabulary indices to embedding vectors\n",
        "        self.embedding = nn.Embedding(vocab_len, emb_size, padding_idx=pad_index)\n",
        "        # GRU layer for encoding input sequences\n",
        "        self.encoder = nn.GRU(emb_size, hid_size, bidirectional=bidirectional, num_layers=n_layer, dropout=dropout_p)\n",
        "        # Depending on the bidirectional flag, determine the architecture for the attention mechanism and the classifiers\n",
        "        if bidirectional:\n",
        "            self.attention = nn.Linear(hid_size*2, 1)\n",
        "\n",
        "            self.intent_classifier = nn.Linear(hid_size*2, out_int)\n",
        "            self.slot_filler = nn.Linear(hid_size*2, out_slot)\n",
        "        else:\n",
        "            self.attention = nn.Linear(hid_size, 1)\n",
        "            \n",
        "            self.intent_classifier = nn.Linear(hid_size, out_int)\n",
        "            self.slot_filler = nn.Linear(hid_size, out_slot)\n",
        "\n",
        "\n",
        "    def forward(self, input_seq, seq_lengths):\n",
        "        # Transpose the input sequences for processing\n",
        "        input_seq = input_seq.permute(1, 0)\n",
        "        # Obtain the embedding vectors for the input sequences\n",
        "        embedded = self.embedding(input_seq)\n",
        "        # Pack the embedding vectors for processing with a GRU\n",
        "        embedded = nn.utils.rnn.pack_padded_sequence(embedded, seq_lengths.cpu())\n",
        "        # Perform encoding on the input sequences with a GRU\n",
        "        encoder_output, encoder_hidden = self.encoder(embedded)\n",
        "        # Unpack the encoded sequences\n",
        "        encoder_output, _ = nn.utils.rnn.pad_packed_sequence(encoder_output)\n",
        "        # Transpose the encoded sequences\n",
        "        encoder_output = encoder_output.permute(1, 0, 2)\n",
        "\n",
        "        # Compute attention context for intent classification\n",
        "        attention_scores = self.attention(encoder_output)\n",
        "        # Obtain the attention weights as the softmax of the attention scores\n",
        "        attention_weights = torch.softmax(attention_scores, dim=-1)\n",
        "        attention_context = torch.sum(attention_weights * encoder_output, dim=-2)\n",
        "        \n",
        "        # Intent classification\n",
        "        intent_logits = self.intent_classifier(attention_context)\n",
        "\n",
        "        # weight the slot logits by attention weights\n",
        "        slot_logits = self.slot_filler(encoder_output)\n",
        "        slot_logits = slot_logits * attention_weights\n",
        "        slot_logits = slot_logits.permute(0, 2, 1)\n",
        "\n",
        "        return slot_logits, intent_logits"
      ]
    },
    {
      "cell_type": "markdown",
      "metadata": {
        "id": "zn_uXxTA5Dec"
      },
      "source": [
        "## Monodirectional "
      ]
    },
    {
      "cell_type": "code",
      "execution_count": 42,
      "metadata": {
        "id": "6tWZdLXS-RxT"
      },
      "outputs": [],
      "source": [
        "import torch\n",
        "import torch.nn as nn\n",
        "\n",
        "def train_loop_third_monodirectional(data, optimizer, criterion_slots, criterion_intents, model): #SIMPLE VERSION\n",
        "    model.train()\n",
        "    loss_array = []\n",
        "    for sample in data:\n",
        "        optimizer.zero_grad() # Zeroing the gradient\n",
        "        slots, intent = model(sample['utterances'], sample['slots_len'])\n",
        "        loss_intent = criterion_intents(intent, sample['intents'])\n",
        "        loss_slot = criterion_slots(slots, sample['y_slots'])\n",
        "        loss = loss_intent+loss_slot # In joint training we sum the losses. \n",
        "        loss_array.append(loss.item())\n",
        "        loss.backward() # Compute the gradient, deleting the computational graph\n",
        "        optimizer.step() # Update the weights\n",
        "    return loss_array\n",
        "\n",
        "def eval_loop_third_monodirectional(data, criterion_slots, criterion_intents, model, lang):\n",
        "    model.eval()\n",
        "    loss_array = []\n",
        "    \n",
        "    ref_intents = []\n",
        "    hyp_intents = []\n",
        "    \n",
        "    ref_slots = []\n",
        "    hyp_slots = []\n",
        "    \n",
        "    with torch.no_grad(): # It used to avoid the creation of computational graph\n",
        "        total_slot_labels = [x for x in range (len(lang.id2slot))]\n",
        "        total_intent_labels = [v for k, v in lang.id2intent.items()]\n",
        "        cm_slot = np.zeros((len(total_slot_labels), len(total_slot_labels)))\n",
        "        cm_intent = np.zeros((len(total_intent_labels), len(total_intent_labels)))\n",
        "        for sample in data:\n",
        "            slots, intents = model(sample['utterances'], sample['slots_len'])\n",
        "            loss_intent = criterion_intents(intents, sample['intents'])\n",
        "            loss_slot = criterion_slots(slots, sample['y_slots'])\n",
        "            loss = loss_intent + loss_slot \n",
        "            loss_array.append(loss.item())\n",
        "            # Intent inference\n",
        "            # Get the highest probable class\n",
        "            out_intents = [lang.id2intent[x] \n",
        "                           for x in torch.argmax(intents, dim=1).tolist()] \n",
        "            gt_intents = [lang.id2intent[x] for x in sample['intents'].tolist()]\n",
        "            ref_intents.extend(gt_intents)\n",
        "            hyp_intents.extend(out_intents)\n",
        "            # Slot inference \n",
        "            output_slots = torch.argmax(slots, dim=1)\n",
        "\n",
        "            ref_int_labels = []\n",
        "            hyp_int_labels = []\n",
        "\n",
        "            for id_seq, seq in enumerate(output_slots):\n",
        "                length = sample['slots_len'].tolist()[id_seq]\n",
        "                utt_ids = sample['utterance'][id_seq][:length].tolist()\n",
        "                gt_ids = sample['y_slots'][id_seq].tolist()\n",
        "                gt_slots = [lang.id2slot[elem] for elem in gt_ids[:length]]\n",
        "                utterance = [lang.id2word[elem] for elem in utt_ids]\n",
        "                to_decode = seq[:length].tolist()\n",
        "                ref_slots.append([(utterance[id_el], elem) for id_el, elem in enumerate(gt_slots)])\n",
        "                tmp_seq = []\n",
        "                for id_el, elem in enumerate(to_decode):\n",
        "                  tmp_seq.append((utterance[id_el], lang.id2slot[elem]))\n",
        "                  ref_int_labels.extend(gt_ids[:length])\n",
        "                  hyp_int_labels.extend(to_decode)\n",
        "                    \n",
        "                hyp_slots.append(tmp_seq)\n",
        "\n",
        "        X = [lang.id2slot[x] for x in ref_int_labels]\n",
        "        Y = [lang.id2slot[x] for x in hyp_int_labels]\n",
        "        labels = [lang.id2slot[x] for x in total_slot_labels]\n",
        "\n",
        "        cm_slot += sklearn.metrics.confusion_matrix(X, Y,labels = labels)\n",
        "        cm_intent += sklearn.metrics.confusion_matrix(ref_intents, hyp_intents,labels = total_intent_labels)\n",
        "    \n",
        "    try:            \n",
        "        results = evaluate(ref_slots, hyp_slots)\n",
        "    except Exception as ex: #if your model predict slot that are not in ref, it gives error\n",
        "        # Sometimes the model predics a class that is not in REF\n",
        "        results = None\n",
        "        \n",
        "    report_intent = classification_report(ref_intents, hyp_intents, \n",
        "                                          zero_division=False, output_dict=True)\n",
        "    \n",
        "    return results, report_intent, loss_array, cm_slot, cm_intent"
      ]
    },
    {
      "cell_type": "code",
      "execution_count": 43,
      "metadata": {
        "id": "TVA2iGqYRvvu"
      },
      "outputs": [],
      "source": [
        "def train_model_third_monodirectional(dev_loader, train_loader, test_loader, model, lang, criterion_intents, criterion_slots, optimizer):\n",
        "    \n",
        "    n_epochs = 200\n",
        "    patience = 3\n",
        "    losses_train = []\n",
        "    losses_dev = []\n",
        "    sampled_epochs = []\n",
        "    best_f1 = 0\n",
        "    for x in tqdm(range(1,n_epochs)):\n",
        "        loss = train_loop_third_monodirectional(train_loader, optimizer, criterion_slots, criterion_intents, model)\n",
        "        if x % 5 == 0:\n",
        "          sampled_epochs.append(x)\n",
        "          losses_train.append(np.asarray(loss).mean())\n",
        "          results_dev, intent_res, loss_dev, trypl, _ = eval_loop_third_monodirectional(dev_loader, criterion_slots, criterion_intents, model, lang)\n",
        "          losses_dev.append(np.asarray(loss_dev).mean())\n",
        "          if results_dev != None:\n",
        "            f1 = results_dev['total']['f-measure']\n",
        "            acc = intent_res['accuracy']\n",
        "            if f1 > best_f1:\n",
        "                best_f1 = f1\n",
        "            else:\n",
        "                patience -= 1\n",
        "            if patience <= 0: # Early stopping with patience\n",
        "                break # Not nice but it keeps the code clean\n",
        "\n",
        "    results_test, intent_test, _, cm_slot, cm_intent = eval_loop_third_monodirectional(test_loader, criterion_slots, \n",
        "                                            criterion_intents, model, lang)\n",
        "\n",
        "    return results_test, intent_test, sampled_epochs, losses_train, losses_dev, cm_slot, cm_intent  "
      ]
    },
    {
      "cell_type": "markdown",
      "metadata": {
        "id": "Aehuw4IS_W63"
      },
      "source": [
        "### ATIS "
      ]
    },
    {
      "cell_type": "code",
      "execution_count": 44,
      "metadata": {
        "id": "MaU4SeoQH_w8"
      },
      "outputs": [],
      "source": [
        "ATIS_third_monodirectional_cm_slot, ATIS_third_monodirectional_cm_intent = initialize_confusion_matrices(ATIS_lang)"
      ]
    },
    {
      "cell_type": "code",
      "execution_count": 45,
      "metadata": {
        "colab": {
          "base_uri": "https://localhost:8080/"
        },
        "id": "FExb_fKA5IPf",
        "outputId": "7f6f04a3-00d5-47c7-f1b8-a23b99001bd0"
      },
      "outputs": [
        {
          "output_type": "stream",
          "name": "stderr",
          "text": [
            "/usr/local/lib/python3.8/dist-packages/torch/nn/modules/rnn.py:67: UserWarning: dropout option adds dropout after all but last recurrent layer, so non-zero dropout expects num_layers greater than 1, but got dropout=0.2 and num_layers=1\n",
            "  warnings.warn(\"dropout option adds dropout after all but last \"\n"
          ]
        }
      ],
      "source": [
        "ATIS_Thirdmodel = AttentionModelIAS(hid_size, ATIS_out_slot, ATIS_out_int, emb_size, ATIS_vocab_len, pad_index=PAD_TOKEN).to(device)\n",
        "ATIS_Thirdmodel.apply(init_weights)\n",
        "\n",
        "ATIS_optimizer = optim.Adam(ATIS_Thirdmodel.parameters(), lr=lr)"
      ]
    },
    {
      "cell_type": "code",
      "execution_count": 46,
      "metadata": {
        "colab": {
          "base_uri": "https://localhost:8080/"
        },
        "id": "JW1czVBc5Jyp",
        "outputId": "b7822a8a-f876-48df-e684-d82a56dcc2ad"
      },
      "outputs": [
        {
          "output_type": "stream",
          "name": "stderr",
          "text": [
            " 90%|████████▉ | 179/199 [01:08<00:07,  2.61it/s]\n"
          ]
        },
        {
          "output_type": "stream",
          "name": "stdout",
          "text": [
            "=========================================================================================\n",
            "1  run\n",
            "Intent Acc  0.953 \n",
            "Slot F1 0.926 \n",
            "\n",
            "=========================================================================================\n"
          ]
        },
        {
          "output_type": "stream",
          "name": "stderr",
          "text": [
            " 62%|██████▏   | 124/199 [00:46<00:28,  2.65it/s]\n"
          ]
        },
        {
          "output_type": "stream",
          "name": "stdout",
          "text": [
            "=========================================================================================\n",
            "2  run\n",
            "Intent Acc  0.952 \n",
            "Slot F1 0.927 \n",
            "\n",
            "=========================================================================================\n"
          ]
        },
        {
          "output_type": "stream",
          "name": "stderr",
          "text": [
            " 57%|█████▋    | 114/199 [00:42<00:31,  2.67it/s]\n"
          ]
        },
        {
          "output_type": "stream",
          "name": "stdout",
          "text": [
            "=========================================================================================\n",
            "3  run\n",
            "Intent Acc  0.95 \n",
            "Slot F1 0.922 \n",
            "\n",
            "=========================================================================================\n"
          ]
        },
        {
          "output_type": "stream",
          "name": "stderr",
          "text": [
            " 72%|███████▏  | 144/199 [00:53<00:20,  2.68it/s]\n"
          ]
        },
        {
          "output_type": "stream",
          "name": "stdout",
          "text": [
            "=========================================================================================\n",
            "4  run\n",
            "Intent Acc  0.96 \n",
            "Slot F1 0.932 \n",
            "\n",
            "=========================================================================================\n"
          ]
        },
        {
          "output_type": "stream",
          "name": "stderr",
          "text": [
            " 47%|████▋     | 94/199 [00:34<00:39,  2.69it/s]"
          ]
        },
        {
          "output_type": "stream",
          "name": "stdout",
          "text": [
            "=========================================================================================\n",
            "5  run\n",
            "Intent Acc  0.962 \n",
            "Slot F1 0.926 \n",
            "\n",
            "=========================================================================================\n",
            "=========================================================================================\n",
            "\n",
            "Slot F1  0.926 +- 0.003\n",
            "Intent Accuracy  0.955 +- 0.005\n",
            "=========================================================================================\n"
          ]
        },
        {
          "output_type": "stream",
          "name": "stderr",
          "text": [
            "\n"
          ]
        }
      ],
      "source": [
        "ATIS_slots_f1s, ATIS_intents_acc = [], []\n",
        "ATIS_intent_test_list_third_monodirectional, ATIS_results_test_list_third_monodirectional = [], []\n",
        "for i in range(5):\n",
        "  criterion_slots = nn.CrossEntropyLoss(ignore_index=PAD_TOKEN)#.to(device)\n",
        "  criterion_intents = nn.CrossEntropyLoss()#.to(device)\n",
        "  #ATIS_Firstmodel = ModelIAS(hid_size, ATIS_out_slot, ATIS_out_int, emb_size, ATIS_vocab_len, pad_index=PAD_TOKEN).to(device)\n",
        "  ATIS_Thirdmodel.apply(init_weights)\n",
        "  ATIS_results_test, ATIS_intents_test, ATIS_sampled_epochs, ATIS_losses_train, ATIS_losses_dev, cm_atis_third_monodirectional_slot, cm_atis_third_monodirectional_intent = train_model_third_monodirectional(ATIS_dev_loader,\n",
        "                                                                                                                                        ATIS_train_loader, \n",
        "                                                                                                                                        ATIS_test_loader, \n",
        "                                                                                                                                        ATIS_Thirdmodel,\n",
        "                                                                                                                                        ATIS_lang, \n",
        "                                                                                                                                        criterion_intents, \n",
        "                                                                                                                                        criterion_slots, \n",
        "                                                                                                                                        ATIS_optimizer)\n",
        "\n",
        "  ATIS_intents_acc.append(ATIS_intents_test['accuracy'])\n",
        "  ATIS_slots_f1s.append(ATIS_results_test['total']['f-measure'])\n",
        "  ATIS_intent_test_list_third_monodirectional.append(ATIS_intents_test)\n",
        "  ATIS_results_test_list_third_monodirectional.append(ATIS_results_test)\n",
        "\n",
        "  ATIS_third_monodirectional_cm_slot += cm_atis_third_monodirectional_slot\n",
        "  ATIS_third_monodirectional_cm_intent += cm_atis_third_monodirectional_intent\n",
        "\n",
        "  print('='*89)\n",
        "  print(i+1,\" run\")\n",
        "  print(\"Intent Acc \",round(ATIS_intents_test['accuracy'],3),\"\\nSlot F1\",round(ATIS_results_test['total']['f-measure'],3),\"\\n\")\n",
        "  print('='*89)\n",
        "\n",
        "ATIS_slots_mean = np.mean(ATIS_slots_f1s)\n",
        "ATIS_slots_std = np.std(ATIS_slots_f1s)\n",
        "ATIS_intents_mean = np.mean(ATIS_intents_acc)\n",
        "ATIS_intents_std = np.std(ATIS_intents_acc)\n",
        "\n",
        "print('='*89)\n",
        "print('\\nSlot F1 ', round(ATIS_slots_mean,3), '+-', round(ATIS_slots_std,3))\n",
        "print('Intent Accuracy ', round(ATIS_intents_mean,3), '+-', round(ATIS_intents_std, 3))\n",
        "print('='*89)"
      ]
    },
    {
      "cell_type": "markdown",
      "metadata": {
        "id": "Zi2TxjMv_mWT"
      },
      "source": [
        "### SNIPS"
      ]
    },
    {
      "cell_type": "code",
      "execution_count": 47,
      "metadata": {
        "id": "diy3xcBLIUaA"
      },
      "outputs": [],
      "source": [
        "SNIPS_third_monodirectional_cm_slot, SNIPS_third_monodirectional_cm_intent = initialize_confusion_matrices(SNIPS_lang)"
      ]
    },
    {
      "cell_type": "code",
      "execution_count": 48,
      "metadata": {
        "colab": {
          "base_uri": "https://localhost:8080/"
        },
        "id": "2uJE7Few_zJH",
        "outputId": "c6c25fc2-6745-40f6-9075-9ac35427a18c"
      },
      "outputs": [
        {
          "output_type": "stream",
          "name": "stderr",
          "text": [
            "/usr/local/lib/python3.8/dist-packages/torch/nn/modules/rnn.py:67: UserWarning: dropout option adds dropout after all but last recurrent layer, so non-zero dropout expects num_layers greater than 1, but got dropout=0.2 and num_layers=1\n",
            "  warnings.warn(\"dropout option adds dropout after all but last \"\n"
          ]
        }
      ],
      "source": [
        "SNIPS_Thirdmodel = AttentionModelIAS(hid_size, SNIPS_out_slot, SNIPS_out_int, emb_size, SNIPS_vocab_len, pad_index=PAD_TOKEN).to(device)\n",
        "SNIPS_Thirdmodel.apply(init_weights)\n",
        "\n",
        "SNIPS_optimizer = optim.Adam(SNIPS_Thirdmodel.parameters(), lr=lr)"
      ]
    },
    {
      "cell_type": "code",
      "execution_count": 49,
      "metadata": {
        "id": "mJdhig7x_40J",
        "outputId": "472b8093-90d7-4d70-d702-ad9a4d32846e",
        "colab": {
          "base_uri": "https://localhost:8080/"
        }
      },
      "outputs": [
        {
          "output_type": "stream",
          "name": "stderr",
          "text": [
            " 42%|████▏     | 84/199 [01:19<01:48,  1.06it/s]\n"
          ]
        },
        {
          "output_type": "stream",
          "name": "stdout",
          "text": [
            "=========================================================================================\n",
            "1  run\n",
            "Intent Acc  0.96 \n",
            "Slot F1 0.812 \n",
            "\n",
            "=========================================================================================\n"
          ]
        },
        {
          "output_type": "stream",
          "name": "stderr",
          "text": [
            " 40%|███▉      | 79/199 [01:14<01:53,  1.06it/s]\n"
          ]
        },
        {
          "output_type": "stream",
          "name": "stdout",
          "text": [
            "=========================================================================================\n",
            "2  run\n",
            "Intent Acc  0.957 \n",
            "Slot F1 0.809 \n",
            "\n",
            "=========================================================================================\n"
          ]
        },
        {
          "output_type": "stream",
          "name": "stderr",
          "text": [
            " 32%|███▏      | 64/199 [01:00<02:06,  1.06it/s]\n"
          ]
        },
        {
          "output_type": "stream",
          "name": "stdout",
          "text": [
            "=========================================================================================\n",
            "3  run\n",
            "Intent Acc  0.964 \n",
            "Slot F1 0.832 \n",
            "\n",
            "=========================================================================================\n"
          ]
        },
        {
          "output_type": "stream",
          "name": "stderr",
          "text": [
            " 37%|███▋      | 74/199 [01:10<01:58,  1.05it/s]\n"
          ]
        },
        {
          "output_type": "stream",
          "name": "stdout",
          "text": [
            "=========================================================================================\n",
            "4  run\n",
            "Intent Acc  0.963 \n",
            "Slot F1 0.828 \n",
            "\n",
            "=========================================================================================\n"
          ]
        },
        {
          "output_type": "stream",
          "name": "stderr",
          "text": [
            " 47%|████▋     | 94/199 [01:28<01:38,  1.06it/s]"
          ]
        },
        {
          "output_type": "stream",
          "name": "stdout",
          "text": [
            "=========================================================================================\n",
            "5  run\n",
            "Intent Acc  0.957 \n",
            "Slot F1 0.83 \n",
            "\n",
            "=========================================================================================\n",
            "=========================================================================================\n",
            "\n",
            "Slot F1  0.822 +- 0.01\n",
            "Intent Accuracy  0.96 +- 0.003\n",
            "=========================================================================================\n"
          ]
        },
        {
          "output_type": "stream",
          "name": "stderr",
          "text": [
            "\n"
          ]
        }
      ],
      "source": [
        "SNIPS_slots_f1s, SNIPS_intents_acc = [], []\n",
        "SNIPS_intent_test_list_third_monodirectional, SNIPS_results_test_list_third_monodirectional = [], []\n",
        "for i in range(5):\n",
        "  criterion_slots = nn.CrossEntropyLoss(ignore_index=PAD_TOKEN)#.to(device)\n",
        "  criterion_intents = nn.CrossEntropyLoss()#.to(device)\n",
        "  #ATIS_Firstmodel = ModelIAS(hid_size, ATIS_out_slot, ATIS_out_int, emb_size, ATIS_vocab_len, pad_index=PAD_TOKEN).to(device)\n",
        "  SNIPS_Thirdmodel.apply(init_weights)\n",
        "  SNIPS_results_test, SNIPS_intents_test, SNIPS_sampled_epochs, SNIPS_losses_train, SNIPS_losses_dev, cm_slot_third_monodirectional_snips, cm_intent_third_monodirectional_snips = train_model_third_monodirectional(SNIPS_dev_loader,\n",
        "                                                                                                                                        SNIPS_train_loader, \n",
        "                                                                                                                                        SNIPS_test_loader, \n",
        "                                                                                                                                        SNIPS_Thirdmodel,\n",
        "                                                                                                                                        SNIPS_lang, \n",
        "                                                                                                                                        criterion_intents, \n",
        "                                                                                                                                        criterion_slots, \n",
        "                                                                                                                                        SNIPS_optimizer)\n",
        "\n",
        "  SNIPS_intents_acc.append(SNIPS_intents_test['accuracy'])\n",
        "  SNIPS_slots_f1s.append(SNIPS_results_test['total']['f-measure'])\n",
        "  SNIPS_intent_test_list_third_monodirectional.append(SNIPS_intents_test)\n",
        "  SNIPS_results_test_list_third_monodirectional.append(SNIPS_results_test)\n",
        "\n",
        "  SNIPS_third_monodirectional_cm_slot += cm_slot_third_monodirectional_snips\n",
        "  SNIPS_third_monodirectional_cm_intent += cm_intent_third_monodirectional_snips\n",
        "\n",
        "  print('='*89)\n",
        "  print(i+1,\" run\")\n",
        "  print(\"Intent Acc \",round(SNIPS_intents_test['accuracy'],3),\"\\nSlot F1\",round(SNIPS_results_test['total']['f-measure'],3),\"\\n\")\n",
        "  print('='*89)\n",
        "\n",
        "SNIPS_slots_mean = np.mean(SNIPS_slots_f1s)\n",
        "SNIPS_slots_std = np.std(SNIPS_slots_f1s)\n",
        "SNIPS_intents_mean = np.mean(SNIPS_intents_acc)\n",
        "SNIPS_intents_std = np.std(SNIPS_intents_acc)\n",
        "\n",
        "print('='*89)\n",
        "print('\\nSlot F1 ', round(SNIPS_slots_mean,3), '+-', round(SNIPS_slots_std,3))\n",
        "print('Intent Accuracy ', round(SNIPS_intents_mean,3), '+-', round(SNIPS_intents_std, 3))\n",
        "print('='*89)"
      ]
    },
    {
      "cell_type": "markdown",
      "metadata": {
        "id": "iE-toJsv4vxs"
      },
      "source": [
        "## Bidirectional"
      ]
    },
    {
      "cell_type": "code",
      "execution_count": 51,
      "metadata": {
        "id": "jYRVcli--GBJ"
      },
      "outputs": [],
      "source": [
        "import torch\n",
        "import torch.nn as nn\n",
        "\n",
        "def train_loop_third_bidirectional(data, optimizer, criterion_slots, criterion_intents, model):\n",
        "    model.train()\n",
        "    loss_array = []\n",
        "    for sample in data:\n",
        "        optimizer.zero_grad() # Zeroing the gradient\n",
        "        slots, intent = model(sample['utterances'], sample['slots_len'])\n",
        "        loss_intent = criterion_intents(intent, sample['intents'])\n",
        "        loss_slot = criterion_slots(slots, sample['y_slots'])\n",
        "        weights, _ = torch.sort (nn.functional.softmax(torch. randn (2), dim=-1))\n",
        "        loss = max(loss_intent, loss_slot) * max(weights[0], weights[1]) + min(loss_intent, loss_slot) * min(weights[0], weights[1])\n",
        "        loss_array.append(loss.item())\n",
        "        loss.backward() # Compute the gradient, deleting the computational graph\n",
        "        optimizer.step() # Update the weights\n",
        "    return loss_array\n",
        "\n",
        "def eval_loop_third_bidirectional(data, criterion_slots, criterion_intents, model, lang):\n",
        "    model.eval()\n",
        "    loss_array = []\n",
        "    \n",
        "    ref_intents = []\n",
        "    hyp_intents = []\n",
        "    \n",
        "    ref_slots = []\n",
        "    hyp_slots = []\n",
        "    \n",
        "    with torch.no_grad(): # It used to avoid the creation of computational graph\n",
        "        total_slot_labels = [x for x in range (len(lang.id2slot))]\n",
        "        total_intent_labels = [v for k, v in lang.id2intent.items()]\n",
        "        cm_slot = np.zeros((len(total_slot_labels), len(total_slot_labels)))\n",
        "        cm_intent = np.zeros((len(total_intent_labels), len(total_intent_labels)))\n",
        "        for sample in data:\n",
        "            slots, intents = model(sample['utterances'], sample['slots_len'])\n",
        "            loss_intent = criterion_intents(intents, sample['intents'])\n",
        "            loss_slot = criterion_slots(slots, sample['y_slots'])\n",
        "            loss = loss_intent + loss_slot \n",
        "            loss_array.append(loss.item())\n",
        "            # Intent inference\n",
        "            # Get the highest probable class\n",
        "            out_intents = [lang.id2intent[x] \n",
        "                           for x in torch.argmax(intents, dim=1).tolist()] \n",
        "            gt_intents = [lang.id2intent[x] for x in sample['intents'].tolist()]\n",
        "            ref_intents.extend(gt_intents)\n",
        "            hyp_intents.extend(out_intents)\n",
        "            # Slot inference \n",
        "            output_slots = torch.argmax(slots, dim=1)\n",
        "\n",
        "            ref_int_labels = []\n",
        "            hyp_int_labels = []\n",
        "\n",
        "            for id_seq, seq in enumerate(output_slots):\n",
        "                length = sample['slots_len'].tolist()[id_seq]\n",
        "                utt_ids = sample['utterance'][id_seq][:length].tolist()\n",
        "                gt_ids = sample['y_slots'][id_seq].tolist()\n",
        "                gt_slots = [lang.id2slot[elem] for elem in gt_ids[:length]]\n",
        "                utterance = [lang.id2word[elem] for elem in utt_ids]\n",
        "                to_decode = seq[:length].tolist()\n",
        "                ref_slots.append([(utterance[id_el], elem) for id_el, elem in enumerate(gt_slots)])\n",
        "                tmp_seq = []\n",
        "                for id_el, elem in enumerate(to_decode):\n",
        "                  tmp_seq.append((utterance[id_el], lang.id2slot[elem]))\n",
        "                  ref_int_labels.extend(gt_ids[:length])\n",
        "                  hyp_int_labels.extend(to_decode)\n",
        "                    \n",
        "                hyp_slots.append(tmp_seq)\n",
        "\n",
        "        X = [lang.id2slot[x] for x in ref_int_labels]\n",
        "        Y = [lang.id2slot[x] for x in hyp_int_labels]\n",
        "        labels = [lang.id2slot[x] for x in total_slot_labels]\n",
        "\n",
        "        cm_slot += sklearn.metrics.confusion_matrix(X, Y,labels = labels)\n",
        "        cm_intent += sklearn.metrics.confusion_matrix(ref_intents, hyp_intents,labels = total_intent_labels)\n",
        "    \n",
        "    try:            \n",
        "        results = evaluate(ref_slots, hyp_slots)\n",
        "    except Exception as ex: #if your model predict slot that are not in ref, it gives error\n",
        "        # Sometimes the model predics a class that is not in REF\n",
        "        results = None\n",
        "        \n",
        "    report_intent = classification_report(ref_intents, hyp_intents, \n",
        "                                          zero_division=False, output_dict=True)\n",
        "    \n",
        "    return results, report_intent, loss_array, cm_slot, cm_intent\n",
        "\n"
      ]
    },
    {
      "cell_type": "code",
      "execution_count": 52,
      "metadata": {
        "id": "lWU7Z1as96jN"
      },
      "outputs": [],
      "source": [
        "def train_model_third_bidirectional(dev_loader, train_loader, test_loader, model, lang, criterion_intents, criterion_slots, optimizer):\n",
        "    \n",
        "    n_epochs = 200\n",
        "    patience = 3\n",
        "    losses_train = []\n",
        "    losses_dev = []\n",
        "    sampled_epochs = []\n",
        "    best_f1 = 0\n",
        "    for x in tqdm(range(1,n_epochs)):\n",
        "        loss = train_loop_third_bidirectional(train_loader, optimizer, criterion_slots, criterion_intents, model)\n",
        "        if x % 5 == 0:\n",
        "          sampled_epochs.append(x)\n",
        "          losses_train.append(np.asarray(loss).mean())\n",
        "          results_dev, intent_res, loss_dev, trypl, _ = eval_loop_third_bidirectional(dev_loader, criterion_slots, criterion_intents, model, lang)\n",
        "          losses_dev.append(np.asarray(loss_dev).mean())\n",
        "          if results_dev != None:\n",
        "            f1 = results_dev['total']['f-measure']\n",
        "            acc = intent_res['accuracy']\n",
        "            if f1 > best_f1:\n",
        "                best_f1 = f1\n",
        "            else:\n",
        "                patience -= 1\n",
        "            if patience <= 0: # Early stopping with patience\n",
        "                break # Not nice but it keeps the code clean\n",
        "\n",
        "    results_test, intent_test, _, cm_slot, cm_intent = eval_loop_third_bidirectional(test_loader, criterion_slots, \n",
        "                                            criterion_intents, model, lang)\n",
        "\n",
        "    return results_test, intent_test, sampled_epochs, losses_train, losses_dev, cm_slot, cm_intent  "
      ]
    },
    {
      "cell_type": "markdown",
      "metadata": {
        "id": "XSeYfV7p_dZb"
      },
      "source": [
        "### ATIS"
      ]
    },
    {
      "cell_type": "code",
      "execution_count": 53,
      "metadata": {
        "id": "BXAKga8vKuAl"
      },
      "outputs": [],
      "source": [
        "ATIS_third_bidirectional_cm_slot, ATIS_third_bidirectional_cm_intent = initialize_confusion_matrices(ATIS_lang)"
      ]
    },
    {
      "cell_type": "code",
      "execution_count": 54,
      "metadata": {
        "id": "ILW562mcwq5p",
        "outputId": "90fbb9ae-40d7-4bc3-9c61-b03ee46a0744",
        "colab": {
          "base_uri": "https://localhost:8080/"
        }
      },
      "outputs": [
        {
          "output_type": "stream",
          "name": "stderr",
          "text": [
            "/usr/local/lib/python3.8/dist-packages/torch/nn/modules/rnn.py:67: UserWarning: dropout option adds dropout after all but last recurrent layer, so non-zero dropout expects num_layers greater than 1, but got dropout=0.2 and num_layers=1\n",
            "  warnings.warn(\"dropout option adds dropout after all but last \"\n"
          ]
        }
      ],
      "source": [
        "ATIS_Thirdmodel = AttentionModelIAS(hid_size, ATIS_out_slot, ATIS_out_int, emb_size, ATIS_vocab_len, pad_index=PAD_TOKEN).to(device)\n",
        "ATIS_Thirdmodel.apply(init_weights)\n",
        "\n",
        "ATIS_optimizer = optim.Adam(ATIS_Thirdmodel.parameters(), lr=lr)"
      ]
    },
    {
      "cell_type": "code",
      "execution_count": 55,
      "metadata": {
        "id": "N7cqODWt2A69",
        "outputId": "260fe863-562e-4952-d77e-de5b9702ad0d",
        "colab": {
          "base_uri": "https://localhost:8080/"
        }
      },
      "outputs": [
        {
          "output_type": "stream",
          "name": "stderr",
          "text": [
            " 65%|██████▍   | 129/199 [01:02<00:33,  2.08it/s]\n"
          ]
        },
        {
          "output_type": "stream",
          "name": "stdout",
          "text": [
            "=========================================================================================\n",
            "1  run\n",
            "Intent Acc  0.947 \n",
            "Slot F1 0.941 \n",
            "\n",
            "=========================================================================================\n"
          ]
        },
        {
          "output_type": "stream",
          "name": "stderr",
          "text": [
            " 65%|██████▍   | 129/199 [01:01<00:33,  2.09it/s]\n"
          ]
        },
        {
          "output_type": "stream",
          "name": "stdout",
          "text": [
            "=========================================================================================\n",
            "2  run\n",
            "Intent Acc  0.956 \n",
            "Slot F1 0.944 \n",
            "\n",
            "=========================================================================================\n"
          ]
        },
        {
          "output_type": "stream",
          "name": "stderr",
          "text": [
            " 52%|█████▏    | 104/199 [00:48<00:44,  2.12it/s]\n"
          ]
        },
        {
          "output_type": "stream",
          "name": "stdout",
          "text": [
            "=========================================================================================\n",
            "3  run\n",
            "Intent Acc  0.953 \n",
            "Slot F1 0.944 \n",
            "\n",
            "=========================================================================================\n"
          ]
        },
        {
          "output_type": "stream",
          "name": "stderr",
          "text": [
            " 45%|████▍     | 89/199 [00:42<00:52,  2.08it/s]\n"
          ]
        },
        {
          "output_type": "stream",
          "name": "stdout",
          "text": [
            "=========================================================================================\n",
            "4  run\n",
            "Intent Acc  0.954 \n",
            "Slot F1 0.947 \n",
            "\n",
            "=========================================================================================\n"
          ]
        },
        {
          "output_type": "stream",
          "name": "stderr",
          "text": [
            " 47%|████▋     | 94/199 [00:44<00:50,  2.09it/s]\n"
          ]
        },
        {
          "output_type": "stream",
          "name": "stdout",
          "text": [
            "=========================================================================================\n",
            "5  run\n",
            "Intent Acc  0.951 \n",
            "Slot F1 0.947 \n",
            "\n",
            "=========================================================================================\n",
            "=========================================================================================\n",
            "\n",
            "Slot F1  0.944 +- 0.002\n",
            "Intent Accuracy  0.952 +- 0.003\n",
            "=========================================================================================\n"
          ]
        }
      ],
      "source": [
        "ATIS_slots_f1s, ATIS_intents_acc = [], []\n",
        "ATIS_intent_test_list_third_bidirectional, ATIS_results_test_list_third_bidirectional = [], []\n",
        "for i in range(5):\n",
        "  criterion_slots = nn.CrossEntropyLoss(ignore_index=PAD_TOKEN)#.to(device)\n",
        "  criterion_intents = nn.CrossEntropyLoss()#.to(device)\n",
        "  #ATIS_Firstmodel = ModelIAS(hid_size, ATIS_out_slot, ATIS_out_int, emb_size, ATIS_vocab_len, pad_index=PAD_TOKEN).to(device)\n",
        "  ATIS_Thirdmodel.apply(init_weights)\n",
        "  ATIS_results_test, ATIS_intents_test, ATIS_sampled_epochs, ATIS_losses_train, ATIS_losses_dev, cm_atis_third_bidirectional_slot, cm_atis_third_bidirectional_intent = train_model_third_bidirectional(ATIS_dev_loader,\n",
        "                                                                                                                                        ATIS_train_loader, \n",
        "                                                                                                                                        ATIS_test_loader, \n",
        "                                                                                                                                        ATIS_Thirdmodel,\n",
        "                                                                                                                                        ATIS_lang, \n",
        "                                                                                                                                        criterion_intents, \n",
        "                                                                                                                                        criterion_slots, \n",
        "                                                                                                                                        ATIS_optimizer)\n",
        "\n",
        "  ATIS_intents_acc.append(ATIS_intents_test['accuracy'])\n",
        "  ATIS_slots_f1s.append(ATIS_results_test['total']['f-measure'])\n",
        "  ATIS_intent_test_list_third_bidirectional.append(ATIS_intents_test)\n",
        "  ATIS_results_test_list_third_bidirectional.append(ATIS_results_test)\n",
        "\n",
        "  ATIS_third_bidirectional_cm_slot += cm_atis_third_bidirectional_slot\n",
        "  ATIS_third_bidirectional_cm_intent += cm_atis_third_bidirectional_intent\n",
        "\n",
        "  print('='*89)\n",
        "  print(i+1,\" run\")\n",
        "  print(\"Intent Acc \",round(ATIS_intents_test['accuracy'],3),\"\\nSlot F1\",round(ATIS_results_test['total']['f-measure'],3),\"\\n\")\n",
        "  print('='*89)\n",
        "\n",
        "ATIS_slots_mean = np.mean(ATIS_slots_f1s)\n",
        "ATIS_slots_std = np.std(ATIS_slots_f1s)\n",
        "ATIS_intents_mean = np.mean(ATIS_intents_acc)\n",
        "ATIS_intents_std = np.std(ATIS_intents_acc)\n",
        "\n",
        "print('='*89)\n",
        "print('\\nSlot F1 ', round(ATIS_slots_mean,3), '+-', round(ATIS_slots_std,3))\n",
        "print('Intent Accuracy ', round(ATIS_intents_mean,3), '+-', round(ATIS_intents_std, 3))\n",
        "print('='*89)"
      ]
    },
    {
      "cell_type": "markdown",
      "metadata": {
        "id": "upWAX8r__piY"
      },
      "source": [
        "### SNIPS"
      ]
    },
    {
      "cell_type": "code",
      "execution_count": 56,
      "metadata": {
        "id": "_3SPrZ56J6_Q"
      },
      "outputs": [],
      "source": [
        "SNIPS_third_bidirectional_cm_slot, SNIPS_third_bidirectional_cm_intent = initialize_confusion_matrices(SNIPS_lang)"
      ]
    },
    {
      "cell_type": "code",
      "execution_count": 57,
      "metadata": {
        "id": "9tx_EnrlA8g6",
        "outputId": "c61ce410-f021-4b0a-be94-90a0152e3a7b",
        "colab": {
          "base_uri": "https://localhost:8080/"
        }
      },
      "outputs": [
        {
          "output_type": "stream",
          "name": "stderr",
          "text": [
            "/usr/local/lib/python3.8/dist-packages/torch/nn/modules/rnn.py:67: UserWarning: dropout option adds dropout after all but last recurrent layer, so non-zero dropout expects num_layers greater than 1, but got dropout=0.2 and num_layers=1\n",
            "  warnings.warn(\"dropout option adds dropout after all but last \"\n"
          ]
        }
      ],
      "source": [
        "SNIPS_Thirdmodel = AttentionModelIAS(hid_size, SNIPS_out_slot, SNIPS_out_int, emb_size, SNIPS_vocab_len, pad_index=PAD_TOKEN).to(device)\n",
        "SNIPS_Thirdmodel.apply(init_weights)\n",
        "\n",
        "SNIPS_optimizer = optim.Adam(SNIPS_Thirdmodel.parameters(), lr=lr)"
      ]
    },
    {
      "cell_type": "code",
      "execution_count": 58,
      "metadata": {
        "id": "z-Bkuu4s2CwP",
        "outputId": "67ef77ee-576e-4b99-fd31-b8f284ec9234",
        "colab": {
          "base_uri": "https://localhost:8080/"
        }
      },
      "outputs": [
        {
          "output_type": "stream",
          "name": "stderr",
          "text": [
            " 52%|█████▏    | 104/199 [02:02<01:51,  1.17s/it]\n"
          ]
        },
        {
          "output_type": "stream",
          "name": "stdout",
          "text": [
            "=========================================================================================\n",
            "1  run\n",
            "Intent Acc  0.964 \n",
            "Slot F1 0.881 \n",
            "\n",
            "=========================================================================================\n"
          ]
        },
        {
          "output_type": "stream",
          "name": "stderr",
          "text": [
            " 50%|████▉     | 99/199 [01:54<01:56,  1.16s/it]\n"
          ]
        },
        {
          "output_type": "stream",
          "name": "stdout",
          "text": [
            "=========================================================================================\n",
            "2  run\n",
            "Intent Acc  0.967 \n",
            "Slot F1 0.88 \n",
            "\n",
            "=========================================================================================\n"
          ]
        },
        {
          "output_type": "stream",
          "name": "stderr",
          "text": [
            " 32%|███▏      | 64/199 [01:16<02:40,  1.19s/it]\n"
          ]
        },
        {
          "output_type": "stream",
          "name": "stdout",
          "text": [
            "=========================================================================================\n",
            "3  run\n",
            "Intent Acc  0.96 \n",
            "Slot F1 0.877 \n",
            "\n",
            "=========================================================================================\n"
          ]
        },
        {
          "output_type": "stream",
          "name": "stderr",
          "text": [
            " 27%|██▋       | 54/199 [01:02<02:48,  1.16s/it]\n"
          ]
        },
        {
          "output_type": "stream",
          "name": "stdout",
          "text": [
            "=========================================================================================\n",
            "4  run\n",
            "Intent Acc  0.969 \n",
            "Slot F1 0.877 \n",
            "\n",
            "=========================================================================================\n"
          ]
        },
        {
          "output_type": "stream",
          "name": "stderr",
          "text": [
            " 42%|████▏     | 84/199 [01:36<02:12,  1.15s/it]"
          ]
        },
        {
          "output_type": "stream",
          "name": "stdout",
          "text": [
            "=========================================================================================\n",
            "5  run\n",
            "Intent Acc  0.963 \n",
            "Slot F1 0.884 \n",
            "\n",
            "=========================================================================================\n",
            "=========================================================================================\n",
            "\n",
            "Slot F1  0.88 +- 0.003\n",
            "Intent Accuracy  0.965 +- 0.003\n",
            "=========================================================================================\n"
          ]
        },
        {
          "output_type": "stream",
          "name": "stderr",
          "text": [
            "\n"
          ]
        }
      ],
      "source": [
        "SNIPS_slots_f1s, SNIPS_intents_acc = [], []\n",
        "SNIPS_intent_test_list_third_bidirectional, SNIPS_results_test_list_third_bidirectional = [], []\n",
        "for i in range(5):\n",
        "  criterion_slots = nn.CrossEntropyLoss(ignore_index=PAD_TOKEN)#.to(device)\n",
        "  criterion_intents = nn.CrossEntropyLoss()#.to(device)\n",
        "  #ATIS_Firstmodel = ModelIAS(hid_size, ATIS_out_slot, ATIS_out_int, emb_size, ATIS_vocab_len, pad_index=PAD_TOKEN).to(device)\n",
        "  SNIPS_Thirdmodel.apply(init_weights)\n",
        "  SNIPS_results_test, SNIPS_intents_test, SNIPS_sampled_epochs, SNIPS_losses_train, SNIPS_losses_dev, cm_slot_third_bidirectional_snips, cm_intent_third_bidirectional_snips = train_model_third_bidirectional(SNIPS_dev_loader,\n",
        "                                                                                                                                        SNIPS_train_loader, \n",
        "                                                                                                                                        SNIPS_test_loader, \n",
        "                                                                                                                                        SNIPS_Thirdmodel,\n",
        "                                                                                                                                        SNIPS_lang, \n",
        "                                                                                                                                        criterion_intents, \n",
        "                                                                                                                                        criterion_slots, \n",
        "                                                                                                                                        SNIPS_optimizer)\n",
        "\n",
        "  SNIPS_intents_acc.append(SNIPS_intents_test['accuracy'])\n",
        "  SNIPS_slots_f1s.append(SNIPS_results_test['total']['f-measure'])\n",
        "  SNIPS_intent_test_list_third_bidirectional.append(SNIPS_intents_test)\n",
        "  SNIPS_results_test_list_third_bidirectional.append(SNIPS_results_test)\n",
        "\n",
        "  SNIPS_third_bidirectional_cm_slot += cm_slot_third_bidirectional_snips\n",
        "  SNIPS_third_bidirectional_cm_intent += cm_intent_third_bidirectional_snips\n",
        "\n",
        "  print('='*89)\n",
        "  print(i+1,\" run\")\n",
        "  print(\"Intent Acc \",round(SNIPS_intents_test['accuracy'],3),\"\\nSlot F1\",round(SNIPS_results_test['total']['f-measure'],3),\"\\n\")\n",
        "  print('='*89)\n",
        "\n",
        "SNIPS_slots_mean = np.mean(SNIPS_slots_f1s)\n",
        "SNIPS_slots_std = np.std(SNIPS_slots_f1s)\n",
        "SNIPS_intents_mean = np.mean(SNIPS_intents_acc)\n",
        "SNIPS_intents_std = np.std(SNIPS_intents_acc)\n",
        "\n",
        "print('='*89)\n",
        "print('\\nSlot F1 ', round(SNIPS_slots_mean,3), '+-', round(SNIPS_slots_std,3))\n",
        "print('Intent Accuracy ', round(SNIPS_intents_mean,3), '+-', round(SNIPS_intents_std, 3))\n",
        "print('='*89)"
      ]
    },
    {
      "cell_type": "markdown",
      "metadata": {
        "id": "g0svEqxXFf7u"
      },
      "source": [
        "# Tables"
      ]
    },
    {
      "cell_type": "markdown",
      "metadata": {
        "id": "2y9EIHGQBVlg"
      },
      "source": [
        "## Creating the table"
      ]
    },
    {
      "cell_type": "code",
      "execution_count": 59,
      "metadata": {
        "id": "unpQ6AIaBYu9",
        "outputId": "088303c6-9d03-4978-8edc-665f8fd8aa36",
        "colab": {
          "base_uri": "https://localhost:8080/"
        }
      },
      "outputs": [
        {
          "output_type": "stream",
          "name": "stdout",
          "text": [
            "Accuracy:  0.93505039193729\n"
          ]
        }
      ],
      "source": [
        "ATIS_first_accuracy_intent = ATIS_intent_test_list_first[0].pop('accuracy')\n",
        "print(\"Accuracy: \", ATIS_first_accuracy_intent)"
      ]
    },
    {
      "cell_type": "code",
      "execution_count": 60,
      "metadata": {
        "id": "6GhXx6O53W57",
        "outputId": "5aec5cec-e662-4644-9052-f1683f4e3e13",
        "colab": {
          "base_uri": "https://localhost:8080/"
        }
      },
      "outputs": [
        {
          "output_type": "stream",
          "name": "stdout",
          "text": [
            "Accuracy:  0.9518477043673013\n"
          ]
        }
      ],
      "source": [
        "ATIS_second_accuracy_intent = ATIS_intent_test_list_second[0].pop('accuracy')\n",
        "print(\"Accuracy: \", ATIS_second_accuracy_intent)"
      ]
    },
    {
      "cell_type": "code",
      "execution_count": 61,
      "metadata": {
        "id": "UW_tbW6wMlkP",
        "outputId": "8f61c7b9-59fe-4dde-9d8c-537fcc026de5",
        "colab": {
          "base_uri": "https://localhost:8080/"
        }
      },
      "outputs": [
        {
          "output_type": "stream",
          "name": "stdout",
          "text": [
            "Accuracy:  0.9529675251959686\n"
          ]
        }
      ],
      "source": [
        "ATIS_third_monodirectional_accuracy_intent = ATIS_intent_test_list_third_monodirectional[0].pop('accuracy')\n",
        "print(\"Accuracy: \", ATIS_third_monodirectional_accuracy_intent)"
      ]
    },
    {
      "cell_type": "code",
      "execution_count": 62,
      "metadata": {
        "id": "Xte3LI4fHEax",
        "outputId": "81695514-782e-409d-c456-eef573f885aa",
        "colab": {
          "base_uri": "https://localhost:8080/"
        }
      },
      "outputs": [
        {
          "output_type": "stream",
          "name": "stdout",
          "text": [
            "Accuracy:  0.9473684210526315\n"
          ]
        }
      ],
      "source": [
        "ATIS_third_bidirectional_accuracy_intent = ATIS_intent_test_list_third_bidirectional[0].pop('accuracy')\n",
        "print(\"Accuracy: \", ATIS_third_bidirectional_accuracy_intent)"
      ]
    },
    {
      "cell_type": "code",
      "execution_count": 63,
      "metadata": {
        "id": "qj4kAQrxBhxq",
        "outputId": "17f25a03-f7ee-4cd7-a890-3d4465830fc9",
        "colab": {
          "base_uri": "https://localhost:8080/"
        }
      },
      "outputs": [
        {
          "output_type": "stream",
          "name": "stdout",
          "text": [
            "Accuracy:  0.9628571428571429\n"
          ]
        }
      ],
      "source": [
        "SNIPS_first_accuracy_intent = SNIPS_intent_test_list_first[0].pop('accuracy')\n",
        "print(\"Accuracy: \", SNIPS_first_accuracy_intent)"
      ]
    },
    {
      "cell_type": "code",
      "execution_count": 64,
      "metadata": {
        "id": "iKic7TBk3bIg",
        "outputId": "7a0627f4-6747-420a-8367-ef19038eb440",
        "colab": {
          "base_uri": "https://localhost:8080/"
        }
      },
      "outputs": [
        {
          "output_type": "stream",
          "name": "stdout",
          "text": [
            "Accuracy:  0.96\n"
          ]
        }
      ],
      "source": [
        "SNIPS_second_accuracy_intent = SNIPS_intent_test_list_second[0].pop('accuracy')\n",
        "print(\"Accuracy: \", SNIPS_second_accuracy_intent)"
      ]
    },
    {
      "cell_type": "code",
      "execution_count": 65,
      "metadata": {
        "id": "oJAbl0TAMvJo",
        "outputId": "ccc48f65-d577-4ce2-b027-2464f2c1d932",
        "colab": {
          "base_uri": "https://localhost:8080/"
        }
      },
      "outputs": [
        {
          "output_type": "stream",
          "name": "stdout",
          "text": [
            "Accuracy:  0.9642857142857143\n"
          ]
        }
      ],
      "source": [
        "SNIPS_third_bidirectional_accuracy_intent = SNIPS_intent_test_list_third_bidirectional[0].pop('accuracy')\n",
        "print(\"Accuracy: \", SNIPS_third_bidirectional_accuracy_intent)"
      ]
    },
    {
      "cell_type": "code",
      "execution_count": 66,
      "metadata": {
        "id": "kW-A_NNhHd2z",
        "outputId": "73d4696c-ec5e-4c1e-c426-71f1fe5adedf",
        "colab": {
          "base_uri": "https://localhost:8080/"
        }
      },
      "outputs": [
        {
          "output_type": "stream",
          "name": "stdout",
          "text": [
            "Accuracy:  0.96\n"
          ]
        }
      ],
      "source": [
        "SNIPS_third_monodirectional_accuracy_intent = SNIPS_intent_test_list_third_monodirectional[0].pop('accuracy')\n",
        "print(\"Accuracy: \", SNIPS_third_monodirectional_accuracy_intent)"
      ]
    },
    {
      "cell_type": "markdown",
      "metadata": {
        "id": "r7FhMcpdLnF4"
      },
      "source": [
        "## First Model"
      ]
    },
    {
      "cell_type": "code",
      "execution_count": 67,
      "metadata": {
        "id": "x5BQHZywrcHE"
      },
      "outputs": [],
      "source": [
        "ATIS_x_first = ATIS_intent_test_list_first[0]\n",
        "ATIS_first_sorted_x_best_intent = sorted(ATIS_x_first.items(), key=lambda item: item[1]['f1-score'], reverse=True)\n",
        "ATIS_first_best_intent = {key: value for key, value in ATIS_first_sorted_x_best_intent}\n",
        "ATIS_table_best_first_intent = pd.DataFrame(ATIS_first_best_intent).transpose().head(20)\n",
        "ATIS_table_best_first_intent = ATIS_table_best_first_intent.round(decimals=3)"
      ]
    },
    {
      "cell_type": "code",
      "execution_count": 68,
      "metadata": {
        "id": "RFVma51IrfDI"
      },
      "outputs": [],
      "source": [
        "ATIS_first_sorted_x_worst_intent = sorted(ATIS_x_first.items(), key=lambda item: item[1]['f1-score'], reverse=False)\n",
        "ATIS_first_worst_intent = {key: value for key, value in ATIS_first_sorted_x_worst_intent}\n",
        "ATIS_table_worst_first_intent = pd.DataFrame(ATIS_first_worst_intent).transpose().head(20)\n",
        "ATIS_table_worst_first_intent = ATIS_table_worst_first_intent.round(decimals=3)"
      ]
    },
    {
      "cell_type": "code",
      "execution_count": 69,
      "metadata": {
        "id": "-LbWBP5EKPPR",
        "outputId": "9683a786-c572-4637-979a-1766dee8f8ca",
        "colab": {
          "base_uri": "https://localhost:8080/"
        }
      },
      "outputs": [
        {
          "output_type": "execute_result",
          "data": {
            "text/plain": [
              "(                precision  recall  f1-score  support\n",
              " flight_time         1.000   1.000     1.000      1.0\n",
              " abbreviation        0.971   1.000     0.985     33.0\n",
              " flight              0.944   0.987     0.965    632.0\n",
              " airline             0.927   1.000     0.962     38.0\n",
              " distance            1.000   0.900     0.947     10.0\n",
              " ground_service      0.878   1.000     0.935     36.0\n",
              " airfare             0.902   0.958     0.929     48.0\n",
              " capacity            1.000   0.857     0.923     21.0\n",
              " weighted avg        0.904   0.935     0.917    893.0\n",
              " airport             1.000   0.833     0.909     18.0\n",
              " aircraft            0.778   0.778     0.778      9.0\n",
              " ground_fare         1.000   0.571     0.727      7.0\n",
              " quantity            0.429   1.000     0.600      3.0\n",
              " macro avg           0.566   0.553     0.546    893.0\n",
              " city                0.500   0.167     0.250      6.0\n",
              " airfare+flight      0.000   0.000     0.000      1.0\n",
              " day_name            0.000   0.000     0.000      2.0\n",
              " flight+airfare      0.000   0.000     0.000     12.0\n",
              " flight+airline      0.000   0.000     0.000      1.0\n",
              " flight_no           0.000   0.000     0.000      8.0,\n",
              "                    precision  recall  f1-score  support\n",
              " airfare+flight         0.000   0.000     0.000      1.0\n",
              " day_name               0.000   0.000     0.000      2.0\n",
              " flight+airfare         0.000   0.000     0.000     12.0\n",
              " flight+airline         0.000   0.000     0.000      1.0\n",
              " flight_no              0.000   0.000     0.000      8.0\n",
              " flight_no+airline      0.000   0.000     0.000      1.0\n",
              " meal                   0.000   0.000     0.000      6.0\n",
              " city                   0.500   0.167     0.250      6.0\n",
              " macro avg              0.566   0.553     0.546    893.0\n",
              " quantity               0.429   1.000     0.600      3.0\n",
              " ground_fare            1.000   0.571     0.727      7.0\n",
              " aircraft               0.778   0.778     0.778      9.0\n",
              " airport                1.000   0.833     0.909     18.0\n",
              " weighted avg           0.904   0.935     0.917    893.0\n",
              " capacity               1.000   0.857     0.923     21.0\n",
              " airfare                0.902   0.958     0.929     48.0\n",
              " ground_service         0.878   1.000     0.935     36.0\n",
              " distance               1.000   0.900     0.947     10.0\n",
              " airline                0.927   1.000     0.962     38.0\n",
              " flight                 0.944   0.987     0.965    632.0)"
            ]
          },
          "metadata": {},
          "execution_count": 69
        }
      ],
      "source": [
        "ATIS_table_best_first_intent, ATIS_table_worst_first_intent"
      ]
    },
    {
      "cell_type": "code",
      "execution_count": 70,
      "metadata": {
        "id": "yOWfE1P0rhbn"
      },
      "outputs": [],
      "source": [
        "ATIS_y_first = ATIS_results_test_list_first[0]\n",
        "ATIS_first_sorted_y_best_results = sorted(ATIS_y_first.items(), key=lambda item: item[1]['f-measure'], reverse=True)\n",
        "ATIS_first_best_results = dict(ATIS_first_sorted_y_best_results)\n",
        "ATIS_table_best_first_results = pd.DataFrame.from_dict(ATIS_first_best_results).transpose()\n",
        "ATIS_table_best_first_results = ATIS_table_best_first_results[:20]\n",
        "ATIS_table_best_first_results = ATIS_table_best_first_results.round(decimals=3)"
      ]
    },
    {
      "cell_type": "code",
      "execution_count": 71,
      "metadata": {
        "id": "HOYxJkZfmBHO"
      },
      "outputs": [],
      "source": [
        "ATIS_first_sorted_y_worst_results = sorted(ATIS_y_first.items(), key=lambda item: item[1]['f-measure'], reverse=False)\n",
        "ATIS_first_worst_results = dict(ATIS_first_sorted_y_worst_results)\n",
        "ATIS_table_worst_first_results = pd.DataFrame.from_dict(ATIS_first_worst_results).transpose()\n",
        "ATIS_table_worst_first_results = ATIS_table_worst_first_results[:20]\n",
        "ATIS_table_worst_first_results = ATIS_table_worst_first_results.round(decimals=3)"
      ]
    },
    {
      "cell_type": "code",
      "execution_count": 72,
      "metadata": {
        "id": "sIfA88VSK8DW",
        "outputId": "7b465da3-07da-4ee8-dc63-1032729644be",
        "colab": {
          "base_uri": "https://localhost:8080/"
        }
      },
      "outputs": [
        {
          "output_type": "execute_result",
          "data": {
            "text/plain": [
              "(                           precision  recall  f-measure  support\n",
              " connect                        1.000   1.000      1.000      6.0\n",
              " state_code                     1.000   1.000      1.000      1.0\n",
              " toloc.country_name             1.000   1.000      1.000      1.0\n",
              " toloc.state_code               1.000   1.000      1.000     18.0\n",
              " economy                        1.000   1.000      1.000      6.0\n",
              " arrive_date.date_relative      1.000   1.000      1.000      2.0\n",
              " flight_days                    1.000   1.000      1.000     10.0\n",
              " fromloc.airport_code           1.000   1.000      1.000      5.0\n",
              " fromloc.state_code             1.000   1.000      1.000     23.0\n",
              " flight_stop                    1.000   1.000      1.000     21.0\n",
              " cost_relative                  1.000   0.973      0.986     37.0\n",
              " depart_date.day_name           0.995   0.967      0.981    212.0\n",
              " toloc.city_name                0.959   0.992      0.975    716.0\n",
              " round_trip                     0.973   0.973      0.973     73.0\n",
              " fromloc.city_name              0.968   0.976      0.972    704.0\n",
              " depart_date.date_relative      0.944   1.000      0.971     17.0\n",
              " meal                           0.941   1.000      0.970     16.0\n",
              " depart_time.time_relative      0.984   0.954      0.969     65.0\n",
              " airline_name                   0.933   0.970      0.951    101.0\n",
              " meal_description               1.000   0.900      0.947     10.0,\n",
              "                            precision  recall  f-measure  support\n",
              " booking_class                  1.000   0.000      0.000      1.0\n",
              " airport_code                   0.000   0.000      0.000      9.0\n",
              " state_name                     1.000   0.000      0.000      9.0\n",
              " days_code                      1.000   0.000      0.000      1.0\n",
              " mod                            0.000   0.000      0.000      2.0\n",
              " fare_amount                    0.000   0.000      0.000      2.0\n",
              " return_date.day_name           1.000   0.000      0.000      2.0\n",
              " depart_date.year               1.000   0.000      0.000      3.0\n",
              " return_date.date_relative      0.000   0.000      0.000      3.0\n",
              " flight                         1.000   0.000      0.000      1.0\n",
              " stoploc.airport_code           1.000   0.000      0.000      1.0\n",
              " compartment                    1.000   0.000      0.000      1.0\n",
              " meal_code                      1.000   0.000      0.000      1.0\n",
              " fromloc.airport_name           0.176   0.500      0.261     12.0\n",
              " restriction_code               0.333   0.250      0.286      4.0\n",
              " airport_name                   0.385   0.238      0.294     21.0\n",
              " toloc.airport_name             0.333   0.333      0.333      3.0\n",
              " flight_number                  1.000   0.273      0.429     11.0\n",
              " arrive_date.day_number         0.429   0.500      0.462      6.0\n",
              " arrive_date.month_name         0.500   0.667      0.571      6.0)"
            ]
          },
          "metadata": {},
          "execution_count": 72
        }
      ],
      "source": [
        "ATIS_table_best_first_results, ATIS_table_worst_first_results"
      ]
    },
    {
      "cell_type": "code",
      "execution_count": 73,
      "metadata": {
        "id": "z6uMsqsQ6bAM"
      },
      "outputs": [],
      "source": [
        "SNIPS_x_first = SNIPS_intent_test_list_first[0]\n",
        "SNIPS_first_sorted_x_best_intent = sorted(SNIPS_x_first.items(), key=lambda item: item[1]['f1-score'], reverse=True)\n",
        "SNIPS_first_best_intent = {key: value for key, value in SNIPS_first_sorted_x_best_intent}\n",
        "SNIPS_table_best_first_intent = pd.DataFrame(SNIPS_first_best_intent).transpose().head(20)\n",
        "SNIPS_table_best_first_intent = SNIPS_table_best_first_intent.round(decimals=3)"
      ]
    },
    {
      "cell_type": "code",
      "execution_count": 74,
      "metadata": {
        "id": "rQhzSypFrA1U"
      },
      "outputs": [],
      "source": [
        "SNIPS_first_sorted_x_worst_intent = sorted(SNIPS_x_first.items(), key=lambda item: item[1]['f1-score'], reverse=False)\n",
        "SNIPS_first_worst_intent = {key: value for key, value in SNIPS_first_sorted_x_worst_intent}\n",
        "SNIPS_table_worst_first_intent = pd.DataFrame(SNIPS_first_worst_intent).transpose().head(20)\n",
        "SNIPS_table_worst_first_intent = SNIPS_table_worst_first_intent.round(decimals=3)"
      ]
    },
    {
      "cell_type": "code",
      "execution_count": 75,
      "metadata": {
        "id": "v90qq6WwLDdn",
        "outputId": "52201d07-2689-4197-f016-7222e431f1ec",
        "colab": {
          "base_uri": "https://localhost:8080/"
        }
      },
      "outputs": [
        {
          "output_type": "execute_result",
          "data": {
            "text/plain": [
              "(                      precision  recall  f1-score  support\n",
              " BookRestaurant            0.989   1.000     0.995     92.0\n",
              " RateBook                  1.000   0.988     0.994     80.0\n",
              " AddToPlaylist             0.992   0.984     0.988    124.0\n",
              " GetWeather                0.972   0.990     0.981    104.0\n",
              " macro avg                 0.963   0.965     0.964    700.0\n",
              " weighted avg              0.963   0.963     0.963    700.0\n",
              " PlayMusic                 0.914   0.988     0.950     86.0\n",
              " SearchScreeningEvent      0.943   0.925     0.934    107.0\n",
              " SearchCreativeWork        0.931   0.879     0.904    107.0,\n",
              "                       precision  recall  f1-score  support\n",
              " SearchCreativeWork        0.931   0.879     0.904    107.0\n",
              " SearchScreeningEvent      0.943   0.925     0.934    107.0\n",
              " PlayMusic                 0.914   0.988     0.950     86.0\n",
              " weighted avg              0.963   0.963     0.963    700.0\n",
              " macro avg                 0.963   0.965     0.964    700.0\n",
              " GetWeather                0.972   0.990     0.981    104.0\n",
              " AddToPlaylist             0.992   0.984     0.988    124.0\n",
              " RateBook                  1.000   0.988     0.994     80.0\n",
              " BookRestaurant            0.989   1.000     0.995     92.0)"
            ]
          },
          "metadata": {},
          "execution_count": 75
        }
      ],
      "source": [
        "SNIPS_table_best_first_intent, SNIPS_table_worst_first_intent"
      ]
    },
    {
      "cell_type": "code",
      "execution_count": 76,
      "metadata": {
        "id": "NkWmdqDX6thJ"
      },
      "outputs": [],
      "source": [
        "SNIPS_y_first = SNIPS_results_test_list_first[0]\n",
        "SNIPS_first_sorted_y_best_results = sorted(SNIPS_y_first.items(), key=lambda item: item[1]['f-measure'], reverse=True)\n",
        "SNIPS_first_best_results = dict(SNIPS_first_sorted_y_best_results)\n",
        "SNIPS_table_best_first_results = pd.DataFrame.from_dict(SNIPS_first_best_results).transpose()\n",
        "SNIPS_table_best_first_results = SNIPS_table_best_first_results[:20]\n",
        "SNIPS_table_best_first_results = SNIPS_table_best_first_results.round(decimals=3)"
      ]
    },
    {
      "cell_type": "code",
      "execution_count": 77,
      "metadata": {
        "id": "iob_qiXY7DF5"
      },
      "outputs": [],
      "source": [
        "SNIPS_first_sorted_y_worst_results = sorted(SNIPS_y_first.items(), key=lambda item: item[1]['f-measure'], reverse=False)\n",
        "SNIPS_first_worst_results = dict(SNIPS_first_sorted_y_worst_results)\n",
        "SNIPS_table_worst_first_results = pd.DataFrame.from_dict(SNIPS_first_worst_results).transpose()\n",
        "SNIPS_table_worst_first_results = SNIPS_table_worst_first_results[:20]\n",
        "SNIPS_table_worst_first_results = SNIPS_table_worst_first_results.round(decimals=3)"
      ]
    },
    {
      "cell_type": "code",
      "execution_count": 78,
      "metadata": {
        "id": "v4jUdKOFLKfd",
        "outputId": "c839f48e-3cf9-4b14-9f9b-dab65d435039",
        "colab": {
          "base_uri": "https://localhost:8080/"
        }
      },
      "outputs": [
        {
          "output_type": "execute_result",
          "data": {
            "text/plain": [
              "(                       precision  recall  f-measure  support\n",
              " movie_type                 1.000   1.000      1.000     33.0\n",
              " facility                   1.000   1.000      1.000      3.0\n",
              " rating_unit                1.000   1.000      1.000     40.0\n",
              " current_location           1.000   1.000      1.000     14.0\n",
              " best_rating                1.000   0.977      0.988     43.0\n",
              " year                       0.960   1.000      0.980     24.0\n",
              " music_item                 0.963   0.990      0.976    104.0\n",
              " rating_value               0.975   0.975      0.975     80.0\n",
              " restaurant_type            0.969   0.954      0.961     65.0\n",
              " service                    0.923   1.000      0.960     24.0\n",
              " object_type                0.957   0.963      0.960    162.0\n",
              " object_location_type       0.955   0.955      0.955     22.0\n",
              " party_size_number          0.909   1.000      0.952     50.0\n",
              " sort                       0.889   1.000      0.941     32.0\n",
              " object_select              0.889   1.000      0.941     40.0\n",
              " condition_description      0.929   0.929      0.929     28.0\n",
              " condition_temperature      0.880   0.957      0.917     23.0\n",
              " playlist_owner             0.899   0.886      0.892     70.0\n",
              " spatial_relation           0.867   0.915      0.890     71.0\n",
              " location_name              0.846   0.917      0.880     24.0,\n",
              "                             precision  recall  f-measure  support\n",
              " geographic_poi                  0.105   0.182      0.133     11.0\n",
              " track                           0.100   0.222      0.138      9.0\n",
              " album                           0.154   0.400      0.222     10.0\n",
              " entity_name                     0.288   0.455      0.353     33.0\n",
              " restaurant_name                 0.438   0.467      0.452     15.0\n",
              " movie_name                      0.500   0.596      0.544     47.0\n",
              " object_name                     0.518   0.585      0.550    147.0\n",
              " poi                             0.500   0.625      0.556      8.0\n",
              " party_size_description          0.467   0.700      0.560     10.0\n",
              " cuisine                         0.700   0.500      0.583     14.0\n",
              " genre                           0.600   0.600      0.600      5.0\n",
              " country                         0.700   0.636      0.667     44.0\n",
              " served_dish                     0.667   0.667      0.667     12.0\n",
              " city                            0.580   0.783      0.667     60.0\n",
              " artist                          0.750   0.645      0.693    107.0\n",
              " timeRange                       0.743   0.785      0.764    107.0\n",
              " playlist                        0.750   0.860      0.801    129.0\n",
              " total                           0.772   0.834      0.802   1790.0\n",
              " state                           0.797   0.864      0.829     59.0\n",
              " object_part_of_series_type      0.833   0.909      0.870     11.0)"
            ]
          },
          "metadata": {},
          "execution_count": 78
        }
      ],
      "source": [
        "SNIPS_table_best_first_results, SNIPS_table_worst_first_results"
      ]
    },
    {
      "cell_type": "markdown",
      "metadata": {
        "id": "q-ReDs0WLsr-"
      },
      "source": [
        "## Second model"
      ]
    },
    {
      "cell_type": "code",
      "execution_count": 79,
      "metadata": {
        "id": "Bxzeopvlf5wq"
      },
      "outputs": [],
      "source": [
        "ATIS_x_second = ATIS_intent_test_list_second[0]\n",
        "ATIS_second_sorted_x_best_intent = sorted(ATIS_x_second.items(), key=lambda item: item[1]['f1-score'], reverse=True)\n",
        "ATIS_second_best_intent = {key: value for key, value in ATIS_second_sorted_x_best_intent}\n",
        "ATIS_table_best_second_intent = pd.DataFrame(ATIS_second_best_intent).transpose().head(20)\n",
        "ATIS_table_best_second_intent = ATIS_table_best_second_intent.round(decimals=3)"
      ]
    },
    {
      "cell_type": "code",
      "execution_count": 80,
      "metadata": {
        "id": "2rThwjRVgNtN"
      },
      "outputs": [],
      "source": [
        "ATIS_second_sorted_x_worst_intent = sorted(ATIS_x_second.items(), key=lambda item: item[1]['f1-score'], reverse=False)\n",
        "ATIS_second_worst_intent = {key: value for key, value in ATIS_second_sorted_x_worst_intent}\n",
        "ATIS_table_worst_second_intent = pd.DataFrame(ATIS_second_worst_intent).transpose().head(20)\n",
        "ATIS_table_worst_second_intent = ATIS_table_worst_second_intent.round(decimals=3)"
      ]
    },
    {
      "cell_type": "code",
      "execution_count": 81,
      "metadata": {
        "id": "3AvY1GcEL04s",
        "outputId": "e11d0e8a-6b24-40e2-bfb4-2aa0e7c0318b",
        "colab": {
          "base_uri": "https://localhost:8080/"
        }
      },
      "outputs": [
        {
          "output_type": "execute_result",
          "data": {
            "text/plain": [
              "(                precision  recall  f1-score  support\n",
              " abbreviation        1.000   1.000     1.000     33.0\n",
              " aircraft            1.000   1.000     1.000      9.0\n",
              " flight_time         1.000   1.000     1.000      1.0\n",
              " ground_service      1.000   1.000     1.000     36.0\n",
              " airline             0.974   1.000     0.987     38.0\n",
              " capacity            1.000   0.952     0.976     21.0\n",
              " flight              0.956   0.986     0.970    632.0\n",
              " distance            1.000   0.900     0.947     10.0\n",
              " airport             0.944   0.944     0.944     18.0\n",
              " weighted avg        0.940   0.952     0.942    893.0\n",
              " airfare             0.904   0.979     0.940     48.0\n",
              " ground_fare         1.000   0.857     0.923      7.0\n",
              " macro avg           0.677   0.625     0.627    893.0\n",
              " quantity            0.429   1.000     0.600      3.0\n",
              " flight+airfare      0.833   0.417     0.556     12.0\n",
              " meal                1.000   0.333     0.500      6.0\n",
              " flight_no           0.500   0.125     0.200      8.0\n",
              " airfare+flight      0.000   0.000     0.000      1.0\n",
              " city                0.000   0.000     0.000      6.0\n",
              " day_name            0.000   0.000     0.000      2.0,\n",
              "                    precision  recall  f1-score  support\n",
              " airfare+flight         0.000   0.000     0.000      1.0\n",
              " city                   0.000   0.000     0.000      6.0\n",
              " day_name               0.000   0.000     0.000      2.0\n",
              " flight+airline         0.000   0.000     0.000      1.0\n",
              " flight_no+airline      0.000   0.000     0.000      1.0\n",
              " flight_no              0.500   0.125     0.200      8.0\n",
              " meal                   1.000   0.333     0.500      6.0\n",
              " flight+airfare         0.833   0.417     0.556     12.0\n",
              " quantity               0.429   1.000     0.600      3.0\n",
              " macro avg              0.677   0.625     0.627    893.0\n",
              " ground_fare            1.000   0.857     0.923      7.0\n",
              " airfare                0.904   0.979     0.940     48.0\n",
              " weighted avg           0.940   0.952     0.942    893.0\n",
              " airport                0.944   0.944     0.944     18.0\n",
              " distance               1.000   0.900     0.947     10.0\n",
              " flight                 0.956   0.986     0.970    632.0\n",
              " capacity               1.000   0.952     0.976     21.0\n",
              " airline                0.974   1.000     0.987     38.0\n",
              " abbreviation           1.000   1.000     1.000     33.0\n",
              " aircraft               1.000   1.000     1.000      9.0)"
            ]
          },
          "metadata": {},
          "execution_count": 81
        }
      ],
      "source": [
        "ATIS_table_best_second_intent, ATIS_table_worst_second_intent"
      ]
    },
    {
      "cell_type": "code",
      "execution_count": 82,
      "metadata": {
        "id": "4iX2jF4fmhXQ"
      },
      "outputs": [],
      "source": [
        "ATIS_y_second = ATIS_results_test_list_second[0]\n",
        "ATIS_second_sorted_y_best_results = sorted(ATIS_y_second.items(), key=lambda item: item[1]['f-measure'], reverse=True)\n",
        "ATIS_second_best_results = dict(ATIS_second_sorted_y_best_results)\n",
        "ATIS_table_best_second_results = pd.DataFrame.from_dict(ATIS_second_best_results).transpose()\n",
        "ATIS_table_best_second_results = ATIS_table_best_second_results[:20]\n",
        "ATIS_table_best_second_results = ATIS_table_best_second_results.round(decimals=3)"
      ]
    },
    {
      "cell_type": "code",
      "execution_count": 83,
      "metadata": {
        "id": "U9HyOC7TppeL"
      },
      "outputs": [],
      "source": [
        "ATIS_second_sorted_y_worst_results = sorted(ATIS_y_second.items(), key=lambda item: item[1]['f-measure'], reverse=False)\n",
        "ATIS_second_worst_results = dict(ATIS_second_sorted_y_worst_results)\n",
        "ATIS_table_worst_second_results = pd.DataFrame.from_dict(ATIS_second_worst_results).transpose()\n",
        "ATIS_table_worst_second_results = ATIS_table_worst_second_results[:20]\n",
        "ATIS_table_worst_second_results = ATIS_table_worst_second_results.round(decimals=3)"
      ]
    },
    {
      "cell_type": "code",
      "execution_count": 84,
      "metadata": {
        "id": "aRDeU0CdL5o3",
        "outputId": "0730f796-b745-4762-f887-7fba6fe8c4a5",
        "colab": {
          "base_uri": "https://localhost:8080/"
        }
      },
      "outputs": [
        {
          "output_type": "execute_result",
          "data": {
            "text/plain": [
              "(                           precision  recall  f-measure  support\n",
              " flight_time                    1.000   1.000      1.000      1.0\n",
              " connect                        1.000   1.000      1.000      6.0\n",
              " period_of_day                  1.000   1.000      1.000      4.0\n",
              " state_code                     1.000   1.000      1.000      1.0\n",
              " depart_time.start_time         1.000   1.000      1.000      3.0\n",
              " toloc.country_name             1.000   1.000      1.000      1.0\n",
              " toloc.state_code               1.000   1.000      1.000     18.0\n",
              " economy                        1.000   1.000      1.000      6.0\n",
              " arrive_date.date_relative      1.000   1.000      1.000      2.0\n",
              " depart_time.period_mod         1.000   1.000      1.000      5.0\n",
              " flight_days                    1.000   1.000      1.000     10.0\n",
              " fromloc.airport_code           1.000   1.000      1.000      5.0\n",
              " fromloc.state_code             1.000   1.000      1.000     23.0\n",
              " flight_stop                    1.000   1.000      1.000     21.0\n",
              " depart_date.day_name           0.995   0.986      0.991    212.0\n",
              " fromloc.city_name              0.980   0.997      0.989    704.0\n",
              " cost_relative                  1.000   0.973      0.986     37.0\n",
              " round_trip                     0.986   0.986      0.986     73.0\n",
              " airline_name                   0.971   1.000      0.985    101.0\n",
              " toloc.city_name                0.966   0.997      0.981    716.0,\n",
              "                            precision  recall  f-measure  support\n",
              " booking_class                  1.000   0.000      0.000      1.0\n",
              " state_name                     1.000   0.000      0.000      9.0\n",
              " airport_code                   0.000   0.000      0.000      9.0\n",
              " days_code                      1.000   0.000      0.000      1.0\n",
              " fare_amount                    0.000   0.000      0.000      2.0\n",
              " return_date.day_name           1.000   0.000      0.000      2.0\n",
              " flight                         1.000   0.000      0.000      1.0\n",
              " stoploc.airport_code           1.000   0.000      0.000      1.0\n",
              " compartment                    1.000   0.000      0.000      1.0\n",
              " meal_code                      1.000   0.000      0.000      1.0\n",
              " toloc.airport_name             0.333   0.333      0.333      3.0\n",
              " airport_name                   0.636   0.333      0.437     21.0\n",
              " fromloc.airport_name           0.357   0.833      0.500     12.0\n",
              " depart_date.year               1.000   0.333      0.500      3.0\n",
              " return_date.date_relative      1.000   0.333      0.500      3.0\n",
              " flight_number                  0.800   0.364      0.500     11.0\n",
              " restriction_code               0.667   0.500      0.571      4.0\n",
              " or                             0.429   1.000      0.600      3.0\n",
              " city_name                      0.784   0.509      0.617     57.0\n",
              " day_name                       1.000   0.500      0.667      2.0)"
            ]
          },
          "metadata": {},
          "execution_count": 84
        }
      ],
      "source": [
        "ATIS_table_best_second_results, ATIS_table_worst_second_results"
      ]
    },
    {
      "cell_type": "code",
      "execution_count": 85,
      "metadata": {
        "id": "Wyyx3yXuxYaX"
      },
      "outputs": [],
      "source": [
        "SNIPS_x_second = SNIPS_intent_test_list_second[0]\n",
        "SNIPS_second_sorted_x_best_intent = sorted(SNIPS_x_second.items(), key=lambda item: item[1]['f1-score'], reverse=True)\n",
        "SNIPS_second_best_intent = {key: value for key, value in SNIPS_second_sorted_x_best_intent}\n",
        "SNIPS_table_best_second_intent = pd.DataFrame(SNIPS_second_best_intent).transpose().head(20)\n",
        "SNIPS_table_best_second_intent = SNIPS_table_best_second_intent.round(decimals=3)"
      ]
    },
    {
      "cell_type": "code",
      "execution_count": 86,
      "metadata": {
        "id": "Rn2vbf9BxcOW"
      },
      "outputs": [],
      "source": [
        "SNIPS_second_sorted_x_worst_intent = sorted(SNIPS_x_second.items(), key=lambda item: item[1]['f1-score'], reverse=False)\n",
        "SNIPS_second_worst_intent = {key: value for key, value in SNIPS_second_sorted_x_worst_intent}\n",
        "SNIPS_table_worst_second_intent = pd.DataFrame(SNIPS_second_worst_intent).transpose().head(20)\n",
        "SNIPS_table_worst_second_intent = SNIPS_table_worst_second_intent.round(decimals=3)"
      ]
    },
    {
      "cell_type": "code",
      "execution_count": 87,
      "metadata": {
        "id": "h9AxoBvCL9UU",
        "outputId": "825a3aaa-58e8-4680-933e-116007ff006c",
        "colab": {
          "base_uri": "https://localhost:8080/"
        }
      },
      "outputs": [
        {
          "output_type": "execute_result",
          "data": {
            "text/plain": [
              "(                      precision  recall  f1-score  support\n",
              " RateBook                  1.000   0.988     0.994     80.0\n",
              " AddToPlaylist             0.992   0.992     0.992    124.0\n",
              " BookRestaurant            0.978   0.989     0.984     92.0\n",
              " GetWeather                0.971   0.971     0.971    104.0\n",
              " macro avg                 0.961   0.960     0.960    700.0\n",
              " weighted avg              0.961   0.960     0.960    700.0\n",
              " SearchScreeningEvent      0.970   0.907     0.937    107.0\n",
              " PlayMusic                 0.930   0.930     0.930     86.0\n",
              " SearchCreativeWork        0.886   0.944     0.914    107.0,\n",
              "                       precision  recall  f1-score  support\n",
              " SearchCreativeWork        0.886   0.944     0.914    107.0\n",
              " PlayMusic                 0.930   0.930     0.930     86.0\n",
              " SearchScreeningEvent      0.970   0.907     0.937    107.0\n",
              " weighted avg              0.961   0.960     0.960    700.0\n",
              " macro avg                 0.961   0.960     0.960    700.0\n",
              " GetWeather                0.971   0.971     0.971    104.0\n",
              " BookRestaurant            0.978   0.989     0.984     92.0\n",
              " AddToPlaylist             0.992   0.992     0.992    124.0\n",
              " RateBook                  1.000   0.988     0.994     80.0)"
            ]
          },
          "metadata": {},
          "execution_count": 87
        }
      ],
      "source": [
        "SNIPS_table_best_second_intent, SNIPS_table_worst_second_intent"
      ]
    },
    {
      "cell_type": "code",
      "execution_count": 88,
      "metadata": {
        "id": "PLbLpWShxgFa"
      },
      "outputs": [],
      "source": [
        "SNIPS_y_second = SNIPS_results_test_list_second[0]\n",
        "SNIPS_second_sorted_y_best_results = sorted(SNIPS_y_second.items(), key=lambda item: item[1]['f-measure'], reverse=True)\n",
        "SNIPS_second_best_results = dict(SNIPS_second_sorted_y_best_results)\n",
        "SNIPS_table_best_second_results = pd.DataFrame.from_dict(SNIPS_second_best_results).transpose()\n",
        "SNIPS_table_best_second_results = SNIPS_table_best_second_results[:20]\n",
        "SNIPS_table_best_second_results = SNIPS_table_best_second_results.round(decimals=3)"
      ]
    },
    {
      "cell_type": "code",
      "execution_count": 89,
      "metadata": {
        "id": "bqBTJEKzxjCz"
      },
      "outputs": [],
      "source": [
        "SNIPS_second_sorted_y_worst_results = sorted(SNIPS_y_second.items(), key=lambda item: item[1]['f-measure'], reverse=False)\n",
        "SNIPS_second_worst_results = dict(SNIPS_second_sorted_y_worst_results)\n",
        "SNIPS_table_worst_second_results = pd.DataFrame.from_dict(SNIPS_second_worst_results).transpose()\n",
        "SNIPS_table_worst_second_results = SNIPS_table_worst_second_results[:20]\n",
        "SNIPS_table_worst_second_results = SNIPS_table_worst_second_results.round(decimals=3)"
      ]
    },
    {
      "cell_type": "code",
      "execution_count": 90,
      "metadata": {
        "id": "nqsbSSblMAnO",
        "outputId": "d7531ef7-2a4f-4076-a2d6-3edb8dcbe36d",
        "colab": {
          "base_uri": "https://localhost:8080/"
        }
      },
      "outputs": [
        {
          "output_type": "execute_result",
          "data": {
            "text/plain": [
              "(                       precision  recall  f-measure  support\n",
              " movie_type                 1.000   1.000      1.000     33.0\n",
              " object_select              1.000   1.000      1.000     40.0\n",
              " facility                   1.000   1.000      1.000      3.0\n",
              " rating_unit                1.000   1.000      1.000     40.0\n",
              " condition_description      1.000   1.000      1.000     28.0\n",
              " best_rating                1.000   1.000      1.000     43.0\n",
              " rating_value               1.000   0.988      0.994     80.0\n",
              " playlist_owner             0.986   1.000      0.993     70.0\n",
              " party_size_number          0.980   1.000      0.990     50.0\n",
              " restaurant_type            1.000   0.969      0.984     65.0\n",
              " location_name              1.000   0.958      0.979     24.0\n",
              " object_location_type       0.957   1.000      0.978     22.0\n",
              " music_item                 0.962   0.981      0.971    104.0\n",
              " object_type                0.957   0.969      0.963    162.0\n",
              " current_location           1.000   0.929      0.963     14.0\n",
              " spatial_relation           0.933   0.986      0.959     71.0\n",
              " service                    0.958   0.958      0.958     24.0\n",
              " condition_temperature      0.957   0.957      0.957     23.0\n",
              " state                      0.933   0.949      0.941     59.0\n",
              " sort                       0.886   0.969      0.925     32.0,\n",
              "                             precision  recall  f-measure  support\n",
              " album                           0.091   0.100      0.095     10.0\n",
              " track                           0.250   0.222      0.235      9.0\n",
              " genre                           0.417   1.000      0.588      5.0\n",
              " served_dish                     0.533   0.667      0.593     12.0\n",
              " movie_name                      0.577   0.638      0.606     47.0\n",
              " entity_name                     0.520   0.788      0.627     33.0\n",
              " artist                          0.691   0.626      0.657    107.0\n",
              " restaurant_name                 0.611   0.733      0.667     15.0\n",
              " object_name                     0.641   0.741      0.688    147.0\n",
              " cuisine                         0.889   0.571      0.696     14.0\n",
              " poi                             0.667   0.750      0.706      8.0\n",
              " party_size_description          0.727   0.800      0.762     10.0\n",
              " geographic_poi                  0.818   0.818      0.818     11.0\n",
              " country                         0.822   0.841      0.831     44.0\n",
              " playlist                        0.807   0.876      0.840    129.0\n",
              " object_part_of_series_type      0.833   0.909      0.870     11.0\n",
              " total                           0.853   0.893      0.873   1790.0\n",
              " city                            0.846   0.917      0.880     60.0\n",
              " year                            0.828   1.000      0.906     24.0\n",
              " timeRange                       0.902   0.944      0.922    107.0)"
            ]
          },
          "metadata": {},
          "execution_count": 90
        }
      ],
      "source": [
        "SNIPS_table_best_second_results, SNIPS_table_worst_second_results"
      ]
    },
    {
      "cell_type": "markdown",
      "metadata": {
        "id": "bIakC-v1Nyr4"
      },
      "source": [
        "## Third model"
      ]
    },
    {
      "cell_type": "markdown",
      "metadata": {
        "id": "bdtX7Ta-OD_z"
      },
      "source": [
        "### Monodirectional"
      ]
    },
    {
      "cell_type": "code",
      "execution_count": 91,
      "metadata": {
        "id": "hPjrNyJaN__Y"
      },
      "outputs": [],
      "source": [
        "ATIS_x_third_monodirectional = ATIS_intent_test_list_third_monodirectional[0]\n",
        "ATIS_third_monodirectional_sorted_x_best_intent = sorted(ATIS_x_third_monodirectional.items(), key=lambda item: item[1]['f1-score'], reverse=True)\n",
        "ATIS_third_monodirectional_best_intent = {key: value for key, value in ATIS_third_monodirectional_sorted_x_best_intent}\n",
        "ATIS_table_best_third_monodirectional_intent = pd.DataFrame(ATIS_third_monodirectional_best_intent).transpose().head(20)\n",
        "ATIS_table_best_third_monodirectional_intent = ATIS_table_best_third_monodirectional_intent.round(decimals=3)"
      ]
    },
    {
      "cell_type": "code",
      "execution_count": 92,
      "metadata": {
        "id": "No37XzTfN__a"
      },
      "outputs": [],
      "source": [
        "ATIS_third_monodirectional_sorted_x_worst_intent = sorted(ATIS_x_third_monodirectional.items(), key=lambda item: item[1]['f1-score'], reverse=False)\n",
        "ATIS_third_monodirectional_worst_intent = {key: value for key, value in ATIS_third_monodirectional_sorted_x_worst_intent}\n",
        "ATIS_table_worst_third_monodirectional_intent = pd.DataFrame(ATIS_third_monodirectional_worst_intent).transpose().head(20)\n",
        "ATIS_table_worst_third_monodirectional_intent = ATIS_table_worst_third_monodirectional_intent.round(decimals=3)"
      ]
    },
    {
      "cell_type": "code",
      "execution_count": 93,
      "metadata": {
        "id": "zO2lRUi_N__b",
        "outputId": "73cd6023-fc7d-4d90-f8c1-55f88e166f13",
        "colab": {
          "base_uri": "https://localhost:8080/"
        }
      },
      "outputs": [
        {
          "output_type": "execute_result",
          "data": {
            "text/plain": [
              "(                precision  recall  f1-score  support\n",
              " abbreviation        1.000   1.000     1.000     33.0\n",
              " airline             1.000   1.000     1.000     38.0\n",
              " ground_service      1.000   1.000     1.000     36.0\n",
              " flight              0.959   0.989     0.974    632.0\n",
              " capacity            0.952   0.952     0.952     21.0\n",
              " weighted avg        0.948   0.953     0.947    893.0\n",
              " aircraft            1.000   0.889     0.941      9.0\n",
              " airfare             0.918   0.938     0.928     48.0\n",
              " distance            1.000   0.800     0.889     10.0\n",
              " airport             0.889   0.889     0.889     18.0\n",
              " ground_fare         1.000   0.714     0.833      7.0\n",
              " meal                0.800   0.667     0.727      6.0\n",
              " flight_time         0.500   1.000     0.667      1.0\n",
              " macro avg           0.697   0.642     0.641    893.0\n",
              " quantity            0.429   1.000     0.600      3.0\n",
              " flight+airfare      0.833   0.417     0.556     12.0\n",
              " city                1.000   0.333     0.500      6.0\n",
              " flight_no           0.667   0.250     0.364      8.0\n",
              " airfare+flight      0.000   0.000     0.000      1.0\n",
              " day_name            0.000   0.000     0.000      2.0,\n",
              "                    precision  recall  f1-score  support\n",
              " airfare+flight         0.000   0.000     0.000      1.0\n",
              " day_name               0.000   0.000     0.000      2.0\n",
              " flight+airline         0.000   0.000     0.000      1.0\n",
              " flight_no+airline      0.000   0.000     0.000      1.0\n",
              " flight_no              0.667   0.250     0.364      8.0\n",
              " city                   1.000   0.333     0.500      6.0\n",
              " flight+airfare         0.833   0.417     0.556     12.0\n",
              " quantity               0.429   1.000     0.600      3.0\n",
              " macro avg              0.697   0.642     0.641    893.0\n",
              " flight_time            0.500   1.000     0.667      1.0\n",
              " meal                   0.800   0.667     0.727      6.0\n",
              " ground_fare            1.000   0.714     0.833      7.0\n",
              " airport                0.889   0.889     0.889     18.0\n",
              " distance               1.000   0.800     0.889     10.0\n",
              " airfare                0.918   0.938     0.928     48.0\n",
              " aircraft               1.000   0.889     0.941      9.0\n",
              " weighted avg           0.948   0.953     0.947    893.0\n",
              " capacity               0.952   0.952     0.952     21.0\n",
              " flight                 0.959   0.989     0.974    632.0\n",
              " abbreviation           1.000   1.000     1.000     33.0)"
            ]
          },
          "metadata": {},
          "execution_count": 93
        }
      ],
      "source": [
        "ATIS_table_best_third_monodirectional_intent, ATIS_table_worst_third_monodirectional_intent"
      ]
    },
    {
      "cell_type": "code",
      "execution_count": 94,
      "metadata": {
        "id": "N6OlPOAeN__b"
      },
      "outputs": [],
      "source": [
        "ATIS_y_third_monodirectional = ATIS_results_test_list_third_monodirectional[0]\n",
        "ATIS_third_monodirectional_sorted_y_best_results = sorted(ATIS_y_third_monodirectional.items(), key=lambda item: item[1]['f-measure'], reverse=True)\n",
        "ATIS_third_monodirectional_best_results = dict(ATIS_third_monodirectional_sorted_y_best_results)\n",
        "ATIS_table_best_third_monodirectional_results = pd.DataFrame.from_dict(ATIS_third_monodirectional_best_results).transpose()\n",
        "ATIS_table_best_third_monodirectional_results = ATIS_table_best_third_monodirectional_results[:20]\n",
        "ATIS_table_best_third_monodirectional_results = ATIS_table_best_third_monodirectional_results.round(decimals=3)"
      ]
    },
    {
      "cell_type": "code",
      "execution_count": 95,
      "metadata": {
        "id": "9JwHEZb-N__c"
      },
      "outputs": [],
      "source": [
        "ATIS_third_monodirectional_sorted_y_worst_results = sorted(ATIS_y_third_monodirectional.items(), key=lambda item: item[1]['f-measure'], reverse=False)\n",
        "ATIS_third_monodirectional_worst_results = dict(ATIS_third_monodirectional_sorted_y_worst_results)\n",
        "ATIS_table_worst_third_monodirectional_results = pd.DataFrame.from_dict(ATIS_third_monodirectional_worst_results).transpose()\n",
        "ATIS_table_worst_third_monodirectional_results = ATIS_table_worst_third_monodirectional_results[:20]\n",
        "ATIS_table_worst_third_monodirectional_results = ATIS_table_worst_third_monodirectional_results.round(decimals=3)"
      ]
    },
    {
      "cell_type": "code",
      "execution_count": 96,
      "metadata": {
        "id": "d-aU8X_GN__c",
        "outputId": "ec1810f1-6b43-4ce5-ca51-d55acda564a9",
        "colab": {
          "base_uri": "https://localhost:8080/"
        }
      },
      "outputs": [
        {
          "output_type": "execute_result",
          "data": {
            "text/plain": [
              "(                           precision  recall  f-measure  support\n",
              " flight_time                    1.000   1.000      1.000      1.0\n",
              " connect                        1.000   1.000      1.000      6.0\n",
              " state_code                     1.000   1.000      1.000      1.0\n",
              " depart_time.start_time         1.000   1.000      1.000      3.0\n",
              " toloc.country_name             1.000   1.000      1.000      1.0\n",
              " toloc.state_code               1.000   1.000      1.000     18.0\n",
              " economy                        1.000   1.000      1.000      6.0\n",
              " flight_days                    1.000   1.000      1.000     10.0\n",
              " fromloc.airport_code           1.000   1.000      1.000      5.0\n",
              " fromloc.state_code             1.000   1.000      1.000     23.0\n",
              " flight_stop                    1.000   1.000      1.000     21.0\n",
              " depart_date.day_name           0.995   0.986      0.991    212.0\n",
              " cost_relative                  1.000   0.973      0.986     37.0\n",
              " round_trip                     0.986   0.973      0.979     73.0\n",
              " toloc.city_name                0.965   0.990      0.977    716.0\n",
              " depart_time.time_relative      0.984   0.969      0.977     65.0\n",
              " fromloc.city_name              0.965   0.984      0.975    704.0\n",
              " depart_date.month_name         0.982   0.964      0.973     56.0\n",
              " meal                           0.941   1.000      0.970     16.0\n",
              " airline_name                   0.942   0.970      0.956    101.0,\n",
              "                            precision  recall  f-measure  support\n",
              " period_of_day                  1.000   0.000      0.000      4.0\n",
              " booking_class                  1.000   0.000      0.000      1.0\n",
              " state_name                     1.000   0.000      0.000      9.0\n",
              " airport_code                   1.000   0.000      0.000      9.0\n",
              " days_code                      1.000   0.000      0.000      1.0\n",
              " fare_amount                    0.000   0.000      0.000      2.0\n",
              " return_date.day_name           1.000   0.000      0.000      2.0\n",
              " return_date.date_relative      0.000   0.000      0.000      3.0\n",
              " flight                         1.000   0.000      0.000      1.0\n",
              " stoploc.airport_code           1.000   0.000      0.000      1.0\n",
              " compartment                    1.000   0.000      0.000      1.0\n",
              " meal_code                      1.000   0.000      0.000      1.0\n",
              " depart_time.end_time           0.000   0.000      0.000      3.0\n",
              " fromloc.airport_name           0.143   0.333      0.200     12.0\n",
              " toloc.airport_name             0.167   0.333      0.222      3.0\n",
              " airport_name                   0.417   0.238      0.303     21.0\n",
              " depart_time.period_mod         0.429   0.600      0.500      5.0\n",
              " depart_date.year               1.000   0.333      0.500      3.0\n",
              " city_name                      0.711   0.474      0.568     57.0\n",
              " restriction_code               0.667   0.500      0.571      4.0)"
            ]
          },
          "metadata": {},
          "execution_count": 96
        }
      ],
      "source": [
        "ATIS_table_best_third_monodirectional_results, ATIS_table_worst_third_monodirectional_results"
      ]
    },
    {
      "cell_type": "code",
      "execution_count": 97,
      "metadata": {
        "id": "IIAz7DlyN__c"
      },
      "outputs": [],
      "source": [
        "SNIPS_x_third_monodirectional = SNIPS_intent_test_list_third_monodirectional[0]\n",
        "SNIPS_third_monodirectional_sorted_x_best_intent = sorted(SNIPS_x_third_monodirectional.items(), key=lambda item: item[1]['f1-score'], reverse=True)\n",
        "SNIPS_third_monodirectional_best_intent = {key: value for key, value in SNIPS_third_monodirectional_sorted_x_best_intent}\n",
        "SNIPS_table_best_third_monodirectional_intent = pd.DataFrame(SNIPS_third_monodirectional_best_intent).transpose().head(20)\n",
        "SNIPS_table_best_third_monodirectional_intent = SNIPS_table_best_third_monodirectional_intent.round(decimals=3)"
      ]
    },
    {
      "cell_type": "code",
      "execution_count": 98,
      "metadata": {
        "id": "y39Bq-KsN__d"
      },
      "outputs": [],
      "source": [
        "SNIPS_third_monodirectional_sorted_x_worst_intent = sorted(SNIPS_x_third_monodirectional.items(), key=lambda item: item[1]['f1-score'], reverse=False)\n",
        "SNIPS_third_monodirectional_worst_intent = {key: value for key, value in SNIPS_third_monodirectional_sorted_x_worst_intent}\n",
        "SNIPS_table_worst_third_monodirectional_intent = pd.DataFrame(SNIPS_third_monodirectional_worst_intent).transpose().head(20)\n",
        "SNIPS_table_worst_third_monodirectional_intent = SNIPS_table_worst_third_monodirectional_intent.round(decimals=3)"
      ]
    },
    {
      "cell_type": "code",
      "execution_count": 99,
      "metadata": {
        "id": "DuGZa3vBN__d",
        "outputId": "3ac66cb2-3149-470d-ae0e-e3d2e7ebe434",
        "colab": {
          "base_uri": "https://localhost:8080/"
        }
      },
      "outputs": [
        {
          "output_type": "execute_result",
          "data": {
            "text/plain": [
              "(                      precision  recall  f1-score  support\n",
              " RateBook                  1.000   0.988     0.994     80.0\n",
              " GetWeather                0.972   1.000     0.986    104.0\n",
              " AddToPlaylist             0.976   0.992     0.984    124.0\n",
              " BookRestaurant            0.978   0.978     0.978     92.0\n",
              " macro avg                 0.960   0.961     0.961    700.0\n",
              " weighted avg              0.960   0.960     0.960    700.0\n",
              " PlayMusic                 0.923   0.977     0.949     86.0\n",
              " SearchScreeningEvent      0.952   0.925     0.938    107.0\n",
              " SearchCreativeWork        0.921   0.869     0.894    107.0,\n",
              "                       precision  recall  f1-score  support\n",
              " SearchCreativeWork        0.921   0.869     0.894    107.0\n",
              " SearchScreeningEvent      0.952   0.925     0.938    107.0\n",
              " PlayMusic                 0.923   0.977     0.949     86.0\n",
              " weighted avg              0.960   0.960     0.960    700.0\n",
              " macro avg                 0.960   0.961     0.961    700.0\n",
              " BookRestaurant            0.978   0.978     0.978     92.0\n",
              " AddToPlaylist             0.976   0.992     0.984    124.0\n",
              " GetWeather                0.972   1.000     0.986    104.0\n",
              " RateBook                  1.000   0.988     0.994     80.0)"
            ]
          },
          "metadata": {},
          "execution_count": 99
        }
      ],
      "source": [
        "SNIPS_table_best_third_monodirectional_intent, SNIPS_table_worst_third_monodirectional_intent"
      ]
    },
    {
      "cell_type": "code",
      "execution_count": 100,
      "metadata": {
        "id": "611uAvxzN__d"
      },
      "outputs": [],
      "source": [
        "SNIPS_y_third_monodirectional = SNIPS_results_test_list_third_monodirectional[0]\n",
        "SNIPS_third_monodirectional_sorted_y_best_results = sorted(SNIPS_y_third_monodirectional.items(), key=lambda item: item[1]['f-measure'], reverse=True)\n",
        "SNIPS_third_monodirectional_best_results = dict(SNIPS_third_monodirectional_sorted_y_best_results)\n",
        "SNIPS_table_best_third_monodirectional_results = pd.DataFrame.from_dict(SNIPS_third_monodirectional_best_results).transpose()\n",
        "SNIPS_table_best_third_monodirectional_results = SNIPS_table_best_third_monodirectional_results[:20]\n",
        "SNIPS_table_best_third_monodirectional_results = SNIPS_table_best_third_monodirectional_results.round(decimals=3)"
      ]
    },
    {
      "cell_type": "code",
      "execution_count": 101,
      "metadata": {
        "id": "ju2-dmsON__e"
      },
      "outputs": [],
      "source": [
        "SNIPS_third_monodirectional_sorted_y_worst_results = sorted(SNIPS_y_third_monodirectional.items(), key=lambda item: item[1]['f-measure'], reverse=False)\n",
        "SNIPS_third_monodirectional_worst_results = dict(SNIPS_third_monodirectional_sorted_y_worst_results)\n",
        "SNIPS_table_worst_third_monodirectional_results = pd.DataFrame.from_dict(SNIPS_third_monodirectional_worst_results).transpose()\n",
        "SNIPS_table_worst_third_monodirectional_results = SNIPS_table_worst_third_monodirectional_results[:20]\n",
        "SNIPS_table_worst_third_monodirectional_results = SNIPS_table_worst_third_monodirectional_results.round(decimals=3)"
      ]
    },
    {
      "cell_type": "code",
      "execution_count": 102,
      "metadata": {
        "id": "47tDFrThN__f",
        "outputId": "8fa4a34a-996b-4f58-b40c-124bc3e602d7",
        "colab": {
          "base_uri": "https://localhost:8080/"
        }
      },
      "outputs": [
        {
          "output_type": "execute_result",
          "data": {
            "text/plain": [
              "(                       precision  recall  f-measure  support\n",
              " movie_type                 1.000   1.000      1.000     33.0\n",
              " condition_temperature      1.000   1.000      1.000     23.0\n",
              " facility                   1.000   1.000      1.000      3.0\n",
              " rating_unit                1.000   1.000      1.000     40.0\n",
              " best_rating                1.000   1.000      1.000     43.0\n",
              " condition_description      1.000   0.964      0.982     28.0\n",
              " rating_value               0.975   0.988      0.981     80.0\n",
              " music_item                 0.963   1.000      0.981    104.0\n",
              " service                    1.000   0.958      0.979     24.0\n",
              " current_location           1.000   0.929      0.963     14.0\n",
              " party_size_number          0.926   1.000      0.962     50.0\n",
              " year                       0.923   1.000      0.960     24.0\n",
              " object_location_type       0.955   0.955      0.955     22.0\n",
              " restaurant_type            0.954   0.954      0.954     65.0\n",
              " object_type                0.933   0.951      0.942    162.0\n",
              " sort                       0.912   0.969      0.939     32.0\n",
              " location_name              0.957   0.917      0.936     24.0\n",
              " object_select              0.867   0.975      0.918     40.0\n",
              " playlist_owner             0.877   0.914      0.895     70.0\n",
              " spatial_relation           0.842   0.901      0.871     71.0,\n",
              "                             precision  recall  f-measure  support\n",
              " geographic_poi                  0.077   0.091      0.083     11.0\n",
              " album                           0.125   0.200      0.154     10.0\n",
              " track                           0.125   0.222      0.160      9.0\n",
              " entity_name                     0.355   0.333      0.344     33.0\n",
              " poi                             0.333   0.500      0.400      8.0\n",
              " restaurant_name                 0.400   0.533      0.457     15.0\n",
              " movie_name                      0.429   0.511      0.466     47.0\n",
              " object_name                     0.512   0.592      0.549    147.0\n",
              " genre                           0.750   0.600      0.667      5.0\n",
              " party_size_description          0.571   0.800      0.667     10.0\n",
              " city                            0.608   0.750      0.672     60.0\n",
              " cuisine                         1.000   0.571      0.727     14.0\n",
              " timeRange                       0.683   0.804      0.738    107.0\n",
              " country                         0.767   0.750      0.759     44.0\n",
              " state                           0.703   0.881      0.782     59.0\n",
              " served_dish                     0.688   0.917      0.786     12.0\n",
              " artist                          0.709   0.888      0.788    107.0\n",
              " total                           0.777   0.850      0.812   1790.0\n",
              " playlist                        0.785   0.876      0.828    129.0\n",
              " object_part_of_series_type      0.833   0.909      0.870     11.0)"
            ]
          },
          "metadata": {},
          "execution_count": 102
        }
      ],
      "source": [
        "SNIPS_table_best_third_monodirectional_results, SNIPS_table_worst_third_monodirectional_results"
      ]
    },
    {
      "cell_type": "markdown",
      "metadata": {
        "id": "PRfl7DnITBbU"
      },
      "source": [
        "### Bidirectional"
      ]
    },
    {
      "cell_type": "code",
      "execution_count": 103,
      "metadata": {
        "id": "AaQHw9knTHy-"
      },
      "outputs": [],
      "source": [
        "ATIS_x_third_bidirectional = ATIS_intent_test_list_third_bidirectional[0]\n",
        "ATIS_third_bidirectional_sorted_x_best_intent = sorted(ATIS_x_third_bidirectional.items(), key=lambda item: item[1]['f1-score'], reverse=True)\n",
        "ATIS_third_bidirectional_best_intent = {key: value for key, value in ATIS_third_bidirectional_sorted_x_best_intent}\n",
        "ATIS_table_best_third_bidirectional_intent = pd.DataFrame(ATIS_third_bidirectional_best_intent).transpose().head(20)\n",
        "ATIS_table_best_third_bidirectional_intent = ATIS_table_best_third_bidirectional_intent.round(decimals=3)"
      ]
    },
    {
      "cell_type": "code",
      "execution_count": 104,
      "metadata": {
        "id": "IPAhyhngTHy_"
      },
      "outputs": [],
      "source": [
        "ATIS_third_bidirectional_sorted_x_worst_intent = sorted(ATIS_x_third_bidirectional.items(), key=lambda item: item[1]['f1-score'], reverse=False)\n",
        "ATIS_third_bidirectional_worst_intent = {key: value for key, value in ATIS_third_bidirectional_sorted_x_worst_intent}\n",
        "ATIS_table_worst_third_bidirectional_intent = pd.DataFrame(ATIS_third_bidirectional_worst_intent).transpose().head(20)\n",
        "ATIS_table_worst_third_bidirectional_intent = ATIS_table_worst_third_bidirectional_intent.round(decimals=3)"
      ]
    },
    {
      "cell_type": "code",
      "execution_count": 105,
      "metadata": {
        "id": "s5KSm7NHTHzA",
        "outputId": "c45d77aa-4fae-411a-f0b2-8b5e52f43ad5",
        "colab": {
          "base_uri": "https://localhost:8080/"
        }
      },
      "outputs": [
        {
          "output_type": "execute_result",
          "data": {
            "text/plain": [
              "(                precision  recall  f1-score  support\n",
              " abbreviation        1.000   1.000     1.000     33.0\n",
              " flight_time         1.000   1.000     1.000      1.0\n",
              " airline             1.000   0.974     0.987     38.0\n",
              " capacity            1.000   0.952     0.976     21.0\n",
              " ground_service      0.947   1.000     0.973     36.0\n",
              " flight              0.948   0.991     0.969    632.0\n",
              " airport             1.000   0.889     0.941     18.0\n",
              " weighted avg        0.944   0.947     0.939    893.0\n",
              " airfare             0.918   0.938     0.928     48.0\n",
              " distance            1.000   0.800     0.889     10.0\n",
              " aircraft            1.000   0.778     0.875      9.0\n",
              " ground_fare         1.000   0.714     0.833      7.0\n",
              " meal                1.000   0.500     0.667      6.0\n",
              " macro avg           0.730   0.612     0.631    893.0\n",
              " quantity            0.375   1.000     0.545      3.0\n",
              " city                0.667   0.333     0.444      6.0\n",
              " flight+airfare      0.750   0.250     0.375     12.0\n",
              " flight_no           1.000   0.125     0.222      8.0\n",
              " airfare+flight      0.000   0.000     0.000      1.0\n",
              " day_name            0.000   0.000     0.000      2.0,\n",
              "                    precision  recall  f1-score  support\n",
              " airfare+flight         0.000   0.000     0.000      1.0\n",
              " day_name               0.000   0.000     0.000      2.0\n",
              " flight+airline         0.000   0.000     0.000      1.0\n",
              " flight_no+airline      0.000   0.000     0.000      1.0\n",
              " flight_no              1.000   0.125     0.222      8.0\n",
              " flight+airfare         0.750   0.250     0.375     12.0\n",
              " city                   0.667   0.333     0.444      6.0\n",
              " quantity               0.375   1.000     0.545      3.0\n",
              " macro avg              0.730   0.612     0.631    893.0\n",
              " meal                   1.000   0.500     0.667      6.0\n",
              " ground_fare            1.000   0.714     0.833      7.0\n",
              " aircraft               1.000   0.778     0.875      9.0\n",
              " distance               1.000   0.800     0.889     10.0\n",
              " airfare                0.918   0.938     0.928     48.0\n",
              " weighted avg           0.944   0.947     0.939    893.0\n",
              " airport                1.000   0.889     0.941     18.0\n",
              " flight                 0.948   0.991     0.969    632.0\n",
              " ground_service         0.947   1.000     0.973     36.0\n",
              " capacity               1.000   0.952     0.976     21.0\n",
              " airline                1.000   0.974     0.987     38.0)"
            ]
          },
          "metadata": {},
          "execution_count": 105
        }
      ],
      "source": [
        "ATIS_table_best_third_bidirectional_intent, ATIS_table_worst_third_bidirectional_intent"
      ]
    },
    {
      "cell_type": "code",
      "execution_count": 106,
      "metadata": {
        "id": "fCEfIzZZTHzB"
      },
      "outputs": [],
      "source": [
        "ATIS_y_third_bidirectional = ATIS_results_test_list_third_bidirectional[0]\n",
        "ATIS_third_bidirectional_sorted_y_best_results = sorted(ATIS_y_third_bidirectional.items(), key=lambda item: item[1]['f-measure'], reverse=True)\n",
        "ATIS_third_bidirectional_best_results = dict(ATIS_third_bidirectional_sorted_y_best_results)\n",
        "ATIS_table_best_third_bidirectional_results = pd.DataFrame.from_dict(ATIS_third_bidirectional_best_results).transpose()\n",
        "ATIS_table_best_third_bidirectional_results = ATIS_table_best_third_bidirectional_results[:20]\n",
        "ATIS_table_best_third_bidirectional_results = ATIS_table_best_third_bidirectional_results.round(decimals=3)"
      ]
    },
    {
      "cell_type": "code",
      "execution_count": 107,
      "metadata": {
        "id": "vKuRYEu5THzB"
      },
      "outputs": [],
      "source": [
        "ATIS_third_bidirectional_sorted_y_worst_results = sorted(ATIS_y_third_bidirectional.items(), key=lambda item: item[1]['f-measure'], reverse=False)\n",
        "ATIS_third_bidirectional_worst_results = dict(ATIS_third_bidirectional_sorted_y_worst_results)\n",
        "ATIS_table_worst_third_bidirectional_results = pd.DataFrame.from_dict(ATIS_third_bidirectional_worst_results).transpose()\n",
        "ATIS_table_worst_third_bidirectional_results = ATIS_table_worst_third_bidirectional_results[:20]\n",
        "ATIS_table_worst_third_bidirectional_results = ATIS_table_worst_third_bidirectional_results.round(decimals=3)"
      ]
    },
    {
      "cell_type": "code",
      "execution_count": 108,
      "metadata": {
        "id": "aeVoYtEfTHzB",
        "outputId": "7bb2f298-7740-4a0d-9e12-0d89cd47f4e0",
        "colab": {
          "base_uri": "https://localhost:8080/"
        }
      },
      "outputs": [
        {
          "output_type": "execute_result",
          "data": {
            "text/plain": [
              "(                           precision  recall  f-measure  support\n",
              " flight_time                    1.000   1.000      1.000      1.0\n",
              " connect                        1.000   1.000      1.000      6.0\n",
              " state_code                     1.000   1.000      1.000      1.0\n",
              " toloc.country_name             1.000   1.000      1.000      1.0\n",
              " days_code                      1.000   1.000      1.000      1.0\n",
              " toloc.state_code               1.000   1.000      1.000     18.0\n",
              " economy                        1.000   1.000      1.000      6.0\n",
              " fare_amount                    1.000   1.000      1.000      2.0\n",
              " arrive_date.date_relative      1.000   1.000      1.000      2.0\n",
              " flight_days                    1.000   1.000      1.000     10.0\n",
              " fromloc.airport_code           1.000   1.000      1.000      5.0\n",
              " fromloc.state_code             1.000   1.000      1.000     23.0\n",
              " flight_stop                    1.000   1.000      1.000     21.0\n",
              " cost_relative                  1.000   0.973      0.986     37.0\n",
              " round_trip                     1.000   0.973      0.986     73.0\n",
              " fromloc.city_name              0.974   0.994      0.984    704.0\n",
              " depart_date.day_name           0.990   0.976      0.983    212.0\n",
              " depart_date.month_name         0.966   1.000      0.982     56.0\n",
              " toloc.city_name                0.969   0.994      0.981    716.0\n",
              " airline_name                   0.971   0.990      0.980    101.0,\n",
              "                            precision  recall  f-measure  support\n",
              " period_of_day                  1.000   0.000      0.000      4.0\n",
              " return_time.period_mod         0.000   0.000      0.000      0.0\n",
              " booking_class                  1.000   0.000      0.000      1.0\n",
              " state_name                     1.000   0.000      0.000      9.0\n",
              " return_date.day_name           1.000   0.000      0.000      2.0\n",
              " depart_date.year               1.000   0.000      0.000      3.0\n",
              " flight                         1.000   0.000      0.000      1.0\n",
              " stoploc.airport_code           1.000   0.000      0.000      1.0\n",
              " compartment                    1.000   0.000      0.000      1.0\n",
              " meal_code                      1.000   0.000      0.000      1.0\n",
              " toloc.airport_name             0.250   0.333      0.286      3.0\n",
              " airport_name                   0.500   0.286      0.364     21.0\n",
              " depart_time.start_time         0.500   0.333      0.400      3.0\n",
              " mod                            0.333   0.500      0.400      2.0\n",
              " toloc.airport_code             1.000   0.250      0.400      4.0\n",
              " return_date.date_relative      0.500   0.333      0.400      3.0\n",
              " depart_time.end_time           1.000   0.333      0.500      3.0\n",
              " fromloc.airport_name           0.407   0.917      0.564     12.0\n",
              " airport_code                   0.800   0.444      0.571      9.0\n",
              " restriction_code               0.667   0.500      0.571      4.0)"
            ]
          },
          "metadata": {},
          "execution_count": 108
        }
      ],
      "source": [
        "ATIS_table_best_third_bidirectional_results, ATIS_table_worst_third_bidirectional_results"
      ]
    },
    {
      "cell_type": "code",
      "execution_count": 109,
      "metadata": {
        "id": "nW6KVMaTTHzC"
      },
      "outputs": [],
      "source": [
        "SNIPS_x_third_bidirectional = SNIPS_intent_test_list_third_bidirectional[0]\n",
        "SNIPS_third_bidirectional_sorted_x_best_intent = sorted(SNIPS_x_third_bidirectional.items(), key=lambda item: item[1]['f1-score'], reverse=True)\n",
        "SNIPS_third_bidirectional_best_intent = {key: value for key, value in SNIPS_third_bidirectional_sorted_x_best_intent}\n",
        "SNIPS_table_best_third_bidirectional_intent = pd.DataFrame(SNIPS_third_bidirectional_best_intent).transpose().head(20)\n",
        "SNIPS_table_best_third_bidirectional_intent = SNIPS_table_best_third_bidirectional_intent.round(decimals=3)"
      ]
    },
    {
      "cell_type": "code",
      "execution_count": 110,
      "metadata": {
        "id": "tzpXG_5YTHzC"
      },
      "outputs": [],
      "source": [
        "SNIPS_third_bidirectional_sorted_x_worst_intent = sorted(SNIPS_x_third_bidirectional.items(), key=lambda item: item[1]['f1-score'], reverse=False)\n",
        "SNIPS_third_bidirectional_worst_intent = {key: value for key, value in SNIPS_third_bidirectional_sorted_x_worst_intent}\n",
        "SNIPS_table_worst_third_bidirectional_intent = pd.DataFrame(SNIPS_third_bidirectional_worst_intent).transpose().head(20)\n",
        "SNIPS_table_worst_third_bidirectional_intent = SNIPS_table_worst_third_bidirectional_intent.round(decimals=3)"
      ]
    },
    {
      "cell_type": "code",
      "execution_count": 111,
      "metadata": {
        "id": "rt_avHgRTHzC",
        "outputId": "01ea6f04-1622-4275-af90-7560f69f9945",
        "colab": {
          "base_uri": "https://localhost:8080/"
        }
      },
      "outputs": [
        {
          "output_type": "execute_result",
          "data": {
            "text/plain": [
              "(                      precision  recall  f1-score  support\n",
              " AddToPlaylist             0.992   1.000     0.996    124.0\n",
              " RateBook                  1.000   0.988     0.994     80.0\n",
              " GetWeather                0.990   0.990     0.990    104.0\n",
              " BookRestaurant            0.989   0.967     0.978     92.0\n",
              " macro avg                 0.966   0.965     0.965    700.0\n",
              " weighted avg              0.966   0.964     0.965    700.0\n",
              " PlayMusic                 0.943   0.965     0.954     86.0\n",
              " SearchScreeningEvent      0.980   0.897     0.937    107.0\n",
              " SearchCreativeWork        0.871   0.944     0.906    107.0,\n",
              "                       precision  recall  f1-score  support\n",
              " SearchCreativeWork        0.871   0.944     0.906    107.0\n",
              " SearchScreeningEvent      0.980   0.897     0.937    107.0\n",
              " PlayMusic                 0.943   0.965     0.954     86.0\n",
              " weighted avg              0.966   0.964     0.965    700.0\n",
              " macro avg                 0.966   0.965     0.965    700.0\n",
              " BookRestaurant            0.989   0.967     0.978     92.0\n",
              " GetWeather                0.990   0.990     0.990    104.0\n",
              " RateBook                  1.000   0.988     0.994     80.0\n",
              " AddToPlaylist             0.992   1.000     0.996    124.0)"
            ]
          },
          "metadata": {},
          "execution_count": 111
        }
      ],
      "source": [
        "SNIPS_table_best_third_bidirectional_intent, SNIPS_table_worst_third_bidirectional_intent"
      ]
    },
    {
      "cell_type": "code",
      "execution_count": 112,
      "metadata": {
        "id": "Z5zaWcAoTHzD"
      },
      "outputs": [],
      "source": [
        "SNIPS_y_third_bidirectional = SNIPS_results_test_list_third_bidirectional[0]\n",
        "SNIPS_third_bidirectional_sorted_y_best_results = sorted(SNIPS_y_third_bidirectional.items(), key=lambda item: item[1]['f-measure'], reverse=True)\n",
        "SNIPS_third_bidirectional_best_results = dict(SNIPS_third_bidirectional_sorted_y_best_results)\n",
        "SNIPS_table_best_third_bidirectional_results = pd.DataFrame.from_dict(SNIPS_third_bidirectional_best_results).transpose()\n",
        "SNIPS_table_best_third_bidirectional_results = SNIPS_table_best_third_bidirectional_results[:20]\n",
        "SNIPS_table_best_third_bidirectional_results = SNIPS_table_best_third_bidirectional_results.round(decimals=3)"
      ]
    },
    {
      "cell_type": "code",
      "execution_count": 113,
      "metadata": {
        "id": "HvYJjM8ETHzD"
      },
      "outputs": [],
      "source": [
        "SNIPS_third_bidirectional_sorted_y_worst_results = sorted(SNIPS_y_third_bidirectional.items(), key=lambda item: item[1]['f-measure'], reverse=False)\n",
        "SNIPS_third_bidirectional_worst_results = dict(SNIPS_third_bidirectional_sorted_y_worst_results)\n",
        "SNIPS_table_worst_third_bidirectional_results = pd.DataFrame.from_dict(SNIPS_third_bidirectional_worst_results).transpose()\n",
        "SNIPS_table_worst_third_bidirectional_results = SNIPS_table_worst_third_bidirectional_results[:20]\n",
        "SNIPS_table_worst_third_bidirectional_results = SNIPS_table_worst_third_bidirectional_results.round(decimals=3)"
      ]
    },
    {
      "cell_type": "code",
      "execution_count": 114,
      "metadata": {
        "id": "IDN4mJ-1THzE",
        "outputId": "fa124848-7a69-4237-b2d6-d44abf099a6a",
        "colab": {
          "base_uri": "https://localhost:8080/"
        }
      },
      "outputs": [
        {
          "output_type": "execute_result",
          "data": {
            "text/plain": [
              "(                       precision  recall  f-measure  support\n",
              " movie_type                 1.000   1.000      1.000     33.0\n",
              " location_name              1.000   1.000      1.000     24.0\n",
              " condition_temperature      1.000   1.000      1.000     23.0\n",
              " rating_unit                1.000   1.000      1.000     40.0\n",
              " current_location           1.000   1.000      1.000     14.0\n",
              " object_location_type       1.000   1.000      1.000     22.0\n",
              " best_rating                1.000   1.000      1.000     43.0\n",
              " service                    1.000   1.000      1.000     24.0\n",
              " restaurant_type            1.000   0.985      0.992     65.0\n",
              " party_size_number          1.000   0.980      0.990     50.0\n",
              " rating_value               0.988   0.988      0.988     80.0\n",
              " playlist_owner             0.972   0.986      0.979     70.0\n",
              " music_item                 0.954   0.990      0.972    104.0\n",
              " sort                       0.941   1.000      0.970     32.0\n",
              " condition_description      0.933   1.000      0.966     28.0\n",
              " year                       0.923   1.000      0.960     24.0\n",
              " object_type                0.951   0.957      0.954    162.0\n",
              " object_select              0.909   1.000      0.952     40.0\n",
              " spatial_relation           0.919   0.958      0.938     71.0\n",
              " state                      0.946   0.898      0.922     59.0,\n",
              "                             precision  recall  f-measure  support\n",
              " album                           0.077   0.100      0.087     10.0\n",
              " track                           0.176   0.333      0.231      9.0\n",
              " entity_name                     0.552   0.485      0.516     33.0\n",
              " movie_name                      0.553   0.553      0.553     47.0\n",
              " served_dish                     0.700   0.583      0.636     12.0\n",
              " restaurant_name                 0.611   0.733      0.667     15.0\n",
              " object_name                     0.633   0.762      0.691    147.0\n",
              " cuisine                         0.733   0.786      0.759     14.0\n",
              " poi                             0.857   0.750      0.800      8.0\n",
              " facility                        1.000   0.667      0.800      3.0\n",
              " artist                          0.748   0.888      0.812    107.0\n",
              " party_size_description          0.750   0.900      0.818     10.0\n",
              " object_part_of_series_type      0.769   0.909      0.833     11.0\n",
              " country                         0.826   0.864      0.844     44.0\n",
              " city                            0.821   0.917      0.866     60.0\n",
              " geographic_poi                  0.833   0.909      0.870     11.0\n",
              " playlist                        0.826   0.922      0.872    129.0\n",
              " total                           0.856   0.907      0.881   1790.0\n",
              " genre                           0.833   1.000      0.909      5.0\n",
              " timeRange                       0.893   0.935      0.913    107.0)"
            ]
          },
          "metadata": {},
          "execution_count": 114
        }
      ],
      "source": [
        "SNIPS_table_best_third_bidirectional_results, SNIPS_table_worst_third_bidirectional_results"
      ]
    },
    {
      "cell_type": "markdown",
      "metadata": {
        "id": "rlalmaJPlvvT"
      },
      "source": [
        "# Confusion matrices"
      ]
    },
    {
      "cell_type": "code",
      "execution_count": 115,
      "metadata": {
        "id": "Z3Vum76xluVH"
      },
      "outputs": [],
      "source": [
        "import matplotlib\n",
        "\n",
        "def plot_confusion_matrix(data, label=\"Confusion Matrix\"):\n",
        "    plt.figure(figsize = (10,10))\n",
        "    plt.title(label)\n",
        "    plt.imshow(data, norm = matplotlib.colors.Normalize(vmin = 0, vmax = 255))\n",
        "\n",
        "def advance_plot_confusion_matrix(data, label=\"Confusion Matrix\"):\n",
        "    plt.figure(figsize = (30,30))\n",
        "    plt.title(label)\n",
        "    plt.imshow(data, cmap = 'YlOrRd', norm = matplotlib.colors.Normalize(vmin = 0, vmax = 255))\n",
        "    plt.colorbar()\n",
        "    plt.grid(visible=True)\n",
        "    for i in range(len(data)):\n",
        "        for j in range(len(data)):\n",
        "            plt.text(j, i, data[i][j], ha=\"center\", va=\"center\", color=\"black\")\n"
      ]
    },
    {
      "cell_type": "markdown",
      "metadata": {
        "id": "ixjePtdemDjO"
      },
      "source": [
        "### First model"
      ]
    },
    {
      "cell_type": "code",
      "source": [
        "plot_confusion_matrix(ATIS_first_cm_intent, label=\"Intents\")\n",
        "plot_confusion_matrix(ATIS_first_cm_slot, label=\"Slots\")"
      ],
      "metadata": {
        "id": "k-LFTl_tLDET",
        "outputId": "052c9b72-ebaa-4542-9fcf-9f73ed0efc7e",
        "colab": {
          "base_uri": "https://localhost:8080/",
          "height": 82
        }
      },
      "execution_count": 116,
      "outputs": [
        {
          "output_type": "display_data",
          "data": {
            "text/plain": [
              "<Figure size 720x720 with 1 Axes>"
            ],
            "image/png": "[encoded data removed]"
          },
          "metadata": {
            "needs_background": "light"
          }
        },
        {
          "output_type": "display_data",
          "data": {
            "text/plain": [
              "<Figure size 720x720 with 1 Axes>"
            ],
            "image/png": "[encoded data removed]"
          },
          "metadata": {
            "needs_background": "light"
          }
        }
      ]
    },
    {
      "cell_type": "code",
      "source": [
        "plot_confusion_matrix(SNIPS_first_cm_intent, label=\"Intents\")\n",
        "plot_confusion_matrix(SNIPS_first_cm_slot, label=\"Slots\")"
      ],
      "metadata": {
        "id": "xyQCLM9Qo4ki",
        "colab": {
          "base_uri": "https://localhost:8080/",
          "height": 82
        },
        "outputId": "8544b3ca-6943-4a0d-f24c-3de885e9c7db"
      },
      "execution_count": 117,
      "outputs": [
        {
          "output_type": "display_data",
          "data": {
            "text/plain": [
              "<Figure size 720x720 with 1 Axes>"
            ],
            "image/png": "[encoded data removed]"
          },
          "metadata": {
            "needs_background": "light"
          }
        },
        {
          "output_type": "display_data",
          "data": {
            "text/plain": [
              "<Figure size 720x720 with 1 Axes>"
            ],
            "image/png": "[encoded data removed]"
          },
          "metadata": {
            "needs_background": "light"
          }
        }
      ]
    },
    {
      "cell_type": "markdown",
      "metadata": {
        "id": "ztLmjPL9mhE9"
      },
      "source": [
        "### Second model"
      ]
    },
    {
      "cell_type": "code",
      "source": [
        "plot_confusion_matrix(ATIS_second_cm_intent, label=\"Intents\")\n",
        "plot_confusion_matrix(ATIS_second_cm_slot, label=\"Slots\")"
      ],
      "metadata": {
        "id": "xvUtcbsMmWpH",
        "outputId": "4c0250b3-5fac-422e-cdc7-3d90413f04e0",
        "colab": {
          "base_uri": "https://localhost:8080/",
          "height": 82
        }
      },
      "execution_count": 118,
      "outputs": [
        {
          "output_type": "display_data",
          "data": {
            "text/plain": [
              "<Figure size 720x720 with 1 Axes>"
            ],
            "image/png": "[encoded data removed]"
          },
          "metadata": {
            "needs_background": "light"
          }
        },
        {
          "output_type": "display_data",
          "data": {
            "text/plain": [
              "<Figure size 720x720 with 1 Axes>"
            ],
            "image/png": "[encoded data removed]"
          },
          "metadata": {
            "needs_background": "light"
          }
        }
      ]
    },
    {
      "cell_type": "code",
      "source": [
        "plot_confusion_matrix(SNIPS_second_cm_intent, label=\"Intents\")\n",
        "plot_confusion_matrix(SNIPS_second_cm_slot, label=\"Slots\")"
      ],
      "metadata": {
        "id": "BlWqWVhLl6f9",
        "outputId": "17d9a21a-b045-42ae-8fd8-7b613d5f44a6",
        "colab": {
          "base_uri": "https://localhost:8080/",
          "height": 82
        }
      },
      "execution_count": 119,
      "outputs": [
        {
          "output_type": "display_data",
          "data": {
            "text/plain": [
              "<Figure size 720x720 with 1 Axes>"
            ],
            "image/png": "[encoded data removed]"
          },
          "metadata": {
            "needs_background": "light"
          }
        },
        {
          "output_type": "display_data",
          "data": {
            "text/plain": [
              "<Figure size 720x720 with 1 Axes>"
            ],
            "image/png": "[encoded data removed]"
          },
          "metadata": {
            "needs_background": "light"
          }
        }
      ]
    },
    {
      "cell_type": "markdown",
      "metadata": {
        "id": "A42GRrrlVIOp"
      },
      "source": [
        "## Third model"
      ]
    },
    {
      "cell_type": "markdown",
      "source": [
        "### Monodirectional"
      ],
      "metadata": {
        "id": "0zGXYxDFpFgm"
      }
    },
    {
      "cell_type": "code",
      "source": [
        "plot_confusion_matrix(ATIS_third_monodirectional_cm_intent, label=\"Intents\")\n",
        "plot_confusion_matrix(ATIS_third_monodirectional_cm_slot, label=\"Slots\")"
      ],
      "metadata": {
        "id": "Cc4eHWOIpFgo",
        "colab": {
          "base_uri": "https://localhost:8080/",
          "height": 82
        },
        "outputId": "2f707616-8883-4cbb-ac40-d2537c09a338"
      },
      "execution_count": 120,
      "outputs": [
        {
          "output_type": "display_data",
          "data": {
            "text/plain": [
              "<Figure size 720x720 with 1 Axes>"
            ],
            "image/png": "[encoded data removed]"
          },
          "metadata": {
            "needs_background": "light"
          }
        },
        {
          "output_type": "display_data",
          "data": {
            "text/plain": [
              "<Figure size 720x720 with 1 Axes>"
            ],
            "image/png": "[encoded data removed]"
          },
          "metadata": {
            "needs_background": "light"
          }
        }
      ]
    },
    {
      "cell_type": "code",
      "source": [
        "plot_confusion_matrix(SNIPS_third_monodirectional_cm_intent, label=\"Intents\")\n",
        "plot_confusion_matrix(SNIPS_third_monodirectional_cm_slot, label=\"Slots\")"
      ],
      "metadata": {
        "id": "xxzhDZZVpFgp",
        "colab": {
          "base_uri": "https://localhost:8080/",
          "height": 82
        },
        "outputId": "fc4e91f0-45f6-49bd-bbae-54e9432043f2"
      },
      "execution_count": 121,
      "outputs": [
        {
          "output_type": "display_data",
          "data": {
            "text/plain": [
              "<Figure size 720x720 with 1 Axes>"
            ],
            "image/png": "[encoded data removed]"
          },
          "metadata": {
            "needs_background": "light"
          }
        },
        {
          "output_type": "display_data",
          "data": {
            "text/plain": [
              "<Figure size 720x720 with 1 Axes>"
            ],
            "image/png": "[encoded data removed]"
          },
          "metadata": {
            "needs_background": "light"
          }
        }
      ]
    },
    {
      "cell_type": "markdown",
      "source": [
        "### Bidirectional"
      ],
      "metadata": {
        "id": "-HC89mxdpFgq"
      }
    },
    {
      "cell_type": "code",
      "source": [
        "plot_confusion_matrix(ATIS_third_bidirectional_cm_intent, label=\"Intents\")\n",
        "plot_confusion_matrix(ATIS_third_bidirectional_cm_slot, label=\"Slots\")"
      ],
      "metadata": {
        "id": "3aD0_HzIpFgr",
        "colab": {
          "base_uri": "https://localhost:8080/",
          "height": 82
        },
        "outputId": "b520ae11-decf-47b7-b658-eb22bc773da7"
      },
      "execution_count": 122,
      "outputs": [
        {
          "output_type": "display_data",
          "data": {
            "text/plain": [
              "<Figure size 720x720 with 1 Axes>"
            ],
            "image/png": "[encoded data removed]"
          },
          "metadata": {
            "needs_background": "light"
          }
        },
        {
          "output_type": "display_data",
          "data": {
            "text/plain": [
              "<Figure size 720x720 with 1 Axes>"
            ],
            "image/png": "[encoded data removed]"
          },
          "metadata": {
            "needs_background": "light"
          }
        }
      ]
    },
    {
      "cell_type": "code",
      "source": [
        "plot_confusion_matrix(SNIPS_third_bidirectional_cm_intent, label=\"Intents\")\n",
        "plot_confusion_matrix(SNIPS_third_bidirectional_cm_slot, label=\"Slots\")"
      ],
      "metadata": {
        "id": "3-I1IhH2pFgs",
        "colab": {
          "base_uri": "https://localhost:8080/",
          "height": 82
        },
        "outputId": "0903c59f-d08f-42e4-edbc-0b41896774b3"
      },
      "execution_count": 123,
      "outputs": [
        {
          "output_type": "display_data",
          "data": {
            "text/plain": [
              "<Figure size 720x720 with 1 Axes>"
            ],
            "image/png": "[encoded data removed]"
          },
          "metadata": {
            "needs_background": "light"
          }
        },
        {
          "output_type": "display_data",
          "data": {
            "text/plain": [
              "<Figure size 720x720 with 1 Axes>"
            ],
            "image/png": "[encoded data removed]"
          },
          "metadata": {
            "needs_background": "light"
          }
        }
      ]
    }
  ],
  "metadata": {
    "accelerator": "GPU",
    "colab": {
      "collapsed_sections": [
        "Rl9mtV_Q-bK7",
        "iuryU4ILzPKY",
        "rul8DUzGzU3a",
        "MP4BS9X8c-JF",
        "zn_uXxTA5Dec",
        "iE-toJsv4vxs",
        "g0svEqxXFf7u"
      ],
      "provenance": []
    },
    "gpuClass": "standard",
    "kernelspec": {
      "display_name": "Python 3",
      "name": "python3"
    },
    "language_info": {
      "name": "python"
    }
  },
  "nbformat": 4,
  "nbformat_minor": 0
}